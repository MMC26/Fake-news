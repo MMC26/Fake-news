{
 "cells": [
  {
   "cell_type": "code",
   "execution_count": 524,
   "metadata": {},
   "outputs": [],
   "source": [
    "import pandas as pd\n",
    "df = pd.read_csv('combined_news_dataset.csv')\n"
   ]
  },
  {
   "cell_type": "markdown",
   "metadata": {},
   "source": [
    "Veiem que, en fer el scraping, la data de publicació de les diferents notícies (present a la columna *published*) està expressada en zones horàries diferents i amb un format diferent. Algunes dates estan expressades en UTC (Coordinated Universal Time), mentre que d'altres utilitzen altres zones horàries locals, com l'horari d'Europa o d'Amèrica, que tenen desplaçaments respecte a UTC.\n",
    "\n",
    "Per solucionar aquesta diversitat de formats i zones horàries, transformem totes les dades a UTC(per ser universal) i en format ISO 8601 (`AAAA-MM-DDTHH:mm:ss+00:00`)."
   ]
  },
  {
   "cell_type": "code",
   "execution_count": 525,
   "metadata": {},
   "outputs": [
    {
     "name": "stdout",
     "output_type": "stream",
     "text": [
      "Nombre de dates no convertides: 2\n",
      "Dates que no s'han pogut convertir:\n",
      "848    NaT\n",
      "1838   NaT\n",
      "Name: published, dtype: datetime64[ns, UTC]\n",
      "0          2016-10-26 18:41:00+00:00\n",
      "1   2016-10-29 05:47:11.259000+00:00\n",
      "2   2016-10-30 23:41:49.479000+00:00\n",
      "3          2016-11-01 03:22:00+00:00\n",
      "4          2016-11-01 19:56:00+00:00\n",
      "Name: published, dtype: datetime64[ns, UTC]\n",
      "2591   2024-11-14 22:00:12+00:00\n",
      "2592   2024-11-14 22:00:00+00:00\n",
      "2593   2024-11-14 21:59:09+00:00\n",
      "2594   2024-11-14 21:58:38+00:00\n",
      "2595   2024-11-14 21:54:18+00:00\n",
      "Name: published, dtype: datetime64[ns, UTC]\n"
     ]
    }
   ],
   "source": [
    "from dateutil import parser\n",
    "import numpy as np\n",
    "\n",
    "def parse_date(date_str):\n",
    "    try:\n",
    "        return parser.parse(date_str)\n",
    "    except (ValueError, TypeError):\n",
    "        return None  # Retorna None si la data no es pot convertir\n",
    "\n",
    "df['published'] = df['published'].apply(lambda x: parse_date(x) if pd.notnull(x) else x)\n",
    "\n",
    "num_nat = df['published'].isna().sum()\n",
    "print(f\"Nombre de dates no convertides: {num_nat}\")\n",
    "\n",
    "# Converteix la columna 'published' a un tipus de pandas amb suport de zona horària\n",
    "df['published'] = pd.to_datetime(df['published'], utc=True, errors='coerce')\n",
    "\n",
    "dates_no_convertides = df[df['published'].isna()]['published']\n",
    "print(\"Dates que no s'han pogut convertir:\")\n",
    "print(dates_no_convertides)\n",
    "\n",
    "print(df['published'].head())\n",
    "print(df['published'].tail())"
   ]
  },
  {
   "cell_type": "markdown",
   "metadata": {},
   "source": [
    "També observem que hi ha autors que no són Nans pero que tenen assignat 'No Author' o '-NO AUTHOR-'. Per poder tractar les dades adequadament, assignarem aquests valors com Nans. El mateix amb les notícies sense imatge assignades com 'No Image URL' i amb el títol 'no title', i pel títol i el text [Removed]."
   ]
  },
  {
   "cell_type": "code",
   "execution_count": 526,
   "metadata": {},
   "outputs": [
    {
     "name": "stdout",
     "output_type": "stream",
     "text": [
      "Dates originals que no s'han pogut convertir:\n",
      "848     http://davidduke.com/wp-content/uploads/2014/0...\n",
      "1838    http://theeconomiccollapseblog.com/wp-content/...\n",
      "Name: published, dtype: object\n"
     ]
    }
   ],
   "source": [
    "df_no_conv = pd.read_csv('combined_news_dataset.csv')\n",
    "dates_no_convertides_originals = df_no_conv.loc[[848, 1838], 'published']\n",
    "print(\"Dates originals que no s'han pogut convertir:\")\n",
    "print(dates_no_convertides_originals)\n",
    "#les dates que no s'han pogut convertir és perquè són links"
   ]
  },
  {
   "cell_type": "code",
   "execution_count": 527,
   "metadata": {},
   "outputs": [],
   "source": [
    "\n",
    "df = df.dropna(subset=['published'])"
   ]
  },
  {
   "cell_type": "code",
   "execution_count": 528,
   "metadata": {},
   "outputs": [],
   "source": [
    "#df['author'] = df['author'].replace(['No Author', '-NO AUTHOR-'], np.nan)\n",
    "df['main_img_url'] = df['main_img_url'].replace(['No Image URL'], np.nan)\n",
    "df['title'] = df['title'].replace(['no title', '[Removed]'], np.nan)\n",
    "df['text'] = df['text'].replace(['[Removed]'], np.nan)\n",
    "df['text_without_stopwords'] = df['text_without_stopwords'].replace(['[ Removed ]'], np.nan)"
   ]
  },
  {
   "cell_type": "code",
   "execution_count": 529,
   "metadata": {},
   "outputs": [
    {
     "data": {
      "text/html": [
       "<div>\n",
       "<style scoped>\n",
       "    .dataframe tbody tr th:only-of-type {\n",
       "        vertical-align: middle;\n",
       "    }\n",
       "\n",
       "    .dataframe tbody tr th {\n",
       "        vertical-align: top;\n",
       "    }\n",
       "\n",
       "    .dataframe thead th {\n",
       "        text-align: right;\n",
       "    }\n",
       "</style>\n",
       "<table border=\"1\" class=\"dataframe\">\n",
       "  <thead>\n",
       "    <tr style=\"text-align: right;\">\n",
       "      <th></th>\n",
       "      <th>author</th>\n",
       "      <th>published</th>\n",
       "      <th>title</th>\n",
       "      <th>text</th>\n",
       "      <th>language</th>\n",
       "      <th>site_url</th>\n",
       "      <th>main_img_url</th>\n",
       "      <th>type</th>\n",
       "      <th>label</th>\n",
       "      <th>title_without_stopwords</th>\n",
       "      <th>text_without_stopwords</th>\n",
       "      <th>hasImage</th>\n",
       "    </tr>\n",
       "  </thead>\n",
       "  <tbody>\n",
       "    <tr>\n",
       "      <th>count</th>\n",
       "      <td>2529</td>\n",
       "      <td>2594</td>\n",
       "      <td>2389</td>\n",
       "      <td>2529</td>\n",
       "      <td>2593</td>\n",
       "      <td>2593</td>\n",
       "      <td>2085</td>\n",
       "      <td>2593</td>\n",
       "      <td>2593</td>\n",
       "      <td>2592</td>\n",
       "      <td>2525</td>\n",
       "      <td>2593.000000</td>\n",
       "    </tr>\n",
       "    <tr>\n",
       "      <th>unique</th>\n",
       "      <td>805</td>\n",
       "      <td>NaN</td>\n",
       "      <td>2200</td>\n",
       "      <td>2353</td>\n",
       "      <td>5</td>\n",
       "      <td>499</td>\n",
       "      <td>1606</td>\n",
       "      <td>8</td>\n",
       "      <td>2</td>\n",
       "      <td>2198</td>\n",
       "      <td>2349</td>\n",
       "      <td>NaN</td>\n",
       "    </tr>\n",
       "    <tr>\n",
       "      <th>top</th>\n",
       "      <td>No Author</td>\n",
       "      <td>NaN</td>\n",
       "      <td>newsticker</td>\n",
       "      <td>“There are a lot of blogs and news sites claim...</td>\n",
       "      <td>english</td>\n",
       "      <td>frontpagemag.com</td>\n",
       "      <td>http://conservativeangle.com/wp-content/upload...</td>\n",
       "      <td>bias</td>\n",
       "      <td>Real</td>\n",
       "      <td>title</td>\n",
       "      <td>“ lot blogs news sites claiming understand pol...</td>\n",
       "      <td>NaN</td>\n",
       "    </tr>\n",
       "    <tr>\n",
       "      <th>freq</th>\n",
       "      <td>505</td>\n",
       "      <td>NaN</td>\n",
       "      <td>11</td>\n",
       "      <td>9</td>\n",
       "      <td>2516</td>\n",
       "      <td>100</td>\n",
       "      <td>58</td>\n",
       "      <td>936</td>\n",
       "      <td>1300</td>\n",
       "      <td>187</td>\n",
       "      <td>9</td>\n",
       "      <td>NaN</td>\n",
       "    </tr>\n",
       "    <tr>\n",
       "      <th>mean</th>\n",
       "      <td>NaN</td>\n",
       "      <td>2018-05-22 07:08:40.243757056+00:00</td>\n",
       "      <td>NaN</td>\n",
       "      <td>NaN</td>\n",
       "      <td>NaN</td>\n",
       "      <td>NaN</td>\n",
       "      <td>NaN</td>\n",
       "      <td>NaN</td>\n",
       "      <td>NaN</td>\n",
       "      <td>NaN</td>\n",
       "      <td>NaN</td>\n",
       "      <td>0.803702</td>\n",
       "    </tr>\n",
       "    <tr>\n",
       "      <th>min</th>\n",
       "      <td>NaN</td>\n",
       "      <td>2016-10-26 00:51:00+00:00</td>\n",
       "      <td>NaN</td>\n",
       "      <td>NaN</td>\n",
       "      <td>NaN</td>\n",
       "      <td>NaN</td>\n",
       "      <td>NaN</td>\n",
       "      <td>NaN</td>\n",
       "      <td>NaN</td>\n",
       "      <td>NaN</td>\n",
       "      <td>NaN</td>\n",
       "      <td>0.000000</td>\n",
       "    </tr>\n",
       "    <tr>\n",
       "      <th>25%</th>\n",
       "      <td>NaN</td>\n",
       "      <td>2016-10-27 21:03:15+00:00</td>\n",
       "      <td>NaN</td>\n",
       "      <td>NaN</td>\n",
       "      <td>NaN</td>\n",
       "      <td>NaN</td>\n",
       "      <td>NaN</td>\n",
       "      <td>NaN</td>\n",
       "      <td>NaN</td>\n",
       "      <td>NaN</td>\n",
       "      <td>NaN</td>\n",
       "      <td>1.000000</td>\n",
       "    </tr>\n",
       "    <tr>\n",
       "      <th>50%</th>\n",
       "      <td>NaN</td>\n",
       "      <td>2016-11-01 22:13:02.201499904+00:00</td>\n",
       "      <td>NaN</td>\n",
       "      <td>NaN</td>\n",
       "      <td>NaN</td>\n",
       "      <td>NaN</td>\n",
       "      <td>NaN</td>\n",
       "      <td>NaN</td>\n",
       "      <td>NaN</td>\n",
       "      <td>NaN</td>\n",
       "      <td>NaN</td>\n",
       "      <td>1.000000</td>\n",
       "    </tr>\n",
       "    <tr>\n",
       "      <th>75%</th>\n",
       "      <td>NaN</td>\n",
       "      <td>2016-11-18 18:10:28.578500096+00:00</td>\n",
       "      <td>NaN</td>\n",
       "      <td>NaN</td>\n",
       "      <td>NaN</td>\n",
       "      <td>NaN</td>\n",
       "      <td>NaN</td>\n",
       "      <td>NaN</td>\n",
       "      <td>NaN</td>\n",
       "      <td>NaN</td>\n",
       "      <td>NaN</td>\n",
       "      <td>1.000000</td>\n",
       "    </tr>\n",
       "    <tr>\n",
       "      <th>max</th>\n",
       "      <td>NaN</td>\n",
       "      <td>2024-11-14 23:59:28+00:00</td>\n",
       "      <td>NaN</td>\n",
       "      <td>NaN</td>\n",
       "      <td>NaN</td>\n",
       "      <td>NaN</td>\n",
       "      <td>NaN</td>\n",
       "      <td>NaN</td>\n",
       "      <td>NaN</td>\n",
       "      <td>NaN</td>\n",
       "      <td>NaN</td>\n",
       "      <td>1.000000</td>\n",
       "    </tr>\n",
       "    <tr>\n",
       "      <th>std</th>\n",
       "      <td>NaN</td>\n",
       "      <td>NaN</td>\n",
       "      <td>NaN</td>\n",
       "      <td>NaN</td>\n",
       "      <td>NaN</td>\n",
       "      <td>NaN</td>\n",
       "      <td>NaN</td>\n",
       "      <td>NaN</td>\n",
       "      <td>NaN</td>\n",
       "      <td>NaN</td>\n",
       "      <td>NaN</td>\n",
       "      <td>0.397273</td>\n",
       "    </tr>\n",
       "  </tbody>\n",
       "</table>\n",
       "</div>"
      ],
      "text/plain": [
       "           author                            published       title  \\\n",
       "count        2529                                 2594        2389   \n",
       "unique        805                                  NaN        2200   \n",
       "top     No Author                                  NaN  newsticker   \n",
       "freq          505                                  NaN          11   \n",
       "mean          NaN  2018-05-22 07:08:40.243757056+00:00         NaN   \n",
       "min           NaN            2016-10-26 00:51:00+00:00         NaN   \n",
       "25%           NaN            2016-10-27 21:03:15+00:00         NaN   \n",
       "50%           NaN  2016-11-01 22:13:02.201499904+00:00         NaN   \n",
       "75%           NaN  2016-11-18 18:10:28.578500096+00:00         NaN   \n",
       "max           NaN            2024-11-14 23:59:28+00:00         NaN   \n",
       "std           NaN                                  NaN         NaN   \n",
       "\n",
       "                                                     text language  \\\n",
       "count                                                2529     2593   \n",
       "unique                                               2353        5   \n",
       "top     “There are a lot of blogs and news sites claim...  english   \n",
       "freq                                                    9     2516   \n",
       "mean                                                  NaN      NaN   \n",
       "min                                                   NaN      NaN   \n",
       "25%                                                   NaN      NaN   \n",
       "50%                                                   NaN      NaN   \n",
       "75%                                                   NaN      NaN   \n",
       "max                                                   NaN      NaN   \n",
       "std                                                   NaN      NaN   \n",
       "\n",
       "                site_url                                       main_img_url  \\\n",
       "count               2593                                               2085   \n",
       "unique               499                                               1606   \n",
       "top     frontpagemag.com  http://conservativeangle.com/wp-content/upload...   \n",
       "freq                 100                                                 58   \n",
       "mean                 NaN                                                NaN   \n",
       "min                  NaN                                                NaN   \n",
       "25%                  NaN                                                NaN   \n",
       "50%                  NaN                                                NaN   \n",
       "75%                  NaN                                                NaN   \n",
       "max                  NaN                                                NaN   \n",
       "std                  NaN                                                NaN   \n",
       "\n",
       "        type label title_without_stopwords  \\\n",
       "count   2593  2593                    2592   \n",
       "unique     8     2                    2198   \n",
       "top     bias  Real                   title   \n",
       "freq     936  1300                     187   \n",
       "mean     NaN   NaN                     NaN   \n",
       "min      NaN   NaN                     NaN   \n",
       "25%      NaN   NaN                     NaN   \n",
       "50%      NaN   NaN                     NaN   \n",
       "75%      NaN   NaN                     NaN   \n",
       "max      NaN   NaN                     NaN   \n",
       "std      NaN   NaN                     NaN   \n",
       "\n",
       "                                   text_without_stopwords     hasImage  \n",
       "count                                                2525  2593.000000  \n",
       "unique                                               2349          NaN  \n",
       "top     “ lot blogs news sites claiming understand pol...          NaN  \n",
       "freq                                                    9          NaN  \n",
       "mean                                                  NaN     0.803702  \n",
       "min                                                   NaN     0.000000  \n",
       "25%                                                   NaN     1.000000  \n",
       "50%                                                   NaN     1.000000  \n",
       "75%                                                   NaN     1.000000  \n",
       "max                                                   NaN     1.000000  \n",
       "std                                                   NaN     0.397273  "
      ]
     },
     "execution_count": 529,
     "metadata": {},
     "output_type": "execute_result"
    }
   ],
   "source": [
    "df.describe(include='all')"
   ]
  },
  {
   "cell_type": "code",
   "execution_count": 530,
   "metadata": {},
   "outputs": [
    {
     "name": "stdout",
     "output_type": "stream",
     "text": [
      "['author', 'title', 'text', 'language', 'site_url', 'main_img_url', 'type', 'label', 'title_without_stopwords', 'text_without_stopwords', 'hasImage']\n",
      "author                      2.505783\n",
      "title                       7.902853\n",
      "text                        2.505783\n",
      "language                    0.038551\n",
      "site_url                    0.038551\n",
      "main_img_url               19.622205\n",
      "type                        0.038551\n",
      "label                       0.038551\n",
      "title_without_stopwords     0.077101\n",
      "text_without_stopwords      2.659985\n",
      "hasImage                    0.038551\n",
      "dtype: float64\n"
     ]
    }
   ],
   "source": [
    "#Mirem si hi ha nans (%)\n",
    "nan_columns = df.columns[df.isna().sum()>0].tolist()\n",
    "print (nan_columns)\n",
    "print (df.loc[:,nan_columns].isna().sum()/len(df)*100)"
   ]
  },
  {
   "cell_type": "code",
   "execution_count": 531,
   "metadata": {},
   "outputs": [
    {
     "name": "stdout",
     "output_type": "stream",
     "text": [
      "author                      65\n",
      "published                    0\n",
      "title                      205\n",
      "text                        65\n",
      "language                     1\n",
      "site_url                     1\n",
      "main_img_url               509\n",
      "type                         1\n",
      "label                        1\n",
      "title_without_stopwords      2\n",
      "text_without_stopwords      69\n",
      "hasImage                     1\n",
      "dtype: int64\n"
     ]
    }
   ],
   "source": [
    "#nans(#)\n",
    "print(df.isnull().sum())"
   ]
  },
  {
   "cell_type": "code",
   "execution_count": 532,
   "metadata": {},
   "outputs": [
    {
     "name": "stdout",
     "output_type": "stream",
     "text": [
      "0    0\n",
      "1    0\n",
      "2    0\n",
      "3    0\n",
      "4    0\n",
      "Name: label, dtype: int64\n",
      "[0 1]\n"
     ]
    }
   ],
   "source": [
    "#Convertim Real a 0 i Fake a 1 i eliminem la fila que te un Nan a la columna label\n",
    "df = df.dropna(subset=['label'])\n",
    "\n",
    "df.loc[:, 'label'] = df['label'].map({'Real': 0, 'Fake': 1})\n",
    "df['label'] = df['label'].astype(int)\n",
    "\n",
    "print(df['label'].head())\n",
    "print(df['label'].unique())"
   ]
  },
  {
   "cell_type": "code",
   "execution_count": 533,
   "metadata": {},
   "outputs": [
    {
     "name": "stdout",
     "output_type": "stream",
     "text": [
      "author                      65\n",
      "published                    0\n",
      "title                      205\n",
      "text                        64\n",
      "language                     0\n",
      "site_url                     0\n",
      "main_img_url               508\n",
      "type                         0\n",
      "label                        0\n",
      "title_without_stopwords      1\n",
      "text_without_stopwords      68\n",
      "hasImage                     0\n",
      "dtype: int64\n"
     ]
    }
   ],
   "source": [
    "print(df.isnull().sum())"
   ]
  },
  {
   "cell_type": "markdown",
   "metadata": {},
   "source": [
    "    Eliminem la columna del url de les imatges ja que estan en un format que no es pot obrir i, per tant, no en podem fer cap anàlisi ni aprofitar-les pr a res. També eliminem les files de les notícies que no tenen text."
   ]
  },
  {
   "cell_type": "code",
   "execution_count": 534,
   "metadata": {},
   "outputs": [],
   "source": [
    "df = df.drop(columns=['main_img_url'])\n",
    "\"\"\"df = df.drop(columns=['hasImage'])\"\"\"\n",
    "df = df.dropna(subset=['text'])"
   ]
  },
  {
   "cell_type": "code",
   "execution_count": 535,
   "metadata": {},
   "outputs": [
    {
     "name": "stdout",
     "output_type": "stream",
     "text": [
      "author                      46\n",
      "published                    0\n",
      "title                      186\n",
      "text                         0\n",
      "language                     0\n",
      "site_url                     0\n",
      "type                         0\n",
      "label                        0\n",
      "title_without_stopwords      1\n",
      "text_without_stopwords       4\n",
      "hasImage                     0\n",
      "dtype: int64\n"
     ]
    }
   ],
   "source": [
    "print(df.isnull().sum())"
   ]
  },
  {
   "cell_type": "markdown",
   "metadata": {},
   "source": [
    "Veiem que ja no queden files amb Nans a text però si a text_without_stopwords, així que mirem quines són i quin text tenen assignat. Després, utilitzem aquest text per omplir els Nans de 'text_without_stopwords'."
   ]
  },
  {
   "cell_type": "code",
   "execution_count": 536,
   "metadata": {},
   "outputs": [
    {
     "name": "stdout",
     "output_type": "stream",
     "text": [
      "Files on 'text_without_stopwords' és NaN:\n",
      "Índex: 2046, text_without_stopwords: nan\n",
      "Índex: 2047, text_without_stopwords: nan\n",
      "Índex: 2048, text_without_stopwords: nan\n",
      "Índex: 2049, text_without_stopwords: nan\n"
     ]
    }
   ],
   "source": [
    "nan_texts = df[df['text_without_stopwords'].isna()]\n",
    "\n",
    "print(\"Files on 'text_without_stopwords' és NaN:\")\n",
    "for index, row in nan_texts.iterrows():\n",
    "    print(f\"Índex: {index}, text_without_stopwords: {row['text_without_stopwords']}\")"
   ]
  },
  {
   "cell_type": "code",
   "execution_count": 537,
   "metadata": {},
   "outputs": [
    {
     "name": "stdout",
     "output_type": "stream",
     "text": [
      "Text de les notícies amb 'text_without_stopwords' com NaN:\n",
      "Índex: 2046, Text: good samaritan wearing indian headdress disarms gunman just trying to go get some weed  and saw someone who could use help published  mins ago \n",
      "portland mercury the citys tv news crews were abuzz last night with news that a young man in a native american headdress had disarmed a gunman at the max stop near east burnside and nd \n",
      "according to cops a teen suspect was on the train when he was confronted by an adult man he knew an argument ensued and the teen wound up firing two shots on the train kgw reports the headdressdonning stranger waiting at the max stop who goes by rambo richardson overpowered the gunman took his weapon and held him down \n",
      "richardson on facebook adds to that account in a string of posts and replies richardsonwho says hes a member of the haliwasaponi tribe and hails originally from north carolinasays he was just trying to go get some weed from oregons best meds and saw someone who could use help so i did what i would want someone to do for me\n",
      "Índex: 2047, Text: skype sex scam  a fortune built on shame moroccan boomtown getting rich from men tricked on internet published  mins ago \n",
      "bbc news one night a young palestinian man living abroad fell victim to an online scam involving a web camera and a beautiful woman here samir not his real name tells the story of how he was trapped  and below the bbcs reda el mawy visits the moroccan boomtown where many of the scammers are based \n",
      "warning this story contains descriptions of sexual acts \n",
      "it happened when i was home alone this girl added me on facebook i didnt think it was anything strange  i often get friend requests from old school friends who i dont know well \n",
      "the next day she sends me a message hi how are you i saw your profile and i liked you so i looked at her profile and i mean she was really hot\n",
      "Índex: 2048, Text: posted by eddie while the skyhigh potency may scare some away crystalline provides a surprisingly clean focused and inspired high theres a new kid on the block her name is crystalline and shes from the hash family crystalline hash is the latest craze in the hash community and everyone wants a taste the demand is so high that thca crystalline is going for  a gram in southern california dispensaries  testing in at an astonishing  thc crystalline is officially the strongest hash on the market other concentrates such as ice hash  rosin  and bho range from  thc macro image of thc crystalline photo courtesy of allie beckett cannabis concentrates are known for their variety of textures and forms from shatter to wax to crumble theres something for everyone to enjoy what many extract lovers dont realize is that these various textures develop from the solvent used to make the concentrate and the methods of purging the solvent out of the final product however when thc is reduced to its purest state it crystallizes creating crystal rocks which look very different than any other marijuana concentrate on the market crystalline turns many people off just because of its looks the internet is filled with scornful reviews of its methlike appearance and this criticism is entirely valid but dont judge a book by its cover because cannabis crystalline is the purest form of thc and provides sufficient relief for many patients suffering from debilitating and fatal illnesses and hey its not thcs fault that its a compound with a crystal structure guild extracts a southern california extraction company is the current leader of crystalline production their crystallizing process is kept under lock and key but they claim the ability to make thca crystalline out of any starting material ranging from hydrocarbon extract co extract and ice water concentrate one thing guild extracts has made clear is that they are not using a solvent to create this hash rather they are extracting pure thc from their starting materials you may be wondering what exactly is thca crystalline well before thc is combusted lit on fire or vaporized it sits in its raw acidic form also known as thca thca by itself is completely inactive meaning if it is ingested it will not get you high but it does have an extraordinary amount of medicinal benefits when thca is activated through heat in a process called decarboxylation the acidic carbon atom the a in thca is removed leaving behind the psychoactive thc that so many of us know and love macro image of thc crystalline produced by atom labs photo courtesy of allie beckett now remember this pure thc does not contain terpenes the magical compounds that give cannabis strains their distinctive aroma and flavor profiles while contributing to their therapeutic effects to make up for the lack of flavor guild extracts has become famous for the dip n dab dipping the crystalline concentrate into terpenes extracted from strains like goji og tangie and sherbert while the skyhigh potency may scare some away crystalline provides a surprisingly clean focused and inspired high plus health nuts can rest easy knowing that thca crystalline is completely free of any chemical inputs think butane source\n",
      "Índex: 2049, Text: billion even after they are known to be keeping all supposedly deleted messages in their server well i guess they need to somehow profitprobably selling content to rich blackmailers\n"
     ]
    }
   ],
   "source": [
    "# Filtrar les files on 'text_without_stopwords' és NaN\n",
    "nan_texts = df[df['text_without_stopwords'].isna()]\n",
    "\n",
    "print(\"Text de les notícies amb 'text_without_stopwords' com NaN:\")\n",
    "for index, row in nan_texts.iterrows():\n",
    "    print(f\"Índex: {index}, Text: {row['text']}\")"
   ]
  },
  {
   "cell_type": "code",
   "execution_count": 538,
   "metadata": {},
   "outputs": [
    {
     "name": "stdout",
     "output_type": "stream",
     "text": [
      "Títols de les notícies amb text sense paraules de parada actualitzat:\n"
     ]
    },
    {
     "name": "stderr",
     "output_type": "stream",
     "text": [
      "[nltk_data] Downloading package stopwords to C:\\Users\\Maria\n",
      "[nltk_data]     Muñoz\\AppData\\Roaming\\nltk_data...\n",
      "[nltk_data]   Package stopwords is already up-to-date!\n",
      "[nltk_data] Downloading package punkt to C:\\Users\\Maria\n",
      "[nltk_data]     Muñoz\\AppData\\Roaming\\nltk_data...\n",
      "[nltk_data]   Package punkt is already up-to-date!\n",
      "[nltk_data] Downloading package punkt_tab to C:\\Users\\Maria\n",
      "[nltk_data]     Muñoz\\AppData\\Roaming\\nltk_data...\n",
      "[nltk_data]   Package punkt_tab is already up-to-date!\n"
     ]
    }
   ],
   "source": [
    "import nltk\n",
    "from nltk.corpus import stopwords\n",
    "from nltk.tokenize import word_tokenize\n",
    "\n",
    "nltk.download('stopwords')\n",
    "nltk.download('punkt')\n",
    "nltk.download('punkt_tab')\n",
    "\n",
    "def remove_stopwords(text):\n",
    "    if not isinstance(text, str):\n",
    "        return ''\n",
    "    words = word_tokenize(text.lower()) \n",
    "    stop_words = set(stopwords.words('english'))\n",
    "    filtered_words = [word for word in words if word not in stop_words and word.isalnum()]\n",
    "    return ' '.join(filtered_words)\n",
    "\n",
    "\n",
    "nan_texts = df[df['text_without_stopwords'].isna()]\n",
    "\n",
    "for index, row in nan_texts.iterrows():\n",
    "    processed_text = remove_stopwords(row['text'])\n",
    "    df.at[index, 'text_without_stopwords'] = processed_text \n",
    "\n",
    "print(\"Títols de les notícies amb text sense paraules de parada actualitzat:\")\n",
    "for index, row in df[df['text_without_stopwords'].isna()].iterrows():\n",
    "    print(f\"Índex: {index}, text_without_stopwords: {row['text_without_stopwords']}\")\n",
    "\n"
   ]
  },
  {
   "cell_type": "code",
   "execution_count": 539,
   "metadata": {},
   "outputs": [
    {
     "name": "stdout",
     "output_type": "stream",
     "text": [
      "author                      46\n",
      "published                    0\n",
      "title                      186\n",
      "text                         0\n",
      "language                     0\n",
      "site_url                     0\n",
      "type                         0\n",
      "label                        0\n",
      "title_without_stopwords      1\n",
      "text_without_stopwords       0\n",
      "hasImage                     0\n",
      "dtype: int64\n"
     ]
    }
   ],
   "source": [
    "print(df.isnull().sum())"
   ]
  },
  {
   "cell_type": "code",
   "execution_count": 540,
   "metadata": {},
   "outputs": [
    {
     "name": "stdout",
     "output_type": "stream",
     "text": [
      "Títols sense paraules de parada per a les files amb títol NaN:\n",
      "Índex: 60, title_without_stopwords: title\n",
      "Índex: 61, title_without_stopwords: title\n",
      "Índex: 62, title_without_stopwords: title\n",
      "Índex: 63, title_without_stopwords: title\n",
      "Índex: 64, title_without_stopwords: title\n",
      "Índex: 65, title_without_stopwords: title\n",
      "Índex: 66, title_without_stopwords: title\n",
      "Índex: 67, title_without_stopwords: title\n",
      "Índex: 68, title_without_stopwords: title\n",
      "Índex: 70, title_without_stopwords: title\n",
      "Índex: 71, title_without_stopwords: title\n",
      "Índex: 72, title_without_stopwords: title\n",
      "Índex: 73, title_without_stopwords: title\n",
      "Índex: 74, title_without_stopwords: title\n",
      "Índex: 75, title_without_stopwords: title\n",
      "Índex: 76, title_without_stopwords: title\n",
      "Índex: 77, title_without_stopwords: title\n",
      "Índex: 78, title_without_stopwords: title\n",
      "Índex: 80, title_without_stopwords: title\n",
      "Índex: 82, title_without_stopwords: title\n",
      "Índex: 83, title_without_stopwords: title\n",
      "Índex: 85, title_without_stopwords: title\n",
      "Índex: 87, title_without_stopwords: title\n",
      "Índex: 88, title_without_stopwords: title\n",
      "Índex: 90, title_without_stopwords: title\n",
      "Índex: 91, title_without_stopwords: title\n",
      "Índex: 92, title_without_stopwords: title\n",
      "Índex: 93, title_without_stopwords: title\n",
      "Índex: 94, title_without_stopwords: title\n",
      "Índex: 95, title_without_stopwords: title\n",
      "Índex: 96, title_without_stopwords: title\n",
      "Índex: 97, title_without_stopwords: title\n",
      "Índex: 98, title_without_stopwords: title\n",
      "Índex: 99, title_without_stopwords: title\n",
      "Índex: 100, title_without_stopwords: title\n",
      "Índex: 101, title_without_stopwords: title\n",
      "Índex: 102, title_without_stopwords: title\n",
      "Índex: 103, title_without_stopwords: title\n",
      "Índex: 104, title_without_stopwords: title\n",
      "Índex: 105, title_without_stopwords: title\n",
      "Índex: 107, title_without_stopwords: title\n",
      "Índex: 108, title_without_stopwords: title\n",
      "Índex: 112, title_without_stopwords: title\n",
      "Índex: 113, title_without_stopwords: title\n",
      "Índex: 114, title_without_stopwords: title\n",
      "Índex: 115, title_without_stopwords: title\n",
      "Índex: 116, title_without_stopwords: title\n",
      "Índex: 117, title_without_stopwords: title\n",
      "Índex: 118, title_without_stopwords: title\n",
      "Índex: 119, title_without_stopwords: title\n",
      "Índex: 120, title_without_stopwords: title\n",
      "Índex: 127, title_without_stopwords: title\n",
      "Índex: 128, title_without_stopwords: title\n",
      "Índex: 129, title_without_stopwords: title\n",
      "Índex: 132, title_without_stopwords: title\n",
      "Índex: 133, title_without_stopwords: title\n",
      "Índex: 134, title_without_stopwords: title\n",
      "Índex: 135, title_without_stopwords: title\n",
      "Índex: 136, title_without_stopwords: title\n",
      "Índex: 137, title_without_stopwords: title\n",
      "Índex: 138, title_without_stopwords: title\n",
      "Índex: 139, title_without_stopwords: title\n",
      "Índex: 140, title_without_stopwords: title\n",
      "Índex: 327, title_without_stopwords: title\n",
      "Índex: 328, title_without_stopwords: title\n",
      "Índex: 333, title_without_stopwords: title\n",
      "Índex: 341, title_without_stopwords: title\n",
      "Índex: 343, title_without_stopwords: title\n",
      "Índex: 352, title_without_stopwords: title\n",
      "Índex: 353, title_without_stopwords: title\n",
      "Índex: 356, title_without_stopwords: title\n",
      "Índex: 361, title_without_stopwords: title\n",
      "Índex: 364, title_without_stopwords: title\n",
      "Índex: 373, title_without_stopwords: title\n",
      "Índex: 378, title_without_stopwords: title\n",
      "Índex: 388, title_without_stopwords: title\n",
      "Índex: 391, title_without_stopwords: title\n",
      "Índex: 393, title_without_stopwords: title\n",
      "Índex: 394, title_without_stopwords: title\n",
      "Índex: 1678, title_without_stopwords: aig quadruples limits terrorism insurance billion\n",
      "Índex: 1681, title_without_stopwords: trump warns vote flipping machines\n",
      "Índex: 1691, title_without_stopwords: title\n",
      "Índex: 1692, title_without_stopwords: title\n",
      "Índex: 1693, title_without_stopwords: title\n",
      "Índex: 1694, title_without_stopwords: title\n",
      "Índex: 1695, title_without_stopwords: title\n",
      "Índex: 1696, title_without_stopwords: obsolete\n",
      "Índex: 1697, title_without_stopwords: title\n",
      "Índex: 1699, title_without_stopwords: title\n",
      "Índex: 1700, title_without_stopwords: title\n",
      "Índex: 1701, title_without_stopwords: title\n",
      "Índex: 1702, title_without_stopwords: nintendo cuts fullyear sales operating profit forecasts\n",
      "Índex: 1703, title_without_stopwords: title\n",
      "Índex: 1705, title_without_stopwords: eu states agree caps wholesale roaming charges\n",
      "Índex: 1708, title_without_stopwords: title\n",
      "Índex: 1709, title_without_stopwords: three quarters americans oppose gun control\n",
      "Índex: 1710, title_without_stopwords: wikileaks email clinton operative thinks black voters stupid\n",
      "Índex: 1889, title_without_stopwords: title\n",
      "Índex: 1892, title_without_stopwords: title\n",
      "Índex: 1893, title_without_stopwords: title\n",
      "Índex: 1895, title_without_stopwords: title\n",
      "Índex: 1896, title_without_stopwords: title\n",
      "Índex: 1897, title_without_stopwords: title\n",
      "Índex: 1898, title_without_stopwords: title\n",
      "Índex: 1899, title_without_stopwords: title\n",
      "Índex: 1900, title_without_stopwords: newt gingrich defends donald trump sexual predator accusations\n",
      "Índex: 1901, title_without_stopwords: title\n",
      "Índex: 1902, title_without_stopwords: title\n",
      "Índex: 1903, title_without_stopwords: title\n",
      "Índex: 1905, title_without_stopwords: title\n",
      "Índex: 1906, title_without_stopwords: title\n",
      "Índex: 1907, title_without_stopwords: money laundering scheme exposed proclinton super pacs nonprofits implicated\n",
      "Índex: 1908, title_without_stopwords: title\n",
      "Índex: 1909, title_without_stopwords: years later elizabeth smart realizes kidnapping even worse parents\n",
      "Índex: 1910, title_without_stopwords: title\n",
      "Índex: 1912, title_without_stopwords: title\n",
      "Índex: 1914, title_without_stopwords: title\n",
      "Índex: 1915, title_without_stopwords: wh press secretary says obamas denial clinton server entirely factual\n",
      "Índex: 1916, title_without_stopwords: title\n",
      "Índex: 1917, title_without_stopwords: title\n",
      "Índex: 1918, title_without_stopwords: title\n",
      "Índex: 1920, title_without_stopwords: title\n",
      "Índex: 1921, title_without_stopwords: title\n",
      "Índex: 1922, title_without_stopwords: title\n",
      "Índex: 1923, title_without_stopwords: title\n",
      "Índex: 1924, title_without_stopwords: title\n",
      "Índex: 1925, title_without_stopwords: title\n",
      "Índex: 1926, title_without_stopwords: title\n",
      "Índex: 1927, title_without_stopwords: title\n",
      "Índex: 1928, title_without_stopwords: title\n",
      "Índex: 1929, title_without_stopwords: title\n",
      "Índex: 1930, title_without_stopwords: title\n",
      "Índex: 1931, title_without_stopwords: title\n",
      "Índex: 1932, title_without_stopwords: title\n",
      "Índex: 1933, title_without_stopwords: title\n",
      "Índex: 1934, title_without_stopwords: title\n",
      "Índex: 1935, title_without_stopwords: title\n",
      "Índex: 1936, title_without_stopwords: title\n",
      "Índex: 1937, title_without_stopwords: title\n",
      "Índex: 1938, title_without_stopwords: title\n",
      "Índex: 1939, title_without_stopwords: title\n",
      "Índex: 1940, title_without_stopwords: title\n",
      "Índex: 1941, title_without_stopwords: title\n",
      "Índex: 1942, title_without_stopwords: title\n",
      "Índex: 1943, title_without_stopwords: title\n",
      "Índex: 1944, title_without_stopwords: title\n",
      "Índex: 1945, title_without_stopwords: title\n",
      "Índex: 1946, title_without_stopwords: title\n",
      "Índex: 1947, title_without_stopwords: title\n",
      "Índex: 1948, title_without_stopwords: title\n",
      "Índex: 1949, title_without_stopwords: title\n",
      "Índex: 1950, title_without_stopwords: title\n",
      "Índex: 1951, title_without_stopwords: title\n",
      "Índex: 1952, title_without_stopwords: title\n",
      "Índex: 1953, title_without_stopwords: title\n",
      "Índex: 1954, title_without_stopwords: title\n",
      "Índex: 1955, title_without_stopwords: title\n",
      "Índex: 1956, title_without_stopwords: title\n",
      "Índex: 1957, title_without_stopwords: title\n",
      "Índex: 1958, title_without_stopwords: title\n",
      "Índex: 1959, title_without_stopwords: title\n",
      "Índex: 1960, title_without_stopwords: title\n",
      "Índex: 1961, title_without_stopwords: title\n",
      "Índex: 1962, title_without_stopwords: title\n",
      "Índex: 1963, title_without_stopwords: title\n",
      "Índex: 1964, title_without_stopwords: title\n",
      "Índex: 1965, title_without_stopwords: title\n",
      "Índex: 1966, title_without_stopwords: title\n",
      "Índex: 1967, title_without_stopwords: title\n",
      "Índex: 1968, title_without_stopwords: title\n",
      "Índex: 1969, title_without_stopwords: title\n",
      "Índex: 1970, title_without_stopwords: title\n",
      "Índex: 1971, title_without_stopwords: title\n",
      "Índex: 1972, title_without_stopwords: title\n",
      "Índex: 1973, title_without_stopwords: title\n",
      "Índex: 1974, title_without_stopwords: title\n",
      "Índex: 1975, title_without_stopwords: title\n",
      "Índex: 1976, title_without_stopwords: title\n",
      "Índex: 1977, title_without_stopwords: title\n",
      "Índex: 1978, title_without_stopwords: title\n",
      "Índex: 1979, title_without_stopwords: title\n",
      "Índex: 1980, title_without_stopwords: title\n",
      "Índex: 1981, title_without_stopwords: hillary spy updated info\n",
      "Índex: 1982, title_without_stopwords: flashback jorge cabrera scandal\n",
      "Índex: 1983, title_without_stopwords: ron brown evidence cover\n",
      "Índex: 1984, title_without_stopwords: report voter fraud crash course\n"
     ]
    }
   ],
   "source": [
    "nan_titles = df[df['title'].isna()]\n",
    "\n",
    "# Mostrar els títols sense paraules de parada (de la columna 'title_without_stopwords')\n",
    "print(\"Títols sense paraules de parada per a les files amb títol NaN:\")\n",
    "for index, row in nan_titles.iterrows():\n",
    "    print(f\"Índex: {index}, title_without_stopwords: {row['title_without_stopwords']}\")\n"
   ]
  },
  {
   "cell_type": "markdown",
   "metadata": {},
   "source": [
    "Primer de tot, aquells que tenen com a títol sense stopwords 'title' els assignem com a Nans, ja que prové del 'No title' de la columna 'title' que havíem assignat com Nans. Fem el mateix amb aquelles files que tenen assignat 'nan' en format text. "
   ]
  },
  {
   "cell_type": "code",
   "execution_count": 541,
   "metadata": {},
   "outputs": [],
   "source": [
    "df['title_without_stopwords'] = df['title_without_stopwords'].replace(['title', 'nan'], np.nan)"
   ]
  },
  {
   "cell_type": "code",
   "execution_count": 542,
   "metadata": {},
   "outputs": [
    {
     "name": "stdout",
     "output_type": "stream",
     "text": [
      "Títols sense paraules de parada per a les files amb títol NaN però text processat disponible:\n",
      "Índex: 1678, title_without_stopwords: aig quadruples limits terrorism insurance billion\n",
      "Índex: 1681, title_without_stopwords: trump warns vote flipping machines\n",
      "Índex: 1696, title_without_stopwords: obsolete\n",
      "Índex: 1702, title_without_stopwords: nintendo cuts fullyear sales operating profit forecasts\n",
      "Índex: 1705, title_without_stopwords: eu states agree caps wholesale roaming charges\n",
      "Índex: 1709, title_without_stopwords: three quarters americans oppose gun control\n",
      "Índex: 1710, title_without_stopwords: wikileaks email clinton operative thinks black voters stupid\n",
      "Índex: 1900, title_without_stopwords: newt gingrich defends donald trump sexual predator accusations\n",
      "Índex: 1907, title_without_stopwords: money laundering scheme exposed proclinton super pacs nonprofits implicated\n",
      "Índex: 1909, title_without_stopwords: years later elizabeth smart realizes kidnapping even worse parents\n",
      "Índex: 1915, title_without_stopwords: wh press secretary says obamas denial clinton server entirely factual\n",
      "Índex: 1981, title_without_stopwords: hillary spy updated info\n",
      "Índex: 1982, title_without_stopwords: flashback jorge cabrera scandal\n",
      "Índex: 1983, title_without_stopwords: ron brown evidence cover\n",
      "Índex: 1984, title_without_stopwords: report voter fraud crash course\n"
     ]
    }
   ],
   "source": [
    "# Filtrar les files on 'title' és NaN però 'title_without_stopwords' no és NaN\n",
    "nan_titles_with_non_nan_stopwords = df[df['title'].isna() & df['title_without_stopwords'].notna()]\n",
    "\n",
    "print(\"Títols sense paraules de parada per a les files amb títol NaN però text processat disponible:\")\n",
    "for index, row in nan_titles_with_non_nan_stopwords.iterrows():\n",
    "    print(f\"Índex: {index}, title_without_stopwords: {row['title_without_stopwords']}\")\n",
    "\n"
   ]
  },
  {
   "cell_type": "code",
   "execution_count": 543,
   "metadata": {},
   "outputs": [],
   "source": [
    "# Assignar els valors de 'title_without_stopwords' a 'title' per a les files seleccionades\n",
    "df.loc[nan_titles_with_non_nan_stopwords.index, 'title'] = nan_titles_with_non_nan_stopwords['title_without_stopwords']"
   ]
  },
  {
   "cell_type": "code",
   "execution_count": 544,
   "metadata": {},
   "outputs": [
    {
     "name": "stdout",
     "output_type": "stream",
     "text": [
      "author                      46\n",
      "published                    0\n",
      "title                      171\n",
      "text                         0\n",
      "language                     0\n",
      "site_url                     0\n",
      "type                         0\n",
      "label                        0\n",
      "title_without_stopwords    187\n",
      "text_without_stopwords       0\n",
      "hasImage                     0\n",
      "dtype: int64\n"
     ]
    }
   ],
   "source": [
    "print(df.isnull().sum())"
   ]
  },
  {
   "cell_type": "markdown",
   "metadata": {},
   "source": [
    "Per tal d'omplir els títols amb Nans utilitzarem la tècnica RAKE(Rapid Automatic Keyword Extraction), aquesta tècnica selecciona les paraules clau més importants del text i les combina per formar un títol. Calcula les co-ocurrències de cada paraula en frases clau i la seva freqüència en tot el text."
   ]
  },
  {
   "cell_type": "code",
   "execution_count": 545,
   "metadata": {},
   "outputs": [
    {
     "name": "stdout",
     "output_type": "stream",
     "text": [
      "Antes d'omplir els títols:\n",
      "     title                                               text\n",
      "60     NaN  here is the problem  the usa constitution stat...\n",
      "61     NaN  there is plenty of proof the machines are rigg...\n",
      "62     NaN  trump has an excuse now to audit any vote with...\n",
      "63     NaN  he has got to go after him  he is the one caus...\n",
      "64     NaN  he has got to go after him  he is the one caus...\n",
      "...    ...                                                ...\n",
      "1976   NaN  federal judge charges sheriff joe with contemp...\n",
      "1977   NaN  all about jesus shirt sparks school uproar leg...\n",
      "1978   NaN  print \\nhave you ever noticed how washington a...\n",
      "1979   NaN  will it be representative government or thugoc...\n",
      "1980   NaN  for those who are too young or too unwilling t...\n",
      "\n",
      "[171 rows x 2 columns]\n",
      "\n",
      "DataFrame después d'omplir els títols:\n",
      "                                                  title  \\\n",
      "60    regimes terrorists international narcotics tra...   \n",
      "61    scam soros expects quotlandslide popular vote ...   \n",
      "62    whole scam wide open smart soros gave million ...   \n",
      "63    voting machines soros criminal conviction expo...   \n",
      "64    voting machines soros criminal conviction expo...   \n",
      "...                                                 ...   \n",
      "1976  seventh term prosecutors promised two weeks ag...   \n",
      "1977  hostility toward religious beliefs published h...   \n",
      "1978  interview joseph farah please contact receive ...   \n",
      "1979  interview erik rush please contact receive eri...   \n",
      "1980  wellesley graduation insults edward brooke sen...   \n",
      "\n",
      "                                                   text  \n",
      "60    here is the problem  the usa constitution stat...  \n",
      "61    there is plenty of proof the machines are rigg...  \n",
      "62    trump has an excuse now to audit any vote with...  \n",
      "63    he has got to go after him  he is the one caus...  \n",
      "64    he has got to go after him  he is the one caus...  \n",
      "...                                                 ...  \n",
      "1976  federal judge charges sheriff joe with contemp...  \n",
      "1977  all about jesus shirt sparks school uproar leg...  \n",
      "1978  print \\nhave you ever noticed how washington a...  \n",
      "1979  will it be representative government or thugoc...  \n",
      "1980  for those who are too young or too unwilling t...  \n",
      "\n",
      "[171 rows x 2 columns]\n"
     ]
    }
   ],
   "source": [
    "from rake_nltk import Rake\n",
    "\n",
    "def generate_title_with_keywords(text, max_keywords=5):\n",
    "    if not isinstance(text, str) or not text.strip():\n",
    "        return None\n",
    "    r = Rake()\n",
    "    r.extract_keywords_from_text(text)\n",
    "    keywords = r.get_ranked_phrases()[:max_keywords]\n",
    "    return ' '.join(keywords)\n",
    "\n",
    "nan_titles = df[df['title'].isna()]\n",
    "nan_title_indices = nan_titles.index \n",
    "\n",
    "print(\"Antes d'omplir els títols:\")\n",
    "print(nan_titles[['title', 'text']])\n",
    "\n",
    "df['title'] = df.apply(\n",
    "    lambda row: generate_title_with_keywords(row['text'], max_keywords=5) if pd.isna(row['title']) else row['title'],\n",
    "    axis=1\n",
    ")\n",
    "\n",
    "filled_titles = df.loc[nan_title_indices]\n",
    "\n",
    "print(\"\\nDataFrame después d'omplir els títols:\")\n",
    "print(filled_titles[['title', 'text']])\n"
   ]
  },
  {
   "cell_type": "code",
   "execution_count": 546,
   "metadata": {},
   "outputs": [
    {
     "name": "stdout",
     "output_type": "stream",
     "text": [
      "notícies amb títol sense paraules de parada actualitzat:\n"
     ]
    },
    {
     "name": "stderr",
     "output_type": "stream",
     "text": [
      "[nltk_data] Downloading package stopwords to C:\\Users\\Maria\n",
      "[nltk_data]     Muñoz\\AppData\\Roaming\\nltk_data...\n",
      "[nltk_data]   Package stopwords is already up-to-date!\n",
      "[nltk_data] Downloading package punkt to C:\\Users\\Maria\n",
      "[nltk_data]     Muñoz\\AppData\\Roaming\\nltk_data...\n",
      "[nltk_data]   Package punkt is already up-to-date!\n",
      "[nltk_data] Downloading package punkt_tab to C:\\Users\\Maria\n",
      "[nltk_data]     Muñoz\\AppData\\Roaming\\nltk_data...\n",
      "[nltk_data]   Package punkt_tab is already up-to-date!\n"
     ]
    }
   ],
   "source": [
    "nltk.download('stopwords')\n",
    "nltk.download('punkt')\n",
    "nltk.download('punkt_tab')\n",
    "\n",
    "def remove_stopwords(text):\n",
    "    if not isinstance(text, str):\n",
    "        return ''\n",
    "    words = word_tokenize(text.lower()) \n",
    "    stop_words = set(stopwords.words('english'))\n",
    "    filtered_words = [word for word in words if word not in stop_words and word.isalnum()]\n",
    "    return ' '.join(filtered_words)\n",
    "\n",
    "\n",
    "nan_texts = df[df['title_without_stopwords'].isna()]\n",
    "\n",
    "for index, row in nan_texts.iterrows():\n",
    "    processed_text = remove_stopwords(row['title'])\n",
    "    df.at[index, 'title_without_stopwords'] = processed_text \n",
    "\n",
    "print(\"notícies amb títol sense paraules de parada actualitzat:\")\n",
    "for index, row in df[df['title_without_stopwords'].isna()].iterrows():\n",
    "    print(f\"Índex: {index}, title_without_stopwords: {row['title_without_stopwords']}\")\n",
    "\n"
   ]
  },
  {
   "cell_type": "code",
   "execution_count": 547,
   "metadata": {},
   "outputs": [],
   "source": [
    "# Assignar \"no author\" quan author es NaN o '-NO AUTHOR-'\n",
    "df['author'] = df['author'].apply(lambda x: 'No Author' if pd.isna(x) or x == '-NO AUTHOR-' else x)"
   ]
  },
  {
   "cell_type": "code",
   "execution_count": 548,
   "metadata": {},
   "outputs": [
    {
     "name": "stdout",
     "output_type": "stream",
     "text": [
      "author                     0\n",
      "published                  0\n",
      "title                      0\n",
      "text                       0\n",
      "language                   0\n",
      "site_url                   0\n",
      "type                       0\n",
      "label                      0\n",
      "title_without_stopwords    0\n",
      "text_without_stopwords     0\n",
      "hasImage                   0\n",
      "dtype: int64\n"
     ]
    }
   ],
   "source": [
    "#Mirem descripcio general\n",
    "print(df.isnull().sum())"
   ]
  },
  {
   "cell_type": "markdown",
   "metadata": {},
   "source": [
    "Ara que ja tenim les dades arreglades, podem començar a fer un anàlisi d'aquestes."
   ]
  },
  {
   "cell_type": "code",
   "execution_count": 549,
   "metadata": {},
   "outputs": [
    {
     "data": {
      "image/png": "[encoded data removed]",
      "text/plain": [
       "<Figure size 640x480 with 1 Axes>"
      ]
     },
     "metadata": {},
     "output_type": "display_data"
    }
   ],
   "source": [
    "import seaborn as sns\n",
    "import matplotlib.pyplot as plt\n",
    "\n",
    "label_counts = df['label'].value_counts()\n",
    "label_percentages = df['label'].value_counts(normalize=True) * 100\n",
    "\n",
    "sns.countplot(x='label', data=df)\n",
    "for p in plt.gca().patches:\n",
    "    height = p.get_height()\n",
    "    percentage = height / len(df) * 100\n",
    "    plt.text(p.get_x() + p.get_width() / 2, height + 10, f'{percentage:.2f}%', ha='center')\n",
    "\n",
    "plt.title(\"Distribució de notícies reals vs falses\")\n",
    "plt.show()"
   ]
  },
  {
   "cell_type": "markdown",
   "metadata": {},
   "source": [
    "L'objectiu de balancejar el dataset s'ha assolit satisfactoriament"
   ]
  },
  {
   "cell_type": "code",
   "execution_count": 550,
   "metadata": {},
   "outputs": [
    {
     "name": "stdout",
     "output_type": "stream",
     "text": [
      "Opcions de llengües disponibles:\n",
      "english\n",
      "ignore\n",
      "german\n",
      "french\n",
      "spanish\n"
     ]
    }
   ],
   "source": [
    "unique_languages = df['language'].unique()\n",
    "\n",
    "print(\"Opcions de llengües disponibles:\")\n",
    "for lang in unique_languages:\n",
    "    print(lang)"
   ]
  },
  {
   "cell_type": "code",
   "execution_count": 551,
   "metadata": {},
   "outputs": [
    {
     "name": "stdout",
     "output_type": "stream",
     "text": [
      "Títols de les notícies amb idioma 'ignore':\n",
      "billion dollars for the jewish lobby just the tip of the iceberg\n",
      "national bugle radio the first step towards overthrowing jewish power\n",
      "Títols de les notícies amb idioma 'ignore':\n"
     ]
    }
   ],
   "source": [
    "#mirem quin idioma és 'ignore'\n",
    "ignored_titles = df[df['language'] == 'ignore']['title']\n",
    "print(\"Títols de les notícies amb idioma 'ignore':\")\n",
    "for title in ignored_titles:\n",
    "    print(title)\n",
    "#\n",
    "ignored_titles = df[(df['text'].isna())]['title']\n",
    "print(\"Títols de les notícies amb idioma 'ignore':\")\n",
    "for title in ignored_titles:\n",
    "    print(title)"
   ]
  },
  {
   "cell_type": "code",
   "execution_count": 552,
   "metadata": {},
   "outputs": [],
   "source": [
    "#veiem que és 'english' així que ho susbtituim\n",
    "df['language'] = df['language'].replace('ignore', 'english').fillna('english')"
   ]
  },
  {
   "cell_type": "code",
   "execution_count": 553,
   "metadata": {},
   "outputs": [
    {
     "name": "stdout",
     "output_type": "stream",
     "text": [
      "                                                  title  \\\n",
      "936      sparks fly as bikers for trump meet protesters   \n",
      "937         studie beweist indianer kennen doch schmerz   \n",
      "938   weil sie sich prügelten gefängnisdirektor erte...   \n",
      "939   umfrage ceta würde enorm an zustimmung gewinne...   \n",
      "940                                          newsticker   \n",
      "...                                                 ...   \n",
      "1006  sicher trainieren beim spinning gilt ab sofort...   \n",
      "1007  studie lohnzahlungen verursachen milliardensch...   \n",
      "1499   presstvhezbollah shares aouns victory lebanon fm   \n",
      "1878  is alex jones covering for trumps jewish mob t...   \n",
      "1879                  time for fbi director comey to go   \n",
      "\n",
      "                                                   text language  \n",
      "936   umfrage ceta würde enorm an zustimmung gewinne...   german  \n",
      "937   steht ganz neben sich klonforscher nach erfolg...   german  \n",
      "938   morgen neu am kiosk postillon am sonntag  auße...   german  \n",
      "939   samstag  oktober  autofahrer entlarvt geheimen...   german  \n",
      "940   freitag  oktober  alle machen jagd auf ihn hor...   german  \n",
      "...                                                 ...      ...  \n",
      "1006  posted on october   by admin \\nby vekar \\none ...   german  \n",
      "1007  published on may   by cbs sunday morning there...   german  \n",
      "1499  the energy minister of iran hamid chitchian \\n...   french  \n",
      "1878      lying arrogant muslim marxist piece of dogsht   french  \n",
      "1879  has anyone noticed how earnest mr earnest beco...  spanish  \n",
      "\n",
      "[75 rows x 3 columns]\n"
     ]
    }
   ],
   "source": [
    "non_english_news = df[df['language'].str.lower() != 'english']\n",
    "print(non_english_news[['title', 'text', 'language']])"
   ]
  },
  {
   "cell_type": "code",
   "execution_count": 554,
   "metadata": {},
   "outputs": [
    {
     "data": {
      "image/png": "[encoded data removed]",
      "text/plain": [
       "<Figure size 640x480 with 1 Axes>"
      ]
     },
     "metadata": {},
     "output_type": "display_data"
    }
   ],
   "source": [
    "# Distribució dels idiomes\n",
    "language_counts = df['language'].value_counts()\n",
    "language_percentages = df['language'].value_counts(normalize=True) * 100\n",
    "\n",
    "sns.countplot(x='language', data=df)\n",
    "for p in plt.gca().patches:\n",
    "    height = p.get_height()\n",
    "    percentage = height / len(df) * 100\n",
    "    plt.text(p.get_x() + p.get_width() / 2, height + 10, f'{percentage:.2f}%', ha='center')\n",
    "\n",
    "plt.title(\"Distribució de les llengües\")\n",
    "plt.show()"
   ]
  },
  {
   "cell_type": "markdown",
   "metadata": {},
   "source": [
    "Com no totes les notícies estan en el mateix idioma, aquelles que no estan en anglés les traduïm."
   ]
  },
  {
   "cell_type": "code",
   "execution_count": 555,
   "metadata": {},
   "outputs": [
    {
     "name": "stdout",
     "output_type": "stream",
     "text": [
      "                                                  title  \\\n",
      "936      sparks fly as bikers for trump meet protesters   \n",
      "937         studie beweist indianer kennen doch schmerz   \n",
      "938   weil sie sich prügelten gefängnisdirektor erte...   \n",
      "939   umfrage ceta würde enorm an zustimmung gewinne...   \n",
      "940                                          newsticker   \n",
      "...                                                 ...   \n",
      "1006  sicher trainieren beim spinning gilt ab sofort...   \n",
      "1007  studie lohnzahlungen verursachen milliardensch...   \n",
      "1499   presstvhezbollah shares aouns victory lebanon fm   \n",
      "1878  is alex jones covering for trumps jewish mob t...   \n",
      "1879                  time for fbi director comey to go   \n",
      "\n",
      "                                                   text language  \n",
      "936   umfrage ceta würde enorm an zustimmung gewinne...   german  \n",
      "937   steht ganz neben sich klonforscher nach erfolg...   german  \n",
      "938   morgen neu am kiosk postillon am sonntag  auße...   german  \n",
      "939   samstag  oktober  autofahrer entlarvt geheimen...   german  \n",
      "940   freitag  oktober  alle machen jagd auf ihn hor...   german  \n",
      "...                                                 ...      ...  \n",
      "1006  posted on october   by admin \\nby vekar \\none ...   german  \n",
      "1007  published on may   by cbs sunday morning there...   german  \n",
      "1499  the energy minister of iran hamid chitchian \\n...   french  \n",
      "1878      lying arrogant muslim marxist piece of dogsht   french  \n",
      "1879  has anyone noticed how earnest mr earnest beco...  spanish  \n",
      "\n",
      "[75 rows x 3 columns]\n"
     ]
    }
   ],
   "source": [
    "#mirem quines no estan en anglés\n",
    "non_english_news = df[df['language'].str.lower() != 'english']\n",
    "print(non_english_news[['title', 'text', 'language']])"
   ]
  },
  {
   "cell_type": "markdown",
   "metadata": {},
   "source": [
    "En el output anterior podem veure com hi ha notícies etiquetades en un idioma, però en realitat estan en un altre.\n",
    "Per tant, abans de traduir-les, anem a detectar el seu idioma corresponent."
   ]
  },
  {
   "cell_type": "code",
   "execution_count": 556,
   "metadata": {},
   "outputs": [
    {
     "name": "stdout",
     "output_type": "stream",
     "text": [
      "                                                   text language  \\\n",
      "936   umfrage ceta würde enorm an zustimmung gewinne...   german   \n",
      "937   steht ganz neben sich klonforscher nach erfolg...   german   \n",
      "938   morgen neu am kiosk postillon am sonntag  auße...   german   \n",
      "939   samstag  oktober  autofahrer entlarvt geheimen...   german   \n",
      "940   freitag  oktober  alle machen jagd auf ihn hor...   german   \n",
      "...                                                 ...      ...   \n",
      "1006  posted on october   by admin \\nby vekar \\none ...   german   \n",
      "1007  published on may   by cbs sunday morning there...   german   \n",
      "1499  the energy minister of iran hamid chitchian \\n...   french   \n",
      "1878      lying arrogant muslim marxist piece of dogsht   french   \n",
      "1879  has anyone noticed how earnest mr earnest beco...  spanish   \n",
      "\n",
      "     detected_language  \n",
      "936                 de  \n",
      "937                 de  \n",
      "938                 de  \n",
      "939                 de  \n",
      "940                 de  \n",
      "...                ...  \n",
      "1006                en  \n",
      "1007                en  \n",
      "1499                en  \n",
      "1878                en  \n",
      "1879                en  \n",
      "\n",
      "[75 rows x 3 columns]\n",
      "                                                text language\n",
      "0  print they should pay all the back all the mon...  english\n",
      "1  why did attorney general loretta lynch plead t...  english\n",
      "2  red state  \\nfox news sunday reported this mor...  english\n",
      "3  email kayla mueller was a prisoner and torture...  english\n",
      "4  email healthcare reform to make america great ...  english\n"
     ]
    }
   ],
   "source": [
    "from langdetect import detect\n",
    "\n",
    "detected_languages = []\n",
    "for index, row in df.iterrows():\n",
    "    if row['language'].lower() != 'english':  \n",
    "        detected_language = detect(row['text']) \n",
    "        detected_languages.append(detected_language)  \n",
    "    else:\n",
    "        detected_languages.append(None)  \n",
    "\n",
    "#creem columna amb l'idioma detectat\n",
    "df['detected_language'] = detected_languages\n",
    "print(df[['text', 'language', 'detected_language']].dropna())\n",
    "\n",
    "#subtituim els valor de la columna lenguage pel detectat.\n",
    "df['language'] = df.apply(lambda row: row['detected_language'] if row['detected_language'] is not None else row['language'], axis=1)\n",
    "df['language'] = df['language'].apply(lambda x: 'english' if x == 'en' else x)\n",
    "\n",
    "#eliminem la columna creada anteriorment\n",
    "df.drop(columns=['detected_language'], inplace=True)\n",
    "\n",
    "print(df[['text', 'language']].head())\n"
   ]
  },
  {
   "cell_type": "markdown",
   "metadata": {},
   "source": [
    "Hem vist que hi ha dues files que no es poden traduir, per tant les eliminem."
   ]
  },
  {
   "cell_type": "code",
   "execution_count": 557,
   "metadata": {},
   "outputs": [
    {
     "name": "stdout",
     "output_type": "stream",
     "text": [
      "                                  author                        published  \\\n",
      "974  noreply@blogger.com (Der Postillon) 2016-11-09 16:25:14.353000+00:00   \n",
      "\n",
      "                                                 title  \\\n",
      "974  donald willst du mich heiraten clinton hat kam...   \n",
      "\n",
      "                                                  text language  \\\n",
      "974  donnerstag  november   radikale vorhaben die d...       de   \n",
      "\n",
      "              site_url type  label  \\\n",
      "974  der-postillon.com   bs      1   \n",
      "\n",
      "                               title_without_stopwords  \\\n",
      "974  offizieller friseur des weißen hauses erlitt w...   \n",
      "\n",
      "                                text_without_stopwords  hasImage  \n",
      "974  freitag november musik statt lärm erster laubb...       1.0  \n",
      "                                  author                        published  \\\n",
      "972  noreply@blogger.com (Der Postillon) 2016-11-09 11:48:46.757000+00:00   \n",
      "\n",
      "                                                 title  \\\n",
      "972  so ein ärger obama hat über nacht sämtliche at...   \n",
      "\n",
      "                                                  text language  \\\n",
      "972  donnerstag  november  mann verhaftet nachdem e...       de   \n",
      "\n",
      "              site_url type  label  \\\n",
      "972  der-postillon.com   bs      1   \n",
      "\n",
      "                               title_without_stopwords  \\\n",
      "972  donald willst du mich heiraten clinton hat kam...   \n",
      "\n",
      "                                text_without_stopwords  hasImage  \n",
      "972  donnerstag november radikale vorhaben die dona...       1.0  \n"
     ]
    }
   ],
   "source": [
    "row1 = df[df['text'].str.contains('vorhaben', case=False, na=False)]\n",
    "row2 = df[df['text_without_stopwords'].str.contains('vorhaben', case=False, na=False)]\n",
    "\n",
    "print(row1)\n",
    "print(row2)"
   ]
  },
  {
   "cell_type": "code",
   "execution_count": 558,
   "metadata": {},
   "outputs": [],
   "source": [
    "df = df.drop(972)\n",
    "df = df.drop(974)"
   ]
  },
  {
   "cell_type": "code",
   "execution_count": 559,
   "metadata": {},
   "outputs": [
    {
     "data": {
      "image/png": "[encoded data removed]",
      "text/plain": [
       "<Figure size 640x480 with 1 Axes>"
      ]
     },
     "metadata": {},
     "output_type": "display_data"
    }
   ],
   "source": [
    "#mirem en quin altre idioma estan les notícies\n",
    "language_counts = df['language'].value_counts()\n",
    "language_percentages = df['language'].value_counts(normalize=True) * 100\n",
    "\n",
    "sns.countplot(x='language', data=df)\n",
    "for p in plt.gca().patches:\n",
    "    height = p.get_height()\n",
    "    percentage = height / len(df) * 100\n",
    "    plt.text(p.get_x() + p.get_width() / 2, height + 10, f'{percentage:.2f}%', ha='center')\n",
    "\n",
    "plt.title(\"Distribució de les llengües\")\n",
    "plt.show()"
   ]
  },
  {
   "cell_type": "markdown",
   "metadata": {},
   "source": [
    "Ara traduïm a l'anglés les notícies que queden en alemany"
   ]
  },
  {
   "cell_type": "code",
   "execution_count": 560,
   "metadata": {},
   "outputs": [],
   "source": [
    "from deep_translator import GoogleTranslator\n",
    "\n",
    "# traductor per a anglès\n",
    "traductor = GoogleTranslator(source='auto', target='en')\n",
    "\n",
    "for index, row in df.iterrows():\n",
    "    if row['language'].lower() != 'english': \n",
    "        translated_title = traductor.translate(row['title'])\n",
    "        translated_text = traductor.translate(row['text'])\n",
    "        translated_title_without_stopwords = traductor.translate(row['title_without_stopwords'])\n",
    "        translated_text_without_stopwords = traductor.translate(row['text_without_stopwords'])\n",
    "        \n",
    "        # Actualizem valors\n",
    "        df.at[index, 'title'] = translated_title\n",
    "        df.at[index, 'text'] = translated_text\n",
    "        df.at[index, 'title_without_stopwords'] = translated_title_without_stopwords\n",
    "        df.at[index, 'text_without_stopwords'] = translated_text_without_stopwords\n",
    "\n",
    "\n",
    "\n"
   ]
  },
  {
   "cell_type": "markdown",
   "metadata": {},
   "source": [
    "Un cop traduides, canviem la columna lenguage, d'alemany a anglés."
   ]
  },
  {
   "cell_type": "code",
   "execution_count": 561,
   "metadata": {},
   "outputs": [
    {
     "name": "stdout",
     "output_type": "stream",
     "text": [
      "                                                 title  \\\n",
      "936     sparks fly as bikers for trump meet protesters   \n",
      "937                  study proves Indians do know pain   \n",
      "938  because they fought, prison director issues li...   \n",
      "939  survey ceta would gain enormous support if eu ...   \n",
      "940                                         newsticker   \n",
      "\n",
      "                                                  text  \\\n",
      "936  Survey CETA would gain enormous approval if th...   \n",
      "937  stands completely beside himself clone researc...   \n",
      "938  tomorrow new at the kiosk postillon on sunday ...   \n",
      "939  Saturday October Driver reveals secret number ...   \n",
      "940  Friday October everyone is hunting him horror ...   \n",
      "\n",
      "                               title_without_stopwords  \\\n",
      "936  because they fought, prison director issues li...   \n",
      "937  survey ceta would gain enormous approval if eu...   \n",
      "938                                         newsticker   \n",
      "939                tomorrow new kiosk postillon Sunday   \n",
      "940  driver reveals secret number trick that can ou...   \n",
      "\n",
      "                                text_without_stopwords language  \n",
      "936  tomorrow new kiosk postillon sunday also this ...       de  \n",
      "937  Saturday October Driver reveals secret number ...       de  \n",
      "938  Friday October everyone is hunting him horror ...       de  \n",
      "939  Monday October scary FC Bayern dresses up as H...       de  \n",
      "940  flagged out drunk driver reacts friendly to po...       de  \n"
     ]
    }
   ],
   "source": [
    "df_german = df[df['language'] == 'de']\n",
    "print(df_german[['title', 'text', 'title_without_stopwords', 'text_without_stopwords', 'language']].head())"
   ]
  },
  {
   "cell_type": "code",
   "execution_count": 562,
   "metadata": {},
   "outputs": [],
   "source": [
    "df.loc[df['language'] == 'de', 'language'] = 'english'"
   ]
  },
  {
   "cell_type": "markdown",
   "metadata": {},
   "source": [
    "Ja tenim totes les notícies en anglés. Mirem quines paraules són les mes frequents."
   ]
  },
  {
   "cell_type": "code",
   "execution_count": 563,
   "metadata": {},
   "outputs": [],
   "source": [
    "from sklearn.feature_extraction.text import CountVectorizer\n",
    "def contar_paraules(corpus, n=None):\n",
    "    vector = CountVectorizer().fit(corpus)\n",
    "    paraules = vector.transform(corpus)\n",
    "    suma_paraules = paraules.sum(axis=0)\n",
    "    freq_paraules = [(word, suma_paraules[0, idx]) for word, idx in vector.vocabulary_.items()]\n",
    "    freq_paraules = sorted(freq_paraules, key=lambda x: x[1], reverse=True)\n",
    "    return freq_paraules[:n]"
   ]
  },
  {
   "cell_type": "code",
   "execution_count": 564,
   "metadata": {},
   "outputs": [
    {
     "data": {
      "text/plain": [
       "Index(['author', 'published', 'title', 'text', 'language', 'site_url', 'type',\n",
       "       'label', 'title_without_stopwords', 'text_without_stopwords',\n",
       "       'hasImage'],\n",
       "      dtype='object')"
      ]
     },
     "execution_count": 564,
     "metadata": {},
     "output_type": "execute_result"
    }
   ],
   "source": [
    "df.columns"
   ]
  },
  {
   "cell_type": "code",
   "execution_count": 565,
   "metadata": {},
   "outputs": [
    {
     "data": {
      "text/plain": [
       "[('trump', np.int64(3416)),\n",
       " ('clinton', np.int64(3052)),\n",
       " ('one', np.int64(2430)),\n",
       " ('us', np.int64(2415)),\n",
       " ('said', np.int64(2356)),\n",
       " ('people', np.int64(2309)),\n",
       " ('would', np.int64(2238)),\n",
       " ('hillary', np.int64(2045)),\n",
       " ('also', np.int64(1786)),\n",
       " ('like', np.int64(1706)),\n",
       " ('new', np.int64(1534)),\n",
       " ('election', np.int64(1503)),\n",
       " ('time', np.int64(1428)),\n",
       " ('even', np.int64(1407)),\n",
       " ('president', np.int64(1287)),\n",
       " ('state', np.int64(1256)),\n",
       " ('could', np.int64(1177)),\n",
       " ('get', np.int64(1176)),\n",
       " ('campaign', np.int64(1144)),\n",
       " ('donald', np.int64(1137))]"
      ]
     },
     "execution_count": 565,
     "metadata": {},
     "output_type": "execute_result"
    }
   ],
   "source": [
    "palabras= contar_paraules(df['text_without_stopwords'], 20)\n",
    "palabras"
   ]
  },
  {
   "cell_type": "code",
   "execution_count": 566,
   "metadata": {},
   "outputs": [
    {
     "data": {
      "text/plain": [
       "<Axes: xlabel='word'>"
      ]
     },
     "execution_count": 566,
     "metadata": {},
     "output_type": "execute_result"
    },
    {
     "data": {
      "image/png": "[encoded data removed]",
      "text/plain": [
       "<Figure size 640x480 with 1 Axes>"
      ]
     },
     "metadata": {},
     "output_type": "display_data"
    }
   ],
   "source": [
    "df1=pd.DataFrame(palabras, columns=['word', 'count'])\n",
    "\n",
    "df1.groupby('word').sum()['count'].sort_values().plot(kind='bar')"
   ]
  },
  {
   "cell_type": "markdown",
   "metadata": {},
   "source": [
    "Fem servir el f1-score ja que volem controlar tan els falsos positius com els falsos negatius.\n",
    "\n",
    "Per evaluar el rendiemtn global del model utilitzarem la corba ROC, ja que el dataset està equilibrat.\n"
   ]
  },
  {
   "cell_type": "code",
   "execution_count": 567,
   "metadata": {},
   "outputs": [
    {
     "name": "stdout",
     "output_type": "stream",
     "text": [
      "hasImage\n",
      "1.0    2038\n",
      "0.0     489\n",
      "Name: count, dtype: int64\n"
     ]
    }
   ],
   "source": [
    "# Comptar la quantitat de 0 i 1 a la columna hasImage\n",
    "print(df['hasImage'].value_counts())"
   ]
  },
  {
   "cell_type": "code",
   "execution_count": 568,
   "metadata": {},
   "outputs": [
    {
     "name": "stdout",
     "output_type": "stream",
     "text": [
      "author\n",
      "No Author                              575\n",
      "Activist Post                           84\n",
      "EdJenner                                73\n",
      "noreply@blogger.com (Der Postillon)     70\n",
      "Anonymous                               58\n",
      "Daniel Greenfield                       55\n",
      "admin                                   48\n",
      "Jason Easley                            45\n",
      "Alex Ansary                             44\n",
      "Dr. Patrick Slattery                    38\n",
      "Henry Wolff                             33\n",
      "Corbett                                 27\n",
      "tokyowashi (noreply@blogger.com)        20\n",
      "Mike Rivero                             17\n",
      "Steve Watson                            16\n",
      "Sarah Jones                             16\n",
      "Roosh Valizadeh                         15\n",
      "Hrafnkell Haraldsson                    15\n",
      "Letsbereal                              13\n",
      "ActivistPost                            12\n",
      "Name: count, dtype: int64\n"
     ]
    }
   ],
   "source": [
    "# Comptar les ocurrències de cada autor\n",
    "author_counts = df['author'].value_counts()\n",
    "print(author_counts.head(20))\n"
   ]
  },
  {
   "cell_type": "code",
   "execution_count": 569,
   "metadata": {},
   "outputs": [],
   "source": [
    "df['author'] = df['author'].replace(['ActivistPost'], ['Activist Post'])"
   ]
  },
  {
   "cell_type": "code",
   "execution_count": 570,
   "metadata": {},
   "outputs": [
    {
     "name": "stdout",
     "output_type": "stream",
     "text": [
      "author\n",
      "No Author                              575\n",
      "Activist Post                           96\n",
      "EdJenner                                73\n",
      "noreply@blogger.com (Der Postillon)     70\n",
      "Anonymous                               58\n",
      "Daniel Greenfield                       55\n",
      "admin                                   48\n",
      "Jason Easley                            45\n",
      "Alex Ansary                             44\n",
      "Dr. Patrick Slattery                    38\n",
      "Henry Wolff                             33\n",
      "Corbett                                 27\n",
      "tokyowashi (noreply@blogger.com)        20\n",
      "Mike Rivero                             17\n",
      "Steve Watson                            16\n",
      "Sarah Jones                             16\n",
      "Hrafnkell Haraldsson                    15\n",
      "Roosh Valizadeh                         15\n",
      "Letsbereal                              13\n",
      "Fed Up                                  12\n",
      "Name: count, dtype: int64\n"
     ]
    }
   ],
   "source": [
    "# Comptar les ocurrències de cada autor\n",
    "author_counts = df['author'].value_counts()\n",
    "print(author_counts.head(20))"
   ]
  },
  {
   "cell_type": "markdown",
   "metadata": {},
   "source": [
    "La data de publicacio i el site_url els eliminem.\n",
    "\n",
    "Com totes les noticies ara estan en anglés, no ens cal la columna lenguage.\n",
    "\n",
    "A l'hora de fer l'scraping, la columna type l'hem posat tot bias, ja que no hem trobar manera de treure'l. Per tant l'eliminem. \n",
    "\n",
    "I les columnes title i text ja no ens fan falta pq tenim la seva versió without stopwords.\n"
   ]
  },
  {
   "cell_type": "code",
   "execution_count": 571,
   "metadata": {},
   "outputs": [],
   "source": [
    "df = df.drop(['published','site_url', 'language', 'type', 'title', 'text'], axis=1)\n"
   ]
  },
  {
   "cell_type": "markdown",
   "metadata": {},
   "source": [
    "El que farem primer serà entrar per diferents models amb només el text without stopwords com a X, farem cross validation i cerca d'hiperparàmetres. \n",
    "\n",
    "Després farem el amteix només amb title without stopwords. Ens quedarem amb el model que tingui millor resultat. \n",
    "\n",
    "Després tornaria a fer el mateix procediment pero afegint si té iamtge o no, per veure si millara.\n",
    "\n",
    "També intentaria veure si ens funciona millor el mètode Bow o TF"
   ]
  },
  {
   "cell_type": "markdown",
   "metadata": {},
   "source": [
    "# BAG OF WORDS"
   ]
  },
  {
   "cell_type": "markdown",
   "metadata": {},
   "source": [
    "**TEXT**"
   ]
  },
  {
   "cell_type": "markdown",
   "metadata": {},
   "source": [
    "CROSS-VALIDATION"
   ]
  },
  {
   "cell_type": "code",
   "execution_count": 572,
   "metadata": {},
   "outputs": [],
   "source": [
    "from sklearn.feature_extraction.text import CountVectorizer\n",
    "from sklearn.model_selection import train_test_split, cross_val_score,GridSearchCV\n",
    "\n",
    "# Bag of words\n",
    "bow_vectorizer = CountVectorizer(max_features=5000)  \n",
    "X_bow = bow_vectorizer.fit_transform(df['text_without_stopwords'])  \n",
    "\n",
    "y = df['label']  \n",
    "X_train1, X_test1, y_train1, y_test1 = train_test_split(X_bow, y, test_size=0.2, random_state=42)\n"
   ]
  },
  {
   "cell_type": "code",
   "execution_count": 573,
   "metadata": {},
   "outputs": [
    {
     "data": {
      "text/plain": [
       "(np.float64(0.5100910170162247),\n",
       " np.float64(0.5296442687747036),\n",
       " np.float64(0.5051954477981198))"
      ]
     },
     "execution_count": 573,
     "metadata": {},
     "output_type": "execute_result"
    }
   ],
   "source": [
    "y.mean(),y_test1.mean(),y_train1.mean() #si està estratificat"
   ]
  },
  {
   "cell_type": "code",
   "execution_count": 574,
   "metadata": {},
   "outputs": [
    {
     "name": "stdout",
     "output_type": "stream",
     "text": [
      "Naive Bayes: 0.6912576495802991\n"
     ]
    }
   ],
   "source": [
    "from sklearn.naive_bayes import MultinomialNB\n",
    "nb = MultinomialNB()\n",
    "cv_scoresNB = cross_val_score(nb, X_train1, y_train1, cv=5, scoring='f1')\n",
    "print(\"Naive Bayes:\", cv_scoresNB.mean())"
   ]
  },
  {
   "cell_type": "code",
   "execution_count": 575,
   "metadata": {},
   "outputs": [
    {
     "name": "stdout",
     "output_type": "stream",
     "text": [
      "GaussianNB: 0.6196957781363481\n"
     ]
    }
   ],
   "source": [
    "from sklearn.naive_bayes import GaussianNB\n",
    "\n",
    "nb_gaussian = GaussianNB()\n",
    "cv_scores_gaussian = cross_val_score(nb_gaussian, X_train1.toarray(), y_train1, cv=5, scoring='f1') \n",
    "print(\"GaussianNB:\", cv_scores_gaussian.mean())"
   ]
  },
  {
   "cell_type": "code",
   "execution_count": 576,
   "metadata": {},
   "outputs": [
    {
     "name": "stdout",
     "output_type": "stream",
     "text": [
      "BernoulliNB: 0.5946523593195358\n"
     ]
    }
   ],
   "source": [
    "from sklearn.naive_bayes import BernoulliNB\n",
    "\n",
    "nb_bernoulli = BernoulliNB()\n",
    "cv_scores_bernoulli = cross_val_score(nb_bernoulli, X_train1, y_train1, cv=5, scoring='f1')\n",
    "print(\"BernoulliNB:\", cv_scores_bernoulli.mean())\n"
   ]
  },
  {
   "cell_type": "code",
   "execution_count": 577,
   "metadata": {},
   "outputs": [
    {
     "name": "stdout",
     "output_type": "stream",
     "text": [
      "ComplementNB: 0.6901445425438715\n"
     ]
    }
   ],
   "source": [
    "from sklearn.naive_bayes import ComplementNB\n",
    "\n",
    "nb_complement = ComplementNB()\n",
    "cv_scores_complement = cross_val_score(nb_complement, X_train1, y_train1, cv=5, scoring='f1')\n",
    "print(\"ComplementNB:\", cv_scores_complement.mean())\n"
   ]
  },
  {
   "cell_type": "markdown",
   "metadata": {},
   "source": [
    "CERCA D'HIPERPARÀMETRES"
   ]
  },
  {
   "cell_type": "code",
   "execution_count": 578,
   "metadata": {},
   "outputs": [
    {
     "name": "stdout",
     "output_type": "stream",
     "text": [
      "--- MultinomialNB ---\n",
      "Millors hiperparàmetres: {'alpha': 0.01}\n",
      "Millor F1-score: 0.7179678917801314\n",
      "--- ComplementNB ---\n",
      "Millors hiperparàmetres: {'alpha': 5.0, 'norm': True}\n",
      "Millor F1-score: 0.7182303644563348\n"
     ]
    }
   ],
   "source": [
    "from sklearn.feature_extraction.text import CountVectorizer\n",
    "from sklearn.model_selection import train_test_split, GridSearchCV\n",
    "from sklearn.naive_bayes import MultinomialNB, GaussianNB, BernoulliNB, ComplementNB\n",
    "from sklearn.metrics import classification_report\n",
    "\n",
    "def grid_search_nb(model, param_grid, X, y, model_name):\n",
    "    grid = GridSearchCV(model, param_grid, cv=5, scoring='f1', n_jobs=-1)\n",
    "    grid.fit(X, y)\n",
    "    print(f\"--- {model_name} ---\")\n",
    "    print(\"Millors hiperparàmetres:\", grid.best_params_)\n",
    "    print(\"Millor F1-score:\", grid.best_score_)\n",
    "    return grid\n",
    "\n",
    "# MultinomialNB\n",
    "param_grid_multinomial = {'alpha': [0.01, 0.1, 0.5, 1.0, 2.0, 5.0]}\n",
    "grid_multinomial1 = grid_search_nb(MultinomialNB(), param_grid_multinomial, X_train1, y_train1, \"MultinomialNB\")\n",
    "\n",
    "# GaussianNB\n",
    "#param_grid_gaussian = {}  # GaussianNB no tiene hiperparámetros específicos\n",
    "#grid_gaussian = grid_search_nb(GaussianNB(), param_grid_gaussian, X_train1.toarray(), y_train1, \"GaussianNB\")\n",
    "\n",
    "# BernoulliNB\n",
    "#param_grid_bernoulli = {'alpha': [1e-250, 0.1, 0.5, 1.0, 2.0, 5.0, 6.0], 'binarize': [0.0, 0.5, 1.0]}\n",
    "#grid_bernoulli = grid_search_nb(BernoulliNB(), param_grid_bernoulli, X_train1, y_train1, \"BernoulliNB\")\n",
    "\n",
    "# ComplementNB\n",
    "param_grid_complement = {'alpha': [0.01, 0.1, 0.5, 1.0, 2.0, 5.0], 'norm': [True, False]}\n",
    "grid_complement1 = grid_search_nb(ComplementNB(), param_grid_complement, X_train1, y_train1, \"ComplementNB\")\n",
    "\n"
   ]
  },
  {
   "cell_type": "markdown",
   "metadata": {},
   "source": [
    "----\n",
    "**TÍTOL**"
   ]
  },
  {
   "cell_type": "code",
   "execution_count": 579,
   "metadata": {},
   "outputs": [],
   "source": [
    "# bag of words\n",
    "bow_vectorizer = CountVectorizer(max_features=5000)  \n",
    "X_bow2 = bow_vectorizer.fit_transform(df['title_without_stopwords'])  \n",
    "\n",
    "y = df['label']  \n",
    "X_train2, X_test2, y_train2, y_test2 = train_test_split(X_bow2, y, test_size=0.2, random_state=42)"
   ]
  },
  {
   "cell_type": "code",
   "execution_count": 580,
   "metadata": {},
   "outputs": [
    {
     "name": "stdout",
     "output_type": "stream",
     "text": [
      "Naive Bayes: 0.7341156909432706\n"
     ]
    }
   ],
   "source": [
    "nb = MultinomialNB()\n",
    "cv_scoresNB = cross_val_score(nb, X_train2, y_train2, cv=5, scoring='f1')\n",
    "print(\"Naive Bayes:\", cv_scoresNB.mean())"
   ]
  },
  {
   "cell_type": "code",
   "execution_count": 581,
   "metadata": {},
   "outputs": [
    {
     "name": "stdout",
     "output_type": "stream",
     "text": [
      "GaussianNB: 0.6598805951087658\n"
     ]
    }
   ],
   "source": [
    "nb_gaussian = GaussianNB()\n",
    "cv_scores_gaussian = cross_val_score(nb_gaussian, X_train2.toarray(), y_train2, cv=5, scoring='f1') \n",
    "print(\"GaussianNB:\", cv_scores_gaussian.mean())"
   ]
  },
  {
   "cell_type": "code",
   "execution_count": 582,
   "metadata": {},
   "outputs": [
    {
     "name": "stdout",
     "output_type": "stream",
     "text": [
      "BernoulliNB: 0.7250738141351007\n"
     ]
    }
   ],
   "source": [
    "nb_bernoulli = BernoulliNB()\n",
    "cv_scores_bernoulli = cross_val_score(nb_bernoulli, X_train2, y_train2, cv=5, scoring='f1')\n",
    "print(\"BernoulliNB:\", cv_scores_bernoulli.mean())"
   ]
  },
  {
   "cell_type": "code",
   "execution_count": 583,
   "metadata": {},
   "outputs": [
    {
     "name": "stdout",
     "output_type": "stream",
     "text": [
      "ComplementNB: 0.7305096858484753\n"
     ]
    }
   ],
   "source": [
    "nb_complement = ComplementNB()\n",
    "cv_scores_complement = cross_val_score(nb_complement, X_train2, y_train2, cv=5, scoring='f1')\n",
    "print(\"ComplementNB:\", cv_scores_complement.mean())\n"
   ]
  },
  {
   "cell_type": "markdown",
   "metadata": {},
   "source": [
    "CERCA D'HIPERPARÀMETRES"
   ]
  },
  {
   "cell_type": "code",
   "execution_count": 584,
   "metadata": {},
   "outputs": [
    {
     "name": "stdout",
     "output_type": "stream",
     "text": [
      "--- MultinomialNB ---\n",
      "Millors hiperparàmetres: {'alpha': 0.5}\n",
      "Millor F1-score: 0.7354685053745833\n",
      "--- BernoulliNB ---\n",
      "Millors hiperparàmetres: {'alpha': 6.0, 'binarize': 0.0}\n",
      "Millor F1-score: 0.7360562870595047\n",
      "--- ComplementNB ---\n",
      "Millors hiperparàmetres: {'alpha': 0.5, 'norm': True}\n",
      "Millor F1-score: 0.7343401395621083\n"
     ]
    }
   ],
   "source": [
    "# MultinomialNB\n",
    "param_grid_multinomial = {'alpha': [0.01, 0.1, 0.5, 1.0, 2.0, 5.0]}\n",
    "grid_multinomial2 = grid_search_nb(MultinomialNB(), param_grid_multinomial, X_train2, y_train2, \"MultinomialNB\")\n",
    "\n",
    "# GaussianNB\n",
    "#param_grid_gaussian = {}  # GaussianNB no tiene hiperparámetros específicos\n",
    "#grid_gaussian = grid_search_nb(GaussianNB(), param_grid_gaussian, X_train2.toarray(), y_train2, \"GaussianNB\")\n",
    "\n",
    "# BernoulliNB\n",
    "param_grid_bernoulli = {'alpha': [0.1, 0.5, 1.0, 2.0, 5.0, 6.0], 'binarize': [0.0, 0.5, 1.0]}\n",
    "grid_bernoulli2 = grid_search_nb(BernoulliNB(), param_grid_bernoulli, X_train2, y_train2, \"BernoulliNB\")\n",
    "\n",
    "# ComplementNB\n",
    "param_grid_complement = {'alpha': [0.01, 0.1, 0.5, 1.0, 2.0, 5.0], 'norm': [True, False]}\n",
    "grid_complement2 = grid_search_nb(ComplementNB(), param_grid_complement, X_train2, y_train2, \"ComplementNB\")\n",
    "\n"
   ]
  },
  {
   "cell_type": "markdown",
   "metadata": {},
   "source": [
    "----\n",
    "**TÍTOL I HASIMAGE**\n"
   ]
  },
  {
   "cell_type": "code",
   "execution_count": 585,
   "metadata": {},
   "outputs": [],
   "source": [
    "from scipy.sparse import hstack\n",
    "\n",
    "# Bag of Words\n",
    "bow_vectorizer = CountVectorizer(max_features=5000)\n",
    "X_bow2 = bow_vectorizer.fit_transform(df['title_without_stopwords'])\n",
    "\n",
    "X_image = df[['hasImage']]  \n",
    "X_combined = hstack([X_bow2, X_image])  \n",
    "\n",
    "y = df['label']\n",
    "X_train3, X_test3, y_train3, y_test3 = train_test_split(X_combined, y, test_size=0.2, random_state=42)\n"
   ]
  },
  {
   "cell_type": "markdown",
   "metadata": {},
   "source": [
    "CROSS-VALIDATION "
   ]
  },
  {
   "cell_type": "code",
   "execution_count": 586,
   "metadata": {},
   "outputs": [
    {
     "name": "stdout",
     "output_type": "stream",
     "text": [
      "Naive Bayes: 0.73019078739058\n"
     ]
    }
   ],
   "source": [
    "nb = MultinomialNB()\n",
    "cv_scoresNB = cross_val_score(nb, X_train3, y_train3, cv=5, scoring='f1')\n",
    "print(\"Naive Bayes:\", cv_scoresNB.mean())"
   ]
  },
  {
   "cell_type": "code",
   "execution_count": 587,
   "metadata": {},
   "outputs": [
    {
     "name": "stdout",
     "output_type": "stream",
     "text": [
      "GaussianNB: 0.6598805951087658\n"
     ]
    }
   ],
   "source": [
    "nb_gaussian = GaussianNB()\n",
    "cv_scores_gaussian = cross_val_score(nb_gaussian, X_train3.toarray(), y_train3, cv=5, scoring='f1') \n",
    "print(\"GaussianNB:\", cv_scores_gaussian.mean())"
   ]
  },
  {
   "cell_type": "code",
   "execution_count": 588,
   "metadata": {},
   "outputs": [
    {
     "name": "stdout",
     "output_type": "stream",
     "text": [
      "BernoulliNB: 0.7331040052801634\n"
     ]
    }
   ],
   "source": [
    "nb_bernoulli = BernoulliNB()\n",
    "cv_scores_bernoulli = cross_val_score(nb_bernoulli, X_train3, y_train3, cv=5, scoring='f1')\n",
    "print(\"BernoulliNB:\", cv_scores_bernoulli.mean())"
   ]
  },
  {
   "cell_type": "code",
   "execution_count": 589,
   "metadata": {},
   "outputs": [
    {
     "name": "stdout",
     "output_type": "stream",
     "text": [
      "ComplementNB: 0.7297386529960944\n"
     ]
    }
   ],
   "source": [
    "nb_complement = ComplementNB()\n",
    "cv_scores_complement = cross_val_score(nb_complement, X_train3, y_train3, cv=5, scoring='f1')\n",
    "print(\"ComplementNB:\", cv_scores_complement.mean())"
   ]
  },
  {
   "cell_type": "markdown",
   "metadata": {},
   "source": [
    "CERCA D'HIPERPARÀMETRES"
   ]
  },
  {
   "cell_type": "code",
   "execution_count": 590,
   "metadata": {},
   "outputs": [
    {
     "name": "stdout",
     "output_type": "stream",
     "text": [
      "--- MultinomialNB ---\n",
      "Millors hiperparàmetres: {'alpha': 0.5}\n",
      "Millor F1-score: 0.7322297061708121\n",
      "--- BernoulliNB ---\n",
      "Millors hiperparàmetres: {'alpha': 6.0, 'binarize': 0.0}\n",
      "Millor F1-score: 0.7379218811674845\n",
      "--- ComplementNB ---\n",
      "Millors hiperparàmetres: {'alpha': 0.5, 'norm': False}\n",
      "Millor F1-score: 0.7316828108337348\n"
     ]
    }
   ],
   "source": [
    "# MultinomialNB\n",
    "param_grid_multinomial = {'alpha': [0.01, 0.1, 0.5, 1.0, 2.0, 5.0]}\n",
    "grid_multinomial3 = grid_search_nb(MultinomialNB(), param_grid_multinomial, X_train3, y_train3, \"MultinomialNB\")\n",
    "\n",
    "# GaussianNB\n",
    "#param_grid_gaussian = {}  # GaussianNB no tiene hiperparámetros específicos\n",
    "#grid_gaussian = grid_search_nb(GaussianNB(), param_grid_gaussian, X_train3.toarray(), y_train3, \"GaussianNB\")\n",
    "\n",
    "# BernoulliNB\n",
    "param_grid_bernoulli = {'alpha': [0.1, 0.5, 1.0, 2.0, 5.0, 6.0], 'binarize': [0.0, 0.5, 1.0]}\n",
    "grid_bernoulli3 = grid_search_nb(BernoulliNB(), param_grid_bernoulli, X_train3, y_train3, \"BernoulliNB\")\n",
    "\n",
    "# ComplementNB\n",
    "param_grid_complement = {'alpha': [0.01, 0.1, 0.5, 1.0, 2.0, 5.0], 'norm': [True, False]}\n",
    "grid_complement3 = grid_search_nb(ComplementNB(), param_grid_complement, X_train3, y_train3, \"ComplementNB\")\n",
    "\n"
   ]
  },
  {
   "cell_type": "markdown",
   "metadata": {},
   "source": [
    "----\n",
    "**TEXT I HASIMAGE**"
   ]
  },
  {
   "cell_type": "code",
   "execution_count": 591,
   "metadata": {},
   "outputs": [],
   "source": [
    "# Bag of Words\n",
    "bow_vectorizer = CountVectorizer(max_features=5000)\n",
    "X_bow2 = bow_vectorizer.fit_transform(df['text_without_stopwords'])\n",
    "\n",
    "X_image = df[['hasImage']]  \n",
    "X_combined = hstack([X_bow2, X_image])  \n",
    "\n",
    "y = df['label']\n",
    "X_train4, X_test4, y_train4, y_test4 = train_test_split(X_combined, y, test_size=0.2, random_state=42)"
   ]
  },
  {
   "cell_type": "markdown",
   "metadata": {},
   "source": [
    "CROSS-VALIDATION"
   ]
  },
  {
   "cell_type": "code",
   "execution_count": 592,
   "metadata": {},
   "outputs": [
    {
     "name": "stdout",
     "output_type": "stream",
     "text": [
      "Naive Bayes: 0.6886912375889883\n"
     ]
    }
   ],
   "source": [
    "nb = MultinomialNB()\n",
    "cv_scoresNB = cross_val_score(nb, X_train4, y_train4, cv=5, scoring='f1')\n",
    "print(\"Naive Bayes:\", cv_scoresNB.mean())"
   ]
  },
  {
   "cell_type": "code",
   "execution_count": 593,
   "metadata": {},
   "outputs": [
    {
     "name": "stdout",
     "output_type": "stream",
     "text": [
      "GaussianNB: 0.6196957781363481\n"
     ]
    }
   ],
   "source": [
    "nb_gaussian = GaussianNB()\n",
    "cv_scores_gaussian = cross_val_score(nb_gaussian, X_train4.toarray(), y_train4, cv=5, scoring='f1') \n",
    "print(\"GaussianNB:\", cv_scores_gaussian.mean())"
   ]
  },
  {
   "cell_type": "code",
   "execution_count": 594,
   "metadata": {},
   "outputs": [
    {
     "name": "stdout",
     "output_type": "stream",
     "text": [
      "BernoulliNB: 0.5938411308879108\n"
     ]
    }
   ],
   "source": [
    "nb_bernoulli = BernoulliNB()\n",
    "cv_scores_bernoulli = cross_val_score(nb_bernoulli, X_train4, y_train4, cv=5, scoring='f1')\n",
    "print(\"BernoulliNB:\", cv_scores_bernoulli.mean())"
   ]
  },
  {
   "cell_type": "code",
   "execution_count": 595,
   "metadata": {},
   "outputs": [
    {
     "name": "stdout",
     "output_type": "stream",
     "text": [
      "ComplementNB: 0.6856728868037597\n"
     ]
    }
   ],
   "source": [
    "nb_complement = ComplementNB()\n",
    "cv_scores_complement = cross_val_score(nb_complement, X_train4, y_train4, cv=5, scoring='f1')\n",
    "print(\"ComplementNB:\", cv_scores_complement.mean())"
   ]
  },
  {
   "cell_type": "markdown",
   "metadata": {},
   "source": [
    "CERCA D'HIPERPARÀMETRES"
   ]
  },
  {
   "cell_type": "code",
   "execution_count": 596,
   "metadata": {},
   "outputs": [
    {
     "name": "stdout",
     "output_type": "stream",
     "text": [
      "--- MultinomialNB ---\n",
      "Millors hiperparàmetres: {'alpha': 0.01}\n",
      "Millor F1-score: 0.7163880697118794\n",
      "--- ComplementNB ---\n",
      "Millors hiperparàmetres: {'alpha': 0.1, 'norm': False}\n",
      "Millor F1-score: 0.7152671531688128\n"
     ]
    }
   ],
   "source": [
    "# MultinomialNB\n",
    "param_grid_multinomial = {'alpha': [0.01, 0.1, 0.5, 1.0, 2.0, 5.0]}\n",
    "grid_multinomial4 = grid_search_nb(MultinomialNB(), param_grid_multinomial, X_train4, y_train4, \"MultinomialNB\")\n",
    "\n",
    "# GaussianNB\n",
    "#param_grid_gaussian = {}  # GaussianNB no tiene hiperparámetros específicos\n",
    "#grid_gaussian = grid_search_nb(GaussianNB(), param_grid_gaussian, X_train4.toarray(), y_train4, \"GaussianNB\")\n",
    "\n",
    "# BernoulliNB\n",
    "#param_grid_bernoulli = {'alpha': [1e-250, 0.1, 0.5, 1.0, 2.0, 5.0, 6.0], 'binarize': [0.0, 0.5, 1.0]}\n",
    "#grid_bernoulli = grid_search_nb(BernoulliNB(), param_grid_bernoulli, X_train4, y_train4, \"BernoulliNB\")\n",
    "\n",
    "# ComplementNB\n",
    "param_grid_complement = {'alpha': [0.01, 0.1, 0.5, 1.0, 2.0, 5.0], 'norm': [True, False]}\n",
    "grid_complement4 = grid_search_nb(ComplementNB(), param_grid_complement, X_train4, y_train4, \"ComplementNB\")\n",
    "\n"
   ]
  },
  {
   "cell_type": "markdown",
   "metadata": {},
   "source": [
    "-----\n",
    "**TÍTOL I AUTOR**"
   ]
  },
  {
   "cell_type": "code",
   "execution_count": 597,
   "metadata": {},
   "outputs": [],
   "source": [
    "from sklearn.preprocessing import OneHotEncoder\n",
    "from sklearn.pipeline import Pipeline\n",
    "from sklearn.compose import ColumnTransformer\n",
    "\n",
    "#mes de publicació com a característica textual\n",
    "#df['month'] = df['published'].dt.strftime('%B')\n",
    "\n",
    "#X = df[['author', 'month', 'title_without_stopwords']]\n",
    "X = df[['author', 'title_without_stopwords']]\n",
    "y = df['label']\n",
    "X_train, X_test, y_train, y_test = train_test_split(X, y, test_size=0.2, random_state=42)\n",
    "\n",
    "title_vectorizer = CountVectorizer()\n",
    "\n",
    "# Codificació de l'autor i del mes\n",
    "author_encoder = OneHotEncoder(handle_unknown='ignore', sparse_output=False)\n",
    "month_encoder = OneHotEncoder(handle_unknown='ignore', sparse_output=False)\n",
    "\n",
    "preprocessor = ColumnTransformer(\n",
    "    transformers=[\n",
    "        ('title', title_vectorizer, 'title_without_stopwords'),\n",
    "        ('author', author_encoder, ['author']),  \n",
    "        #('month', month_encoder, ['month'])     \n",
    "    ]\n",
    ")\n",
    "\n",
    "pipeline = Pipeline([\n",
    "    ('preprocessor', preprocessor),\n",
    "    ('classifier', MultinomialNB())\n",
    "])\n",
    "\n",
    "pipeline_bernoulli = Pipeline([\n",
    "    ('preprocessor', preprocessor),\n",
    "    ('classifier', BernoulliNB()) \n",
    "])"
   ]
  },
  {
   "cell_type": "code",
   "execution_count": 598,
   "metadata": {},
   "outputs": [
    {
     "name": "stdout",
     "output_type": "stream",
     "text": [
      "Naive Bayes F1-score (Cross-validation): 0.8312739536873751\n",
      "--- MultinomialNB ---\n",
      "Millors hiperparàmetres: {'classifier__alpha': 1.0}\n",
      "Millor F1-score (validació creuada): 0.8312739536873751\n",
      "--- BernoulliNB ---\n",
      "Millors hiperparàmetres: {'classifier__alpha': 0.5, 'classifier__binarize': 0.0}\n",
      "Millor F1-score (validació creuada): 0.8321733091239037\n"
     ]
    }
   ],
   "source": [
    "cv_scoresNB = cross_val_score(pipeline, X_train, y_train, cv=5, scoring='f1')\n",
    "print(\"Naive Bayes F1-score (Cross-validation):\", cv_scoresNB.mean())\n",
    "\n",
    "param_grid_multinomial = {'classifier__alpha': [0.01, 0.1, 0.5, 1.0, 2.0, 5.0]} \n",
    "\n",
    "grid_multinomial = GridSearchCV(pipeline, param_grid_multinomial, cv=5, scoring='f1', n_jobs=-1)\n",
    "grid_multinomial.fit(X_train, y_train)\n",
    "\n",
    "print(f\"--- MultinomialNB ---\")\n",
    "print(\"Millors hiperparàmetres:\", grid_multinomial.best_params_)\n",
    "print(\"Millor F1-score (validació creuada):\", grid_multinomial.best_score_)\n",
    "\n",
    "\n",
    "param_grid_bernoulli = {'classifier__alpha': [0.1, 0.5, 1.0, 2.0, 5.0, 6.0], \n",
    "                        'classifier__binarize': [0.0, 0.5, 1.0]}  \n",
    "\n",
    "\n",
    "grid_bernoulli = GridSearchCV(pipeline_bernoulli, param_grid_bernoulli, cv=5, scoring='f1', n_jobs=-1)\n",
    "grid_bernoulli.fit(X_train, y_train)\n",
    "\n",
    "\n",
    "print(f\"--- BernoulliNB ---\")\n",
    "print(\"Millors hiperparàmetres:\", grid_bernoulli.best_params_)\n",
    "print(\"Millor F1-score (validació creuada):\", grid_bernoulli.best_score_)\n"
   ]
  },
  {
   "cell_type": "markdown",
   "metadata": {},
   "source": [
    "------"
   ]
  },
  {
   "cell_type": "code",
   "execution_count": 599,
   "metadata": {},
   "outputs": [
    {
     "data": {
      "image/png": "[encoded data removed]",
      "text/plain": [
       "<Figure size 1200x1000 with 4 Axes>"
      ]
     },
     "metadata": {},
     "output_type": "display_data"
    }
   ],
   "source": [
    "import matplotlib.pyplot as plt\n",
    "\n",
    "# Dades d'exemple per a cada configuració (models i F1-scores)\n",
    "configs = [\n",
    "    ([\"MultinomialNB\", \"ComplementNB\"], [grid_multinomial1.best_score_, grid_complement1.best_score_ ], \"TEXT\"),\n",
    "    ([\"MultinomialNB\", \"BernoulliNB\",\"ComplementNB\"], [grid_multinomial2.best_score_,grid_bernoulli2.best_score_, grid_complement2.best_score_ ], \"TÍTOL\"),\n",
    "    ([\"MultinomialNB\",\"BernoulliNB\", \"ComplementNB\"], [grid_multinomial3.best_score_,grid_bernoulli3.best_score_, grid_complement3.best_score_ ], \"TÍTOL I IMATGE\"),\n",
    "    ([\"MultinomialNB\", \"ComplementNB\"], [grid_multinomial4.best_score_, grid_complement4.best_score_ ], \"TEXT I IMATGE\"),\n",
    "]\n",
    "\n",
    "# Configuració del gràfic\n",
    "fig, axes = plt.subplots(2, 2, figsize=(12, 10))\n",
    "fig.suptitle(\"Bag of words\", fontsize=16)\n",
    "\n",
    "# Dibuixar els subgràfics\n",
    "for ax, (models, scores, title) in zip(axes.flatten(), configs):\n",
    "    bars = ax.bar(models, scores, color=['xkcd:sky blue', 'xkcd:light orange', 'xkcd:light green', 'xkcd:salmon'][:len(models)])\n",
    "    ax.set_ylim(0, 1)\n",
    "    ax.set_title(title, fontsize=14)\n",
    "    ax.set_xlabel(\"Model\", fontsize=12)\n",
    "    ax.set_ylabel(\"F1-Score\", fontsize=12)\n",
    "    ax.tick_params(axis='x', rotation=15)\n",
    "\n",
    "    # Afegir els valors de F1-score sobre les barres\n",
    "    for bar in bars:\n",
    "        yval = bar.get_height()\n",
    "        ax.text(bar.get_x() + bar.get_width()/2, yval + 0.02, f\"{yval:.4f}\", ha='center', va='bottom', fontsize=12)\n",
    "\n",
    "# Ajustar l'espai entre subgràfics\n",
    "plt.tight_layout(rect=[0, 0, 1, 0.95])\n",
    "plt.show()\n"
   ]
  },
  {
   "cell_type": "markdown",
   "metadata": {},
   "source": [
    "# TF-IDF"
   ]
  },
  {
   "cell_type": "markdown",
   "metadata": {},
   "source": [
    "**TEXT**"
   ]
  },
  {
   "cell_type": "code",
   "execution_count": 600,
   "metadata": {},
   "outputs": [],
   "source": [
    "from sklearn.feature_extraction.text import TfidfVectorizer\n",
    "\n",
    "# TF-IDF\n",
    "tfidf_vectorizer = TfidfVectorizer(max_features=5000)\n",
    "X_tfidf = tfidf_vectorizer.fit_transform(df['text_without_stopwords'])\n",
    "\n",
    "y = df['label']\n",
    "X_train5, X_test5, y_train5, y_test5 = train_test_split(X_tfidf, y, test_size=0.2, random_state=42)\n",
    "\n"
   ]
  },
  {
   "cell_type": "markdown",
   "metadata": {},
   "source": [
    "CROSS-VALIDATION"
   ]
  },
  {
   "cell_type": "code",
   "execution_count": 601,
   "metadata": {},
   "outputs": [
    {
     "name": "stdout",
     "output_type": "stream",
     "text": [
      "Naive Bayes: 0.7798871093048456\n"
     ]
    }
   ],
   "source": [
    "nb = MultinomialNB()\n",
    "cv_scoresNB = cross_val_score(nb, X_train5, y_train5, cv=5, scoring='f1')\n",
    "print(\"Naive Bayes:\", cv_scoresNB.mean())"
   ]
  },
  {
   "cell_type": "code",
   "execution_count": 602,
   "metadata": {},
   "outputs": [
    {
     "name": "stdout",
     "output_type": "stream",
     "text": [
      "GaussianNB: 0.7475900016158822\n"
     ]
    }
   ],
   "source": [
    "nb_gaussian = GaussianNB()\n",
    "cv_scores_gaussian = cross_val_score(nb_gaussian, X_train5.toarray(), y_train5, cv=5, scoring='f1') \n",
    "print(\"GaussianNB:\", cv_scores_gaussian.mean())"
   ]
  },
  {
   "cell_type": "code",
   "execution_count": 603,
   "metadata": {},
   "outputs": [
    {
     "name": "stdout",
     "output_type": "stream",
     "text": [
      "BernoulliNB: 0.5946523593195358\n"
     ]
    }
   ],
   "source": [
    "nb_bernoulli = BernoulliNB()\n",
    "cv_scores_bernoulli = cross_val_score(nb_bernoulli, X_train5, y_train5, cv=5, scoring='f1')\n",
    "print(\"BernoulliNB:\", cv_scores_bernoulli.mean())"
   ]
  },
  {
   "cell_type": "code",
   "execution_count": 604,
   "metadata": {},
   "outputs": [
    {
     "name": "stdout",
     "output_type": "stream",
     "text": [
      "ComplementNB: 0.7768074297108273\n"
     ]
    }
   ],
   "source": [
    "nb_complement = ComplementNB()\n",
    "cv_scores_complement = cross_val_score(nb_complement, X_train5, y_train5, cv=5, scoring='f1')\n",
    "print(\"ComplementNB:\", cv_scores_complement.mean())"
   ]
  },
  {
   "cell_type": "markdown",
   "metadata": {},
   "source": [
    "CERCA D'HIPERPARÀMETRES"
   ]
  },
  {
   "cell_type": "code",
   "execution_count": 605,
   "metadata": {},
   "outputs": [
    {
     "name": "stdout",
     "output_type": "stream",
     "text": [
      "--- MultinomialNB ---\n",
      "Millors hiperparàmetres: {'alpha': 7.0}\n",
      "Millor F1-score: 0.8033615941223239\n",
      "--- GaussianNB ---\n",
      "Millors hiperparàmetres: {}\n",
      "Millor F1-score: 0.7475900016158822\n",
      "--- ComplementNB ---\n",
      "Millors hiperparàmetres: {'alpha': 2.0, 'norm': True}\n",
      "Millor F1-score: 0.8045791721865283\n"
     ]
    }
   ],
   "source": [
    "# MultinomialNB\n",
    "param_grid_multinomial = {'alpha': [0.01, 0.1, 0.5, 1.0, 2.0, 5.0, 7.0, 8.0, 10.0, 12.0]}\n",
    "grid_multinomial5 = grid_search_nb(MultinomialNB(), param_grid_multinomial, X_train5, y_train5, \"MultinomialNB\")\n",
    "\n",
    "# GaussianNB\n",
    "param_grid_gaussian = {}  # GaussianNB no tiene hiperparámetros específicos\n",
    "grid_gaussian5 = grid_search_nb(GaussianNB(), param_grid_gaussian, X_train5.toarray(), y_train5, \"GaussianNB\")\n",
    "\n",
    "# BernoulliNB\n",
    "#param_grid_bernoulli = {'alpha': [0.1, 0.5, 1.0, 2.0, 5.0, 6.0], 'binarize': [0.0, 0.5, 1.0]}\n",
    "#grid_bernoulli = grid_search_nb(BernoulliNB(), param_grid_bernoulli, X_train5, y_train5, \"BernoulliNB\")\n",
    "\n",
    "# ComplementNB\n",
    "param_grid_complement = {'alpha': [0.01, 0.1, 0.5, 1.0, 2.0, 5.0], 'norm': [True, False]}\n",
    "grid_complement5 = grid_search_nb(ComplementNB(), param_grid_complement, X_train5, y_train5, \"ComplementNB\")\n",
    "\n"
   ]
  },
  {
   "cell_type": "markdown",
   "metadata": {},
   "source": [
    "----\n",
    "**TÍTOL**"
   ]
  },
  {
   "cell_type": "code",
   "execution_count": 606,
   "metadata": {},
   "outputs": [],
   "source": [
    "# TF-IDF\n",
    "tfidf_vectorizer = TfidfVectorizer(max_features=5000)\n",
    "X_tfidf = tfidf_vectorizer.fit_transform(df['title_without_stopwords'])\n",
    "\n",
    "y = df['label']\n",
    "X_train6, X_test6, y_train6, y_test6 = train_test_split(X_tfidf, y, test_size=0.2, random_state=42)\n"
   ]
  },
  {
   "cell_type": "markdown",
   "metadata": {},
   "source": [
    "CROSS-VALIDATION"
   ]
  },
  {
   "cell_type": "code",
   "execution_count": 607,
   "metadata": {},
   "outputs": [
    {
     "name": "stdout",
     "output_type": "stream",
     "text": [
      "Naive Bayes: 0.7417259207928663\n"
     ]
    }
   ],
   "source": [
    "nb = MultinomialNB()\n",
    "cv_scoresNB = cross_val_score(nb, X_train6, y_train6, cv=5, scoring='f1')\n",
    "print(\"Naive Bayes:\", cv_scoresNB.mean())"
   ]
  },
  {
   "cell_type": "code",
   "execution_count": 608,
   "metadata": {},
   "outputs": [
    {
     "name": "stdout",
     "output_type": "stream",
     "text": [
      "GaussianNB: 0.6741331991192059\n"
     ]
    }
   ],
   "source": [
    "nb_gaussian = GaussianNB()\n",
    "cv_scores_gaussian = cross_val_score(nb_gaussian, X_train6.toarray(), y_train6, cv=5, scoring='f1') \n",
    "print(\"GaussianNB:\", cv_scores_gaussian.mean())"
   ]
  },
  {
   "cell_type": "code",
   "execution_count": 609,
   "metadata": {},
   "outputs": [
    {
     "name": "stdout",
     "output_type": "stream",
     "text": [
      "BernoulliNB: 0.7250738141351007\n"
     ]
    }
   ],
   "source": [
    "nb_bernoulli = BernoulliNB()\n",
    "cv_scores_bernoulli = cross_val_score(nb_bernoulli, X_train6, y_train6, cv=5, scoring='f1')\n",
    "print(\"BernoulliNB:\", cv_scores_bernoulli.mean())"
   ]
  },
  {
   "cell_type": "code",
   "execution_count": 610,
   "metadata": {},
   "outputs": [
    {
     "name": "stdout",
     "output_type": "stream",
     "text": [
      "ComplementNB: 0.7388461372480226\n"
     ]
    }
   ],
   "source": [
    "nb_complement = ComplementNB()\n",
    "cv_scores_complement = cross_val_score(nb_complement, X_train6, y_train6, cv=5, scoring='f1')\n",
    "print(\"ComplementNB:\", cv_scores_complement.mean())"
   ]
  },
  {
   "cell_type": "markdown",
   "metadata": {},
   "source": [
    "CERCA D'HIPERPARÀMETRES"
   ]
  },
  {
   "cell_type": "code",
   "execution_count": 611,
   "metadata": {},
   "outputs": [
    {
     "name": "stdout",
     "output_type": "stream",
     "text": [
      "--- MultinomialNB ---\n",
      "Millors hiperparàmetres: {'alpha': 5.0}\n",
      "Millor F1-score: 0.7422277262567033\n",
      "--- BernoulliNB ---\n",
      "Millors hiperparàmetres: {'alpha': 6.0, 'binarize': 0.0}\n",
      "Millor F1-score: 0.7360562870595047\n",
      "--- ComplementNB ---\n",
      "Millors hiperparàmetres: {'alpha': 0.5, 'norm': False}\n",
      "Millor F1-score: 0.7417779110073115\n"
     ]
    }
   ],
   "source": [
    "# MultinomialNB\n",
    "param_grid_multinomial = {'alpha': [0.01, 0.1, 0.5, 1.0, 2.0, 5.0]}\n",
    "grid_multinomial6 = grid_search_nb(MultinomialNB(), param_grid_multinomial, X_train6, y_train6, \"MultinomialNB\")\n",
    "\n",
    "# GaussianNB\n",
    "#param_grid_gaussian = {}  # GaussianNB no tiene hiperparámetros específicos\n",
    "#grid_gaussian = grid_search_nb(GaussianNB(), param_grid_gaussian, X_train6.toarray(), y_train6, \"GaussianNB\")\n",
    "\n",
    "# BernoulliNB\n",
    "param_grid_bernoulli = {'alpha': [0.1, 0.5, 1.0, 2.0, 5.0, 6.0], 'binarize': [0.0, 0.5, 1.0]}\n",
    "grid_bernoulli6 = grid_search_nb(BernoulliNB(), param_grid_bernoulli, X_train6, y_train6, \"BernoulliNB\")\n",
    "\n",
    "# ComplementNB\n",
    "param_grid_complement = {'alpha': [0.01, 0.1, 0.5, 1.0, 2.0, 5.0], 'norm': [True, False]}\n",
    "grid_complement6 = grid_search_nb(ComplementNB(), param_grid_complement, X_train6, y_train6, \"ComplementNB\")\n",
    "\n"
   ]
  },
  {
   "cell_type": "markdown",
   "metadata": {},
   "source": [
    "----\n",
    "**TEXT I HASIMAGE**"
   ]
  },
  {
   "cell_type": "code",
   "execution_count": 612,
   "metadata": {},
   "outputs": [],
   "source": [
    "tfidf_vectorizer = TfidfVectorizer(max_features=5000)\n",
    "X_tfidf = tfidf_vectorizer.fit_transform(df['text_without_stopwords'])\n",
    "\n",
    "X_image = df[['hasImage']]  \n",
    "X_combined = hstack([X_tfidf, X_image])  \n",
    "#print(X_combined)\n",
    "\n",
    "y = df['label']\n",
    "\n",
    "X_train7, X_test7, y_train7, y_test7 = train_test_split(X_combined, y, test_size=0.2, random_state=42)"
   ]
  },
  {
   "cell_type": "markdown",
   "metadata": {},
   "source": [
    "CROSS-VALIDATION"
   ]
  },
  {
   "cell_type": "code",
   "execution_count": 613,
   "metadata": {},
   "outputs": [
    {
     "name": "stdout",
     "output_type": "stream",
     "text": [
      "Naive Bayes: 0.77500762656331\n"
     ]
    }
   ],
   "source": [
    "nb = MultinomialNB()\n",
    "cv_scoresNB = cross_val_score(nb, X_train7, y_train7, cv=5, scoring='f1')\n",
    "print(\"Naive Bayes:\", cv_scoresNB.mean())"
   ]
  },
  {
   "cell_type": "code",
   "execution_count": 614,
   "metadata": {},
   "outputs": [
    {
     "name": "stdout",
     "output_type": "stream",
     "text": [
      "GaussianNB: 0.7511888205712818\n"
     ]
    }
   ],
   "source": [
    "nb_gaussian = GaussianNB()\n",
    "cv_scores_gaussian = cross_val_score(nb_gaussian, X_train7.toarray(), y_train7, cv=5, scoring='f1') \n",
    "print(\"GaussianNB:\", cv_scores_gaussian.mean())"
   ]
  },
  {
   "cell_type": "code",
   "execution_count": 615,
   "metadata": {},
   "outputs": [
    {
     "name": "stdout",
     "output_type": "stream",
     "text": [
      "BernoulliNB: 0.5938411308879108\n"
     ]
    }
   ],
   "source": [
    "nb_bernoulli = BernoulliNB()\n",
    "cv_scores_bernoulli = cross_val_score(nb_bernoulli, X_train7, y_train7, cv=5, scoring='f1')\n",
    "print(\"BernoulliNB:\", cv_scores_bernoulli.mean())"
   ]
  },
  {
   "cell_type": "code",
   "execution_count": 616,
   "metadata": {},
   "outputs": [
    {
     "name": "stdout",
     "output_type": "stream",
     "text": [
      "ComplementNB: 0.7719611956789062\n"
     ]
    }
   ],
   "source": [
    "nb_complement = ComplementNB()\n",
    "cv_scores_complement = cross_val_score(nb_complement, X_train7, y_train7, cv=5, scoring='f1')\n",
    "print(\"ComplementNB:\", cv_scores_complement.mean())"
   ]
  },
  {
   "cell_type": "markdown",
   "metadata": {},
   "source": [
    "CERCA D'HIPERPARÀMETRES"
   ]
  },
  {
   "cell_type": "code",
   "execution_count": 617,
   "metadata": {},
   "outputs": [
    {
     "name": "stdout",
     "output_type": "stream",
     "text": [
      "--- MultinomialNB ---\n",
      "Millors hiperparàmetres: {'alpha': 5.0}\n",
      "Millor F1-score: 0.7854449918796444\n",
      "--- GaussianNB ---\n",
      "Millors hiperparàmetres: {}\n",
      "Millor F1-score: 0.7511888205712818\n",
      "--- ComplementNB ---\n",
      "Millors hiperparàmetres: {'alpha': 2.0, 'norm': False}\n",
      "Millor F1-score: 0.7778444487828716\n"
     ]
    }
   ],
   "source": [
    "# MultinomialNB\n",
    "param_grid_multinomial = {'alpha': [0.01, 0.1, 0.5, 1.0, 2.0, 5.0, 6.0]}\n",
    "grid_multinomial7 = grid_search_nb(MultinomialNB(), param_grid_multinomial, X_train7, y_train7, \"MultinomialNB\")\n",
    "\n",
    "# GaussianNB\n",
    "param_grid_gaussian = {}  # GaussianNB no tiene hiperparámetros específicos\n",
    "grid_gaussian7 = grid_search_nb(GaussianNB(), param_grid_gaussian, X_train7.toarray(), y_train7, \"GaussianNB\")\n",
    "\n",
    "# BernoulliNB\n",
    "#param_grid_bernoulli = {'alpha': [0.1, 0.5, 1.0, 2.0, 5.0, 6.0], 'binarize': [0.0, 0.5, 1.0]}\n",
    "#grid_bernoulli = grid_search_nb(BernoulliNB(), param_grid_bernoulli, X_train7, y_train7, \"BernoulliNB\")\n",
    "\n",
    "# ComplementNB\n",
    "param_grid_complement = {'alpha': [0.01, 0.1, 0.5, 1.0, 2.0, 5.0], 'norm': [True, False]}\n",
    "grid_complement7 = grid_search_nb(ComplementNB(), param_grid_complement, X_train7, y_train7, \"ComplementNB\")\n",
    "\n"
   ]
  },
  {
   "cell_type": "markdown",
   "metadata": {},
   "source": [
    "---\n",
    "**TITOL I HASIMAGE**"
   ]
  },
  {
   "cell_type": "markdown",
   "metadata": {},
   "source": [
    "Com amb el bag of words el que ens ha donat millor ha estat el titol+imatge ho provem també en aquest cas"
   ]
  },
  {
   "cell_type": "code",
   "execution_count": 618,
   "metadata": {},
   "outputs": [],
   "source": [
    "tfidf_vectorizer = TfidfVectorizer(max_features=5000)\n",
    "X_tfidf = tfidf_vectorizer.fit_transform(df['title_without_stopwords'])\n",
    "\n",
    "X_image = df[['hasImage']]  \n",
    "X_combined = hstack([X_bow2, X_image])  \n",
    "\n",
    "y = df['label']\n",
    "X_train8, X_test8, y_train8, y_test8 = train_test_split(X_combined, y, test_size=0.2, random_state=42)"
   ]
  },
  {
   "cell_type": "markdown",
   "metadata": {},
   "source": [
    "CROSS-VALIDATION"
   ]
  },
  {
   "cell_type": "code",
   "execution_count": 619,
   "metadata": {},
   "outputs": [
    {
     "name": "stdout",
     "output_type": "stream",
     "text": [
      "Naive Bayes: 0.6886912375889883\n"
     ]
    }
   ],
   "source": [
    "nb = MultinomialNB()\n",
    "cv_scoresNB = cross_val_score(nb, X_train8, y_train8, cv=5, scoring='f1')\n",
    "print(\"Naive Bayes:\", cv_scoresNB.mean())"
   ]
  },
  {
   "cell_type": "code",
   "execution_count": 620,
   "metadata": {},
   "outputs": [
    {
     "name": "stdout",
     "output_type": "stream",
     "text": [
      "GaussianNB: 0.6196957781363481\n"
     ]
    }
   ],
   "source": [
    "nb_gaussian = GaussianNB()\n",
    "cv_scores_gaussian = cross_val_score(nb_gaussian, X_train8.toarray(), y_train8, cv=5, scoring='f1') \n",
    "print(\"GaussianNB:\", cv_scores_gaussian.mean())"
   ]
  },
  {
   "cell_type": "code",
   "execution_count": 621,
   "metadata": {},
   "outputs": [
    {
     "name": "stdout",
     "output_type": "stream",
     "text": [
      "BernoulliNB: 0.5938411308879108\n"
     ]
    }
   ],
   "source": [
    "nb_bernoulli = BernoulliNB()\n",
    "cv_scores_bernoulli = cross_val_score(nb_bernoulli, X_train8, y_train8, cv=5, scoring='f1')\n",
    "print(\"BernoulliNB:\", cv_scores_bernoulli.mean())"
   ]
  },
  {
   "cell_type": "code",
   "execution_count": 622,
   "metadata": {},
   "outputs": [
    {
     "name": "stdout",
     "output_type": "stream",
     "text": [
      "ComplementNB: 0.6856728868037597\n"
     ]
    }
   ],
   "source": [
    "nb_complement = ComplementNB()\n",
    "cv_scores_complement = cross_val_score(nb_complement, X_train8, y_train8, cv=5, scoring='f1')\n",
    "print(\"ComplementNB:\", cv_scores_complement.mean())"
   ]
  },
  {
   "cell_type": "markdown",
   "metadata": {},
   "source": [
    "CERCA D'HIPERPARÀMETRES"
   ]
  },
  {
   "cell_type": "code",
   "execution_count": 623,
   "metadata": {},
   "outputs": [
    {
     "name": "stdout",
     "output_type": "stream",
     "text": [
      "--- MultinomialNB ---\n",
      "Millors hiperparàmetres: {'alpha': 0.01}\n",
      "Millor F1-score: 0.7163880697118794\n",
      "--- GaussianNB ---\n",
      "Millors hiperparàmetres: {}\n",
      "Millor F1-score: 0.6196957781363481\n",
      "--- ComplementNB ---\n",
      "Millors hiperparàmetres: {'alpha': 0.1, 'norm': False}\n",
      "Millor F1-score: 0.7152671531688128\n"
     ]
    }
   ],
   "source": [
    "# MultinomialNB\n",
    "param_grid_multinomial = {'alpha': [0.01, 0.1, 0.5, 1.0, 2.0, 5.0, 6.0]}\n",
    "grid_multinomial8 = grid_search_nb(MultinomialNB(), param_grid_multinomial, X_train8, y_train8, \"MultinomialNB\")\n",
    "\n",
    "# GaussianNB\n",
    "param_grid_gaussian = {}  # GaussianNB no tiene hiperparámetros específicos\n",
    "grid_gaussian8 = grid_search_nb(GaussianNB(), param_grid_gaussian, X_train8.toarray(), y_train8, \"GaussianNB\")\n",
    "\n",
    "# BernoulliNB\n",
    "#param_grid_bernoulli = {'alpha': [1e-250, 0.1, 0.5, 1.0, 2.0, 5.0, 6.0], 'binarize': [0.0, 0.5, 1.0]}\n",
    "#grid_bernoulli = grid_search_nb(BernoulliNB(), param_grid_bernoulli, X_train8, y_train8, \"BernoulliNB\")\n",
    "\n",
    "# ComplementNB\n",
    "param_grid_complement = {'alpha': [0.01, 0.1, 0.5, 1.0, 2.0, 5.0], 'norm': [True, False]}\n",
    "grid_complement8 = grid_search_nb(ComplementNB(), param_grid_complement, X_train8, y_train8, \"ComplementNB\")"
   ]
  },
  {
   "cell_type": "markdown",
   "metadata": {},
   "source": [
    "---\n",
    "**TEXT I AUTOR**"
   ]
  },
  {
   "cell_type": "code",
   "execution_count": 624,
   "metadata": {},
   "outputs": [],
   "source": [
    "#mes de publicació com a característica textual\n",
    "#df['month'] = df['published'].dt.strftime('%B')\n",
    "\n",
    "#X = df[['author', 'month', 'title_without_stopwords']]\n",
    "X = df[['author', 'text_without_stopwords']]\n",
    "y = df['label']\n",
    "X_train, X_test, y_train, y_test = train_test_split(X, y, test_size=0.2, random_state=42)\n",
    "\n",
    "title_vectorizer = TfidfVectorizer(max_features=5000)\n",
    "\n",
    "# Codificació de l'autor i del mes\n",
    "author_encoder = OneHotEncoder(handle_unknown='ignore', sparse_output=False)\n",
    "month_encoder = OneHotEncoder(handle_unknown='ignore', sparse_output=False)\n",
    "\n",
    "preprocessor = ColumnTransformer(\n",
    "    transformers=[\n",
    "        ('title', title_vectorizer, 'text_without_stopwords'),\n",
    "        ('author', author_encoder, ['author']),  \n",
    "        #('month', month_encoder, ['month'])     \n",
    "    ]\n",
    ")\n",
    "\n",
    "pipeline = Pipeline([\n",
    "    ('preprocessor', preprocessor),\n",
    "    ('classifier', MultinomialNB())\n",
    "])\n",
    "\n",
    "pipeline_bernoulli = Pipeline([\n",
    "    ('preprocessor', preprocessor),\n",
    "    ('classifier', BernoulliNB()) \n",
    "])"
   ]
  },
  {
   "cell_type": "code",
   "execution_count": 625,
   "metadata": {},
   "outputs": [
    {
     "name": "stdout",
     "output_type": "stream",
     "text": [
      "Naive Bayes F1-score (Cross-validation): 0.8907536275293799\n",
      "--- MultinomialNB ---\n",
      "Millors hiperparàmetres: {'classifier__alpha': 0.1}\n",
      "Millor F1-score (validació creuada): 0.8928054720346313\n",
      "--- BernoulliNB ---\n",
      "Millors hiperparàmetres: {'classifier__alpha': 0.1, 'classifier__binarize': 0.5}\n",
      "Millor F1-score (validació creuada): 0.7982591149268057\n"
     ]
    }
   ],
   "source": [
    "cv_scoresNB = cross_val_score(pipeline, X_train, y_train, cv=5, scoring='f1')\n",
    "print(\"Naive Bayes F1-score (Cross-validation):\", cv_scoresNB.mean())\n",
    "\n",
    "param_grid_multinomial = {'classifier__alpha': [0.01, 0.1, 0.5, 1.0, 2.0, 5.0]} \n",
    "\n",
    "grid_multinomial = GridSearchCV(pipeline, param_grid_multinomial, cv=5, scoring='f1', n_jobs=-1)\n",
    "grid_multinomial.fit(X_train, y_train)\n",
    "\n",
    "print(f\"--- MultinomialNB ---\")\n",
    "print(\"Millors hiperparàmetres:\", grid_multinomial.best_params_)\n",
    "print(\"Millor F1-score (validació creuada):\", grid_multinomial.best_score_)\n",
    "\n",
    "\n",
    "param_grid_bernoulli = {'classifier__alpha': [0.1, 0.5, 1.0, 2.0, 5.0, 6.0], \n",
    "                        'classifier__binarize': [0.0, 0.5, 1.0]}  \n",
    "\n",
    "\n",
    "grid_bernoulli = GridSearchCV(pipeline_bernoulli, param_grid_bernoulli, cv=5, scoring='f1', n_jobs=-1)\n",
    "grid_bernoulli.fit(X_train, y_train)\n",
    "\n",
    "print(f\"--- BernoulliNB ---\")\n",
    "print(\"Millors hiperparàmetres:\", grid_bernoulli.best_params_)\n",
    "print(\"Millor F1-score (validació creuada):\", grid_bernoulli.best_score_)\n",
    "\n"
   ]
  },
  {
   "cell_type": "markdown",
   "metadata": {},
   "source": [
    "----"
   ]
  },
  {
   "cell_type": "code",
   "execution_count": 626,
   "metadata": {},
   "outputs": [
    {
     "data": {
      "image/png": "[encoded data removed]",
      "text/plain": [
       "<Figure size 1200x1000 with 4 Axes>"
      ]
     },
     "metadata": {},
     "output_type": "display_data"
    }
   ],
   "source": [
    "import matplotlib.pyplot as plt\n",
    "\n",
    "# Dades d'exemple per a cada configuració (models i F1-scores)\n",
    "configs = [\n",
    "    ([\"MultinomialNB\", \"GaussianNB\",\"ComplementNB\"], [grid_multinomial5.best_score_, grid_gaussian5.best_score_,grid_complement5.best_score_ ], \"TEXT\"),\n",
    "    ([\"MultinomialNB\", \"BernoulliNB\",\"ComplementNB\"], [grid_multinomial6.best_score_,grid_bernoulli6.best_score_, grid_complement6.best_score_ ], \"TÍTOL\"),\n",
    "    ([\"MultinomialNB\",\"GaussianNB\", \"ComplementNB\"], [grid_multinomial7.best_score_,grid_gaussian7.best_score_, grid_complement7.best_score_ ], \"TÍTOL I IMATGE\"),\n",
    "    ([\"MultinomialNB\", \"GaussianNB\",\"ComplementNB\"], [grid_multinomial8.best_score_,grid_gaussian8.best_score_, grid_complement8.best_score_  ], \"TEXT I IMATGE\"),\n",
    "]\n",
    "\n",
    "# Configuració del gràfic\n",
    "fig, axes = plt.subplots(2, 2, figsize=(12, 10))\n",
    "fig.suptitle(\"TF-IDF\", fontsize=16)\n",
    "\n",
    "# Dibuixar els subgràfics\n",
    "for ax, (models, scores, title) in zip(axes.flatten(), configs):\n",
    "    bars = ax.bar(models, scores, color=['xkcd:sky blue', 'xkcd:light orange', 'xkcd:light green', 'xkcd:salmon'][:len(models)])\n",
    "    ax.set_ylim(0, 1)\n",
    "    ax.set_title(title, fontsize=14)\n",
    "    ax.set_xlabel(\"Model\", fontsize=12)\n",
    "    ax.set_ylabel(\"F1-Score\", fontsize=12)\n",
    "    ax.tick_params(axis='x', rotation=15)\n",
    "\n",
    "    # Afegir els valors de F1-score sobre les barres\n",
    "    for bar in bars:\n",
    "        yval = bar.get_height()\n",
    "        ax.text(bar.get_x() + bar.get_width()/2, yval + 0.02, f\"{yval:.4f}\", ha='center', va='bottom', fontsize=12)\n",
    "\n",
    "# Ajustar l'espai entre subgràfics\n",
    "plt.tight_layout(rect=[0, 0, 1, 0.95])\n",
    "plt.show()\n"
   ]
  },
  {
   "cell_type": "markdown",
   "metadata": {},
   "source": [
    "\n",
    "# ANÀLISI FINAL"
   ]
  },
  {
   "cell_type": "markdown",
   "metadata": {},
   "source": [
    "Els millor resultats els obtenim una vegada afegit el autor, però podem veure que no és consistent ja que en el nostre dataset hi han molt no authors o activistes sense nom o anonims, per tant no el trobem una característica representativa.\n",
    "\n",
    "Per tant aquests els decartem i el millor bé dona per el mètode TF-IDF i agafanet nms el text. Veiem que hi ha dos models que donen alt en aquest cas, el MultinomialNB i el ComplementalNB. Per poc, el millor és el ComplementalNB"
   ]
  },
  {
   "cell_type": "code",
   "execution_count": 627,
   "metadata": {},
   "outputs": [
    {
     "data": {
      "text/html": [
       "<style>#sk-container-id-6 {\n",
       "  /* Definition of color scheme common for light and dark mode */\n",
       "  --sklearn-color-text: black;\n",
       "  --sklearn-color-line: gray;\n",
       "  /* Definition of color scheme for unfitted estimators */\n",
       "  --sklearn-color-unfitted-level-0: #fff5e6;\n",
       "  --sklearn-color-unfitted-level-1: #f6e4d2;\n",
       "  --sklearn-color-unfitted-level-2: #ffe0b3;\n",
       "  --sklearn-color-unfitted-level-3: chocolate;\n",
       "  /* Definition of color scheme for fitted estimators */\n",
       "  --sklearn-color-fitted-level-0: #f0f8ff;\n",
       "  --sklearn-color-fitted-level-1: #d4ebff;\n",
       "  --sklearn-color-fitted-level-2: #b3dbfd;\n",
       "  --sklearn-color-fitted-level-3: cornflowerblue;\n",
       "\n",
       "  /* Specific color for light theme */\n",
       "  --sklearn-color-text-on-default-background: var(--sg-text-color, var(--theme-code-foreground, var(--jp-content-font-color1, black)));\n",
       "  --sklearn-color-background: var(--sg-background-color, var(--theme-background, var(--jp-layout-color0, white)));\n",
       "  --sklearn-color-border-box: var(--sg-text-color, var(--theme-code-foreground, var(--jp-content-font-color1, black)));\n",
       "  --sklearn-color-icon: #696969;\n",
       "\n",
       "  @media (prefers-color-scheme: dark) {\n",
       "    /* Redefinition of color scheme for dark theme */\n",
       "    --sklearn-color-text-on-default-background: var(--sg-text-color, var(--theme-code-foreground, var(--jp-content-font-color1, white)));\n",
       "    --sklearn-color-background: var(--sg-background-color, var(--theme-background, var(--jp-layout-color0, #111)));\n",
       "    --sklearn-color-border-box: var(--sg-text-color, var(--theme-code-foreground, var(--jp-content-font-color1, white)));\n",
       "    --sklearn-color-icon: #878787;\n",
       "  }\n",
       "}\n",
       "\n",
       "#sk-container-id-6 {\n",
       "  color: var(--sklearn-color-text);\n",
       "}\n",
       "\n",
       "#sk-container-id-6 pre {\n",
       "  padding: 0;\n",
       "}\n",
       "\n",
       "#sk-container-id-6 input.sk-hidden--visually {\n",
       "  border: 0;\n",
       "  clip: rect(1px 1px 1px 1px);\n",
       "  clip: rect(1px, 1px, 1px, 1px);\n",
       "  height: 1px;\n",
       "  margin: -1px;\n",
       "  overflow: hidden;\n",
       "  padding: 0;\n",
       "  position: absolute;\n",
       "  width: 1px;\n",
       "}\n",
       "\n",
       "#sk-container-id-6 div.sk-dashed-wrapped {\n",
       "  border: 1px dashed var(--sklearn-color-line);\n",
       "  margin: 0 0.4em 0.5em 0.4em;\n",
       "  box-sizing: border-box;\n",
       "  padding-bottom: 0.4em;\n",
       "  background-color: var(--sklearn-color-background);\n",
       "}\n",
       "\n",
       "#sk-container-id-6 div.sk-container {\n",
       "  /* jupyter's `normalize.less` sets `[hidden] { display: none; }`\n",
       "     but bootstrap.min.css set `[hidden] { display: none !important; }`\n",
       "     so we also need the `!important` here to be able to override the\n",
       "     default hidden behavior on the sphinx rendered scikit-learn.org.\n",
       "     See: https://github.com/scikit-learn/scikit-learn/issues/21755 */\n",
       "  display: inline-block !important;\n",
       "  position: relative;\n",
       "}\n",
       "\n",
       "#sk-container-id-6 div.sk-text-repr-fallback {\n",
       "  display: none;\n",
       "}\n",
       "\n",
       "div.sk-parallel-item,\n",
       "div.sk-serial,\n",
       "div.sk-item {\n",
       "  /* draw centered vertical line to link estimators */\n",
       "  background-image: linear-gradient(var(--sklearn-color-text-on-default-background), var(--sklearn-color-text-on-default-background));\n",
       "  background-size: 2px 100%;\n",
       "  background-repeat: no-repeat;\n",
       "  background-position: center center;\n",
       "}\n",
       "\n",
       "/* Parallel-specific style estimator block */\n",
       "\n",
       "#sk-container-id-6 div.sk-parallel-item::after {\n",
       "  content: \"\";\n",
       "  width: 100%;\n",
       "  border-bottom: 2px solid var(--sklearn-color-text-on-default-background);\n",
       "  flex-grow: 1;\n",
       "}\n",
       "\n",
       "#sk-container-id-6 div.sk-parallel {\n",
       "  display: flex;\n",
       "  align-items: stretch;\n",
       "  justify-content: center;\n",
       "  background-color: var(--sklearn-color-background);\n",
       "  position: relative;\n",
       "}\n",
       "\n",
       "#sk-container-id-6 div.sk-parallel-item {\n",
       "  display: flex;\n",
       "  flex-direction: column;\n",
       "}\n",
       "\n",
       "#sk-container-id-6 div.sk-parallel-item:first-child::after {\n",
       "  align-self: flex-end;\n",
       "  width: 50%;\n",
       "}\n",
       "\n",
       "#sk-container-id-6 div.sk-parallel-item:last-child::after {\n",
       "  align-self: flex-start;\n",
       "  width: 50%;\n",
       "}\n",
       "\n",
       "#sk-container-id-6 div.sk-parallel-item:only-child::after {\n",
       "  width: 0;\n",
       "}\n",
       "\n",
       "/* Serial-specific style estimator block */\n",
       "\n",
       "#sk-container-id-6 div.sk-serial {\n",
       "  display: flex;\n",
       "  flex-direction: column;\n",
       "  align-items: center;\n",
       "  background-color: var(--sklearn-color-background);\n",
       "  padding-right: 1em;\n",
       "  padding-left: 1em;\n",
       "}\n",
       "\n",
       "\n",
       "/* Toggleable style: style used for estimator/Pipeline/ColumnTransformer box that is\n",
       "clickable and can be expanded/collapsed.\n",
       "- Pipeline and ColumnTransformer use this feature and define the default style\n",
       "- Estimators will overwrite some part of the style using the `sk-estimator` class\n",
       "*/\n",
       "\n",
       "/* Pipeline and ColumnTransformer style (default) */\n",
       "\n",
       "#sk-container-id-6 div.sk-toggleable {\n",
       "  /* Default theme specific background. It is overwritten whether we have a\n",
       "  specific estimator or a Pipeline/ColumnTransformer */\n",
       "  background-color: var(--sklearn-color-background);\n",
       "}\n",
       "\n",
       "/* Toggleable label */\n",
       "#sk-container-id-6 label.sk-toggleable__label {\n",
       "  cursor: pointer;\n",
       "  display: block;\n",
       "  width: 100%;\n",
       "  margin-bottom: 0;\n",
       "  padding: 0.5em;\n",
       "  box-sizing: border-box;\n",
       "  text-align: center;\n",
       "}\n",
       "\n",
       "#sk-container-id-6 label.sk-toggleable__label-arrow:before {\n",
       "  /* Arrow on the left of the label */\n",
       "  content: \"▸\";\n",
       "  float: left;\n",
       "  margin-right: 0.25em;\n",
       "  color: var(--sklearn-color-icon);\n",
       "}\n",
       "\n",
       "#sk-container-id-6 label.sk-toggleable__label-arrow:hover:before {\n",
       "  color: var(--sklearn-color-text);\n",
       "}\n",
       "\n",
       "/* Toggleable content - dropdown */\n",
       "\n",
       "#sk-container-id-6 div.sk-toggleable__content {\n",
       "  max-height: 0;\n",
       "  max-width: 0;\n",
       "  overflow: hidden;\n",
       "  text-align: left;\n",
       "  /* unfitted */\n",
       "  background-color: var(--sklearn-color-unfitted-level-0);\n",
       "}\n",
       "\n",
       "#sk-container-id-6 div.sk-toggleable__content.fitted {\n",
       "  /* fitted */\n",
       "  background-color: var(--sklearn-color-fitted-level-0);\n",
       "}\n",
       "\n",
       "#sk-container-id-6 div.sk-toggleable__content pre {\n",
       "  margin: 0.2em;\n",
       "  border-radius: 0.25em;\n",
       "  color: var(--sklearn-color-text);\n",
       "  /* unfitted */\n",
       "  background-color: var(--sklearn-color-unfitted-level-0);\n",
       "}\n",
       "\n",
       "#sk-container-id-6 div.sk-toggleable__content.fitted pre {\n",
       "  /* unfitted */\n",
       "  background-color: var(--sklearn-color-fitted-level-0);\n",
       "}\n",
       "\n",
       "#sk-container-id-6 input.sk-toggleable__control:checked~div.sk-toggleable__content {\n",
       "  /* Expand drop-down */\n",
       "  max-height: 200px;\n",
       "  max-width: 100%;\n",
       "  overflow: auto;\n",
       "}\n",
       "\n",
       "#sk-container-id-6 input.sk-toggleable__control:checked~label.sk-toggleable__label-arrow:before {\n",
       "  content: \"▾\";\n",
       "}\n",
       "\n",
       "/* Pipeline/ColumnTransformer-specific style */\n",
       "\n",
       "#sk-container-id-6 div.sk-label input.sk-toggleable__control:checked~label.sk-toggleable__label {\n",
       "  color: var(--sklearn-color-text);\n",
       "  background-color: var(--sklearn-color-unfitted-level-2);\n",
       "}\n",
       "\n",
       "#sk-container-id-6 div.sk-label.fitted input.sk-toggleable__control:checked~label.sk-toggleable__label {\n",
       "  background-color: var(--sklearn-color-fitted-level-2);\n",
       "}\n",
       "\n",
       "/* Estimator-specific style */\n",
       "\n",
       "/* Colorize estimator box */\n",
       "#sk-container-id-6 div.sk-estimator input.sk-toggleable__control:checked~label.sk-toggleable__label {\n",
       "  /* unfitted */\n",
       "  background-color: var(--sklearn-color-unfitted-level-2);\n",
       "}\n",
       "\n",
       "#sk-container-id-6 div.sk-estimator.fitted input.sk-toggleable__control:checked~label.sk-toggleable__label {\n",
       "  /* fitted */\n",
       "  background-color: var(--sklearn-color-fitted-level-2);\n",
       "}\n",
       "\n",
       "#sk-container-id-6 div.sk-label label.sk-toggleable__label,\n",
       "#sk-container-id-6 div.sk-label label {\n",
       "  /* The background is the default theme color */\n",
       "  color: var(--sklearn-color-text-on-default-background);\n",
       "}\n",
       "\n",
       "/* On hover, darken the color of the background */\n",
       "#sk-container-id-6 div.sk-label:hover label.sk-toggleable__label {\n",
       "  color: var(--sklearn-color-text);\n",
       "  background-color: var(--sklearn-color-unfitted-level-2);\n",
       "}\n",
       "\n",
       "/* Label box, darken color on hover, fitted */\n",
       "#sk-container-id-6 div.sk-label.fitted:hover label.sk-toggleable__label.fitted {\n",
       "  color: var(--sklearn-color-text);\n",
       "  background-color: var(--sklearn-color-fitted-level-2);\n",
       "}\n",
       "\n",
       "/* Estimator label */\n",
       "\n",
       "#sk-container-id-6 div.sk-label label {\n",
       "  font-family: monospace;\n",
       "  font-weight: bold;\n",
       "  display: inline-block;\n",
       "  line-height: 1.2em;\n",
       "}\n",
       "\n",
       "#sk-container-id-6 div.sk-label-container {\n",
       "  text-align: center;\n",
       "}\n",
       "\n",
       "/* Estimator-specific */\n",
       "#sk-container-id-6 div.sk-estimator {\n",
       "  font-family: monospace;\n",
       "  border: 1px dotted var(--sklearn-color-border-box);\n",
       "  border-radius: 0.25em;\n",
       "  box-sizing: border-box;\n",
       "  margin-bottom: 0.5em;\n",
       "  /* unfitted */\n",
       "  background-color: var(--sklearn-color-unfitted-level-0);\n",
       "}\n",
       "\n",
       "#sk-container-id-6 div.sk-estimator.fitted {\n",
       "  /* fitted */\n",
       "  background-color: var(--sklearn-color-fitted-level-0);\n",
       "}\n",
       "\n",
       "/* on hover */\n",
       "#sk-container-id-6 div.sk-estimator:hover {\n",
       "  /* unfitted */\n",
       "  background-color: var(--sklearn-color-unfitted-level-2);\n",
       "}\n",
       "\n",
       "#sk-container-id-6 div.sk-estimator.fitted:hover {\n",
       "  /* fitted */\n",
       "  background-color: var(--sklearn-color-fitted-level-2);\n",
       "}\n",
       "\n",
       "/* Specification for estimator info (e.g. \"i\" and \"?\") */\n",
       "\n",
       "/* Common style for \"i\" and \"?\" */\n",
       "\n",
       ".sk-estimator-doc-link,\n",
       "a:link.sk-estimator-doc-link,\n",
       "a:visited.sk-estimator-doc-link {\n",
       "  float: right;\n",
       "  font-size: smaller;\n",
       "  line-height: 1em;\n",
       "  font-family: monospace;\n",
       "  background-color: var(--sklearn-color-background);\n",
       "  border-radius: 1em;\n",
       "  height: 1em;\n",
       "  width: 1em;\n",
       "  text-decoration: none !important;\n",
       "  margin-left: 1ex;\n",
       "  /* unfitted */\n",
       "  border: var(--sklearn-color-unfitted-level-1) 1pt solid;\n",
       "  color: var(--sklearn-color-unfitted-level-1);\n",
       "}\n",
       "\n",
       ".sk-estimator-doc-link.fitted,\n",
       "a:link.sk-estimator-doc-link.fitted,\n",
       "a:visited.sk-estimator-doc-link.fitted {\n",
       "  /* fitted */\n",
       "  border: var(--sklearn-color-fitted-level-1) 1pt solid;\n",
       "  color: var(--sklearn-color-fitted-level-1);\n",
       "}\n",
       "\n",
       "/* On hover */\n",
       "div.sk-estimator:hover .sk-estimator-doc-link:hover,\n",
       ".sk-estimator-doc-link:hover,\n",
       "div.sk-label-container:hover .sk-estimator-doc-link:hover,\n",
       ".sk-estimator-doc-link:hover {\n",
       "  /* unfitted */\n",
       "  background-color: var(--sklearn-color-unfitted-level-3);\n",
       "  color: var(--sklearn-color-background);\n",
       "  text-decoration: none;\n",
       "}\n",
       "\n",
       "div.sk-estimator.fitted:hover .sk-estimator-doc-link.fitted:hover,\n",
       ".sk-estimator-doc-link.fitted:hover,\n",
       "div.sk-label-container:hover .sk-estimator-doc-link.fitted:hover,\n",
       ".sk-estimator-doc-link.fitted:hover {\n",
       "  /* fitted */\n",
       "  background-color: var(--sklearn-color-fitted-level-3);\n",
       "  color: var(--sklearn-color-background);\n",
       "  text-decoration: none;\n",
       "}\n",
       "\n",
       "/* Span, style for the box shown on hovering the info icon */\n",
       ".sk-estimator-doc-link span {\n",
       "  display: none;\n",
       "  z-index: 9999;\n",
       "  position: relative;\n",
       "  font-weight: normal;\n",
       "  right: .2ex;\n",
       "  padding: .5ex;\n",
       "  margin: .5ex;\n",
       "  width: min-content;\n",
       "  min-width: 20ex;\n",
       "  max-width: 50ex;\n",
       "  color: var(--sklearn-color-text);\n",
       "  box-shadow: 2pt 2pt 4pt #999;\n",
       "  /* unfitted */\n",
       "  background: var(--sklearn-color-unfitted-level-0);\n",
       "  border: .5pt solid var(--sklearn-color-unfitted-level-3);\n",
       "}\n",
       "\n",
       ".sk-estimator-doc-link.fitted span {\n",
       "  /* fitted */\n",
       "  background: var(--sklearn-color-fitted-level-0);\n",
       "  border: var(--sklearn-color-fitted-level-3);\n",
       "}\n",
       "\n",
       ".sk-estimator-doc-link:hover span {\n",
       "  display: block;\n",
       "}\n",
       "\n",
       "/* \"?\"-specific style due to the `<a>` HTML tag */\n",
       "\n",
       "#sk-container-id-6 a.estimator_doc_link {\n",
       "  float: right;\n",
       "  font-size: 1rem;\n",
       "  line-height: 1em;\n",
       "  font-family: monospace;\n",
       "  background-color: var(--sklearn-color-background);\n",
       "  border-radius: 1rem;\n",
       "  height: 1rem;\n",
       "  width: 1rem;\n",
       "  text-decoration: none;\n",
       "  /* unfitted */\n",
       "  color: var(--sklearn-color-unfitted-level-1);\n",
       "  border: var(--sklearn-color-unfitted-level-1) 1pt solid;\n",
       "}\n",
       "\n",
       "#sk-container-id-6 a.estimator_doc_link.fitted {\n",
       "  /* fitted */\n",
       "  border: var(--sklearn-color-fitted-level-1) 1pt solid;\n",
       "  color: var(--sklearn-color-fitted-level-1);\n",
       "}\n",
       "\n",
       "/* On hover */\n",
       "#sk-container-id-6 a.estimator_doc_link:hover {\n",
       "  /* unfitted */\n",
       "  background-color: var(--sklearn-color-unfitted-level-3);\n",
       "  color: var(--sklearn-color-background);\n",
       "  text-decoration: none;\n",
       "}\n",
       "\n",
       "#sk-container-id-6 a.estimator_doc_link.fitted:hover {\n",
       "  /* fitted */\n",
       "  background-color: var(--sklearn-color-fitted-level-3);\n",
       "}\n",
       "</style><div id=\"sk-container-id-6\" class=\"sk-top-container\"><div class=\"sk-text-repr-fallback\"><pre>ComplementNB()</pre><b>In a Jupyter environment, please rerun this cell to show the HTML representation or trust the notebook. <br />On GitHub, the HTML representation is unable to render, please try loading this page with nbviewer.org.</b></div><div class=\"sk-container\" hidden><div class=\"sk-item\"><div class=\"sk-estimator fitted sk-toggleable\"><input class=\"sk-toggleable__control sk-hidden--visually\" id=\"sk-estimator-id-6\" type=\"checkbox\" checked><label for=\"sk-estimator-id-6\" class=\"sk-toggleable__label fitted sk-toggleable__label-arrow fitted\">&nbsp;&nbsp;ComplementNB<a class=\"sk-estimator-doc-link fitted\" rel=\"noreferrer\" target=\"_blank\" href=\"https://scikit-learn.org/1.5/modules/generated/sklearn.naive_bayes.ComplementNB.html\">?<span>Documentation for ComplementNB</span></a><span class=\"sk-estimator-doc-link fitted\">i<span>Fitted</span></span></label><div class=\"sk-toggleable__content fitted\"><pre>ComplementNB()</pre></div> </div></div></div></div>"
      ],
      "text/plain": [
       "ComplementNB()"
      ]
     },
     "execution_count": 627,
     "metadata": {},
     "output_type": "execute_result"
    }
   ],
   "source": [
    "nb_complement.fit(X_train5,y_train5)"
   ]
  },
  {
   "cell_type": "code",
   "execution_count": 628,
   "metadata": {},
   "outputs": [
    {
     "data": {
      "image/png": "[encoded data removed]",
      "text/plain": [
       "<Figure size 640x480 with 1 Axes>"
      ]
     },
     "metadata": {},
     "output_type": "display_data"
    },
    {
     "data": {
      "image/png": "[encoded data removed]",
      "text/plain": [
       "<Figure size 640x480 with 1 Axes>"
      ]
     },
     "metadata": {},
     "output_type": "display_data"
    }
   ],
   "source": [
    "from sklearn.metrics import roc_curve,roc_auc_score\n",
    "\n",
    "# Corba ROC\n",
    "probs = nb_complement.predict_proba(X_train5)\n",
    "probs_test = nb_complement.predict_proba(X_test5)\n",
    "\n",
    "fpr, tpr, _ = roc_curve(y_train5, probs[:, 1])\n",
    "roc_auc = roc_auc_score(y_train5, probs[:, 1])\n",
    "\n",
    "fpr_test, tpr_test, _ = roc_curve(y_test5, probs_test[:, 1])\n",
    "roc_auc_test = roc_auc_score(y_test5, probs_test[:, 1])\n",
    "\n",
    "plt.plot(fpr, tpr, color='xkcd:blue', label=f'AUC Train: {round(roc_auc, 2)}')\n",
    "plt.title('ROC Curve (Train)')\n",
    "plt.xlabel('False Positive Rate')\n",
    "plt.ylabel('True Positive Rate')\n",
    "plt.legend()\n",
    "plt.show()\n",
    "\n",
    "plt.plot(fpr_test, tpr_test, color='xkcd:blue', label=f'AUC Test: {round(roc_auc_test, 2)}')\n",
    "plt.title('ROC Curve (Test)')\n",
    "plt.xlabel('False Positive Rate')\n",
    "plt.ylabel('True Positive Rate')\n",
    "plt.legend()\n",
    "plt.show()"
   ]
  },
  {
   "cell_type": "code",
   "execution_count": 629,
   "metadata": {},
   "outputs": [
    {
     "name": "stdout",
     "output_type": "stream",
     "text": [
      "Accuracy: 0.74\n",
      "F1 Score: 0.75\n"
     ]
    }
   ],
   "source": [
    "from sklearn.metrics import accuracy_score, f1_score\n",
    "\n",
    "y_pred = nb_complement.predict(X_test5)\n",
    "accuracy = accuracy_score(y_test5, y_pred)\n",
    "print(f'Accuracy: {accuracy:.2f}')\n",
    "\n",
    "f1 = f1_score(y_test5, y_pred)\n",
    "\n",
    "print(f'F1 Score: {f1:.2f}')"
   ]
  },
  {
   "cell_type": "code",
   "execution_count": 630,
   "metadata": {},
   "outputs": [
    {
     "name": "stdout",
     "output_type": "stream",
     "text": [
      "[[177  61]\n",
      " [ 69 199]]\n",
      "[0.7195122  0.76538462] [0.74369748 0.74253731] [0.73140496 0.75378788] [238 268]\n"
     ]
    },
    {
     "data": {
      "text/plain": [
       "Text(50.722222222222214, 0.5, 'Classe Real')"
      ]
     },
     "execution_count": 630,
     "metadata": {},
     "output_type": "execute_result"
    },
    {
     "data": {
      "image/png": "[encoded data removed]",
      "text/plain": [
       "<Figure size 640x480 with 1 Axes>"
      ]
     },
     "metadata": {},
     "output_type": "display_data"
    }
   ],
   "source": [
    "from sklearn.metrics import precision_recall_fscore_support, confusion_matrix\n",
    "\n",
    "conf = confusion_matrix(y_test5,y_pred)\n",
    "\n",
    "prec,rec,f1, sup = precision_recall_fscore_support(y_test5,y_pred)\n",
    "print(conf)\n",
    "print(prec, rec, f1, sup)\n",
    "\n",
    "conf_perc=np.array(100*conf.T/conf.sum(axis = 1),dtype = int).T\n",
    "sns.heatmap(conf_perc, annot=True, fmt=\"d\", cmap=\"Reds\", cbar=False, xticklabels=['REAL', 'FALSA'], yticklabels=['REAL', 'FALSA'])\n",
    "\n",
    "plt.title('Matriu de Confusió')\n",
    "plt.xlabel('Classe Predita')\n",
    "plt.ylabel('Classe Real')"
   ]
  },
  {
   "cell_type": "markdown",
   "metadata": {},
   "source": [
    "# CAS D'ÚS"
   ]
  },
  {
   "cell_type": "code",
   "execution_count": null,
   "metadata": {},
   "outputs": [],
   "source": []
  }
 ],
 "metadata": {
  "kernelspec": {
   "display_name": ".venv",
   "language": "python",
   "name": "python3"
  },
  "language_info": {
   "codemirror_mode": {
    "name": "ipython",
    "version": 3
   },
   "file_extension": ".py",
   "mimetype": "text/x-python",
   "name": "python",
   "nbconvert_exporter": "python",
   "pygments_lexer": "ipython3",
   "version": "3.13.0"
  }
 },
 "nbformat": 4,
 "nbformat_minor": 2
}
