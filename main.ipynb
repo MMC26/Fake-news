{
 "cells": [
  {
   "cell_type": "code",
   "execution_count": 425,
   "metadata": {},
   "outputs": [],
   "source": [
    "import pandas as pd\n",
    "df = pd.read_csv('combined_news_dataset.csv')\n"
   ]
  },
  {
   "cell_type": "markdown",
   "metadata": {},
   "source": [
    "Veiem que, en fer el scraping, la data de publicació de les diferents notícies (present a la columna *published*) està expressada en zones horàries diferents i amb un format diferent. Algunes dates estan expressades en UTC (Coordinated Universal Time), mentre que d'altres utilitzen altres zones horàries locals, com l'horari d'Europa o d'Amèrica, que tenen desplaçaments respecte a UTC.\n",
    "\n",
    "Per solucionar aquesta diversitat de formats i zones horàries, transformem totes les dades a UTC(per ser universal) i en format ISO 8601 (`AAAA-MM-DDTHH:mm:ss+00:00`)."
   ]
  },
  {
   "cell_type": "code",
   "execution_count": 426,
   "metadata": {},
   "outputs": [
    {
     "name": "stdout",
     "output_type": "stream",
     "text": [
      "Nombre de dates no convertides: 2\n",
      "Dates que no s'han pogut convertir:\n",
      "848    NaT\n",
      "1838   NaT\n",
      "Name: published, dtype: datetime64[ns, UTC]\n",
      "0          2016-10-26 18:41:00+00:00\n",
      "1   2016-10-29 05:47:11.259000+00:00\n",
      "2   2016-10-30 23:41:49.479000+00:00\n",
      "3          2016-11-01 03:22:00+00:00\n",
      "4          2016-11-01 19:56:00+00:00\n",
      "Name: published, dtype: datetime64[ns, UTC]\n",
      "2591   2024-11-14 22:00:12+00:00\n",
      "2592   2024-11-14 22:00:00+00:00\n",
      "2593   2024-11-14 21:59:09+00:00\n",
      "2594   2024-11-14 21:58:38+00:00\n",
      "2595   2024-11-14 21:54:18+00:00\n",
      "Name: published, dtype: datetime64[ns, UTC]\n"
     ]
    }
   ],
   "source": [
    "from dateutil import parser\n",
    "import numpy as np\n",
    "\n",
    "def parse_date(date_str):\n",
    "    try:\n",
    "        return parser.parse(date_str)\n",
    "    except (ValueError, TypeError):\n",
    "        return None  # Retorna None si la data no es pot convertir\n",
    "\n",
    "df['published'] = df['published'].apply(lambda x: parse_date(x) if pd.notnull(x) else x)\n",
    "\n",
    "num_nat = df['published'].isna().sum()\n",
    "print(f\"Nombre de dates no convertides: {num_nat}\")\n",
    "\n",
    "# Converteix la columna 'published' a un tipus de pandas amb suport de zona horària\n",
    "df['published'] = pd.to_datetime(df['published'], utc=True, errors='coerce')\n",
    "\n",
    "dates_no_convertides = df[df['published'].isna()]['published']\n",
    "print(\"Dates que no s'han pogut convertir:\")\n",
    "print(dates_no_convertides)\n",
    "\n",
    "print(df['published'].head())\n",
    "print(df['published'].tail())"
   ]
  },
  {
   "cell_type": "markdown",
   "metadata": {},
   "source": [
    "També observem que hi ha autors que no són Nans pero que tenen assignat 'No Author' o '-NO AUTHOR-'. Per poder tractar les dades adequadament, assignarem aquests valors com Nans. El mateix amb les notícies sense imatge assignades com 'No Image URL' i amb el títol 'no title', i pel títol i el text [Removed]."
   ]
  },
  {
   "cell_type": "code",
   "execution_count": 427,
   "metadata": {},
   "outputs": [
    {
     "name": "stdout",
     "output_type": "stream",
     "text": [
      "Dates originals que no s'han pogut convertir:\n",
      "848     http://davidduke.com/wp-content/uploads/2014/0...\n",
      "1838    http://theeconomiccollapseblog.com/wp-content/...\n",
      "Name: published, dtype: object\n"
     ]
    }
   ],
   "source": [
    "df_no_conv = pd.read_csv('combined_news_dataset.csv')\n",
    "dates_no_convertides_originals = df_no_conv.loc[[848, 1838], 'published']\n",
    "print(\"Dates originals que no s'han pogut convertir:\")\n",
    "print(dates_no_convertides_originals)\n",
    "#les dates que no s'han pogut convertir és perquè són links"
   ]
  },
  {
   "cell_type": "code",
   "execution_count": 428,
   "metadata": {},
   "outputs": [],
   "source": [
    "\n",
    "df = df.dropna(subset=['published'])"
   ]
  },
  {
   "cell_type": "code",
   "execution_count": 429,
   "metadata": {},
   "outputs": [],
   "source": [
    "#df['author'] = df['author'].replace(['No Author', '-NO AUTHOR-'], np.nan)\n",
    "df['main_img_url'] = df['main_img_url'].replace(['No Image URL'], np.nan)\n",
    "df['title'] = df['title'].replace(['no title', '[Removed]'], np.nan)\n",
    "df['text'] = df['text'].replace(['[Removed]'], np.nan)\n",
    "df['text_without_stopwords'] = df['text_without_stopwords'].replace(['[ Removed ]'], np.nan)"
   ]
  },
  {
   "cell_type": "code",
   "execution_count": 430,
   "metadata": {},
   "outputs": [
    {
     "data": {
      "text/html": [
       "<div>\n",
       "<style scoped>\n",
       "    .dataframe tbody tr th:only-of-type {\n",
       "        vertical-align: middle;\n",
       "    }\n",
       "\n",
       "    .dataframe tbody tr th {\n",
       "        vertical-align: top;\n",
       "    }\n",
       "\n",
       "    .dataframe thead th {\n",
       "        text-align: right;\n",
       "    }\n",
       "</style>\n",
       "<table border=\"1\" class=\"dataframe\">\n",
       "  <thead>\n",
       "    <tr style=\"text-align: right;\">\n",
       "      <th></th>\n",
       "      <th>author</th>\n",
       "      <th>published</th>\n",
       "      <th>title</th>\n",
       "      <th>text</th>\n",
       "      <th>language</th>\n",
       "      <th>site_url</th>\n",
       "      <th>main_img_url</th>\n",
       "      <th>type</th>\n",
       "      <th>label</th>\n",
       "      <th>title_without_stopwords</th>\n",
       "      <th>text_without_stopwords</th>\n",
       "      <th>hasImage</th>\n",
       "    </tr>\n",
       "  </thead>\n",
       "  <tbody>\n",
       "    <tr>\n",
       "      <th>count</th>\n",
       "      <td>2529</td>\n",
       "      <td>2594</td>\n",
       "      <td>2389</td>\n",
       "      <td>2529</td>\n",
       "      <td>2593</td>\n",
       "      <td>2593</td>\n",
       "      <td>2085</td>\n",
       "      <td>2593</td>\n",
       "      <td>2593</td>\n",
       "      <td>2592</td>\n",
       "      <td>2525</td>\n",
       "      <td>2593.000000</td>\n",
       "    </tr>\n",
       "    <tr>\n",
       "      <th>unique</th>\n",
       "      <td>805</td>\n",
       "      <td>NaN</td>\n",
       "      <td>2200</td>\n",
       "      <td>2353</td>\n",
       "      <td>5</td>\n",
       "      <td>499</td>\n",
       "      <td>1606</td>\n",
       "      <td>9</td>\n",
       "      <td>2</td>\n",
       "      <td>2198</td>\n",
       "      <td>2349</td>\n",
       "      <td>NaN</td>\n",
       "    </tr>\n",
       "    <tr>\n",
       "      <th>top</th>\n",
       "      <td>No Author</td>\n",
       "      <td>NaN</td>\n",
       "      <td>newsticker</td>\n",
       "      <td>“There are a lot of blogs and news sites claim...</td>\n",
       "      <td>english</td>\n",
       "      <td>prisonplanet.com</td>\n",
       "      <td>http://conservativeangle.com/wp-content/upload...</td>\n",
       "      <td>bs</td>\n",
       "      <td>Real</td>\n",
       "      <td>title</td>\n",
       "      <td>“ lot blogs news sites claiming understand pol...</td>\n",
       "      <td>NaN</td>\n",
       "    </tr>\n",
       "    <tr>\n",
       "      <th>freq</th>\n",
       "      <td>505</td>\n",
       "      <td>NaN</td>\n",
       "      <td>11</td>\n",
       "      <td>9</td>\n",
       "      <td>2516</td>\n",
       "      <td>100</td>\n",
       "      <td>58</td>\n",
       "      <td>600</td>\n",
       "      <td>1300</td>\n",
       "      <td>187</td>\n",
       "      <td>9</td>\n",
       "      <td>NaN</td>\n",
       "    </tr>\n",
       "    <tr>\n",
       "      <th>mean</th>\n",
       "      <td>NaN</td>\n",
       "      <td>2018-05-22 07:08:40.243757056+00:00</td>\n",
       "      <td>NaN</td>\n",
       "      <td>NaN</td>\n",
       "      <td>NaN</td>\n",
       "      <td>NaN</td>\n",
       "      <td>NaN</td>\n",
       "      <td>NaN</td>\n",
       "      <td>NaN</td>\n",
       "      <td>NaN</td>\n",
       "      <td>NaN</td>\n",
       "      <td>0.803702</td>\n",
       "    </tr>\n",
       "    <tr>\n",
       "      <th>min</th>\n",
       "      <td>NaN</td>\n",
       "      <td>2016-10-26 00:51:00+00:00</td>\n",
       "      <td>NaN</td>\n",
       "      <td>NaN</td>\n",
       "      <td>NaN</td>\n",
       "      <td>NaN</td>\n",
       "      <td>NaN</td>\n",
       "      <td>NaN</td>\n",
       "      <td>NaN</td>\n",
       "      <td>NaN</td>\n",
       "      <td>NaN</td>\n",
       "      <td>0.000000</td>\n",
       "    </tr>\n",
       "    <tr>\n",
       "      <th>25%</th>\n",
       "      <td>NaN</td>\n",
       "      <td>2016-10-27 21:03:15+00:00</td>\n",
       "      <td>NaN</td>\n",
       "      <td>NaN</td>\n",
       "      <td>NaN</td>\n",
       "      <td>NaN</td>\n",
       "      <td>NaN</td>\n",
       "      <td>NaN</td>\n",
       "      <td>NaN</td>\n",
       "      <td>NaN</td>\n",
       "      <td>NaN</td>\n",
       "      <td>1.000000</td>\n",
       "    </tr>\n",
       "    <tr>\n",
       "      <th>50%</th>\n",
       "      <td>NaN</td>\n",
       "      <td>2016-11-01 22:13:02.201499904+00:00</td>\n",
       "      <td>NaN</td>\n",
       "      <td>NaN</td>\n",
       "      <td>NaN</td>\n",
       "      <td>NaN</td>\n",
       "      <td>NaN</td>\n",
       "      <td>NaN</td>\n",
       "      <td>NaN</td>\n",
       "      <td>NaN</td>\n",
       "      <td>NaN</td>\n",
       "      <td>1.000000</td>\n",
       "    </tr>\n",
       "    <tr>\n",
       "      <th>75%</th>\n",
       "      <td>NaN</td>\n",
       "      <td>2016-11-18 18:10:28.578500096+00:00</td>\n",
       "      <td>NaN</td>\n",
       "      <td>NaN</td>\n",
       "      <td>NaN</td>\n",
       "      <td>NaN</td>\n",
       "      <td>NaN</td>\n",
       "      <td>NaN</td>\n",
       "      <td>NaN</td>\n",
       "      <td>NaN</td>\n",
       "      <td>NaN</td>\n",
       "      <td>1.000000</td>\n",
       "    </tr>\n",
       "    <tr>\n",
       "      <th>max</th>\n",
       "      <td>NaN</td>\n",
       "      <td>2024-11-14 23:59:28+00:00</td>\n",
       "      <td>NaN</td>\n",
       "      <td>NaN</td>\n",
       "      <td>NaN</td>\n",
       "      <td>NaN</td>\n",
       "      <td>NaN</td>\n",
       "      <td>NaN</td>\n",
       "      <td>NaN</td>\n",
       "      <td>NaN</td>\n",
       "      <td>NaN</td>\n",
       "      <td>1.000000</td>\n",
       "    </tr>\n",
       "    <tr>\n",
       "      <th>std</th>\n",
       "      <td>NaN</td>\n",
       "      <td>NaN</td>\n",
       "      <td>NaN</td>\n",
       "      <td>NaN</td>\n",
       "      <td>NaN</td>\n",
       "      <td>NaN</td>\n",
       "      <td>NaN</td>\n",
       "      <td>NaN</td>\n",
       "      <td>NaN</td>\n",
       "      <td>NaN</td>\n",
       "      <td>NaN</td>\n",
       "      <td>0.397273</td>\n",
       "    </tr>\n",
       "  </tbody>\n",
       "</table>\n",
       "</div>"
      ],
      "text/plain": [
       "           author                            published       title   \n",
       "count        2529                                 2594        2389  \\\n",
       "unique        805                                  NaN        2200   \n",
       "top     No Author                                  NaN  newsticker   \n",
       "freq          505                                  NaN          11   \n",
       "mean          NaN  2018-05-22 07:08:40.243757056+00:00         NaN   \n",
       "min           NaN            2016-10-26 00:51:00+00:00         NaN   \n",
       "25%           NaN            2016-10-27 21:03:15+00:00         NaN   \n",
       "50%           NaN  2016-11-01 22:13:02.201499904+00:00         NaN   \n",
       "75%           NaN  2016-11-18 18:10:28.578500096+00:00         NaN   \n",
       "max           NaN            2024-11-14 23:59:28+00:00         NaN   \n",
       "std           NaN                                  NaN         NaN   \n",
       "\n",
       "                                                     text language   \n",
       "count                                                2529     2593  \\\n",
       "unique                                               2353        5   \n",
       "top     “There are a lot of blogs and news sites claim...  english   \n",
       "freq                                                    9     2516   \n",
       "mean                                                  NaN      NaN   \n",
       "min                                                   NaN      NaN   \n",
       "25%                                                   NaN      NaN   \n",
       "50%                                                   NaN      NaN   \n",
       "75%                                                   NaN      NaN   \n",
       "max                                                   NaN      NaN   \n",
       "std                                                   NaN      NaN   \n",
       "\n",
       "                site_url                                       main_img_url   \n",
       "count               2593                                               2085  \\\n",
       "unique               499                                               1606   \n",
       "top     prisonplanet.com  http://conservativeangle.com/wp-content/upload...   \n",
       "freq                 100                                                 58   \n",
       "mean                 NaN                                                NaN   \n",
       "min                  NaN                                                NaN   \n",
       "25%                  NaN                                                NaN   \n",
       "50%                  NaN                                                NaN   \n",
       "75%                  NaN                                                NaN   \n",
       "max                  NaN                                                NaN   \n",
       "std                  NaN                                                NaN   \n",
       "\n",
       "        type label title_without_stopwords   \n",
       "count   2593  2593                    2592  \\\n",
       "unique     9     2                    2198   \n",
       "top       bs  Real                   title   \n",
       "freq     600  1300                     187   \n",
       "mean     NaN   NaN                     NaN   \n",
       "min      NaN   NaN                     NaN   \n",
       "25%      NaN   NaN                     NaN   \n",
       "50%      NaN   NaN                     NaN   \n",
       "75%      NaN   NaN                     NaN   \n",
       "max      NaN   NaN                     NaN   \n",
       "std      NaN   NaN                     NaN   \n",
       "\n",
       "                                   text_without_stopwords     hasImage  \n",
       "count                                                2525  2593.000000  \n",
       "unique                                               2349          NaN  \n",
       "top     “ lot blogs news sites claiming understand pol...          NaN  \n",
       "freq                                                    9          NaN  \n",
       "mean                                                  NaN     0.803702  \n",
       "min                                                   NaN     0.000000  \n",
       "25%                                                   NaN     1.000000  \n",
       "50%                                                   NaN     1.000000  \n",
       "75%                                                   NaN     1.000000  \n",
       "max                                                   NaN     1.000000  \n",
       "std                                                   NaN     0.397273  "
      ]
     },
     "execution_count": 430,
     "metadata": {},
     "output_type": "execute_result"
    }
   ],
   "source": [
    "df.describe(include='all')"
   ]
  },
  {
   "cell_type": "code",
   "execution_count": 431,
   "metadata": {},
   "outputs": [
    {
     "name": "stdout",
     "output_type": "stream",
     "text": [
      "['author', 'title', 'text', 'language', 'site_url', 'main_img_url', 'type', 'label', 'title_without_stopwords', 'text_without_stopwords', 'hasImage']\n",
      "author                      2.505783\n",
      "title                       7.902853\n",
      "text                        2.505783\n",
      "language                    0.038551\n",
      "site_url                    0.038551\n",
      "main_img_url               19.622205\n",
      "type                        0.038551\n",
      "label                       0.038551\n",
      "title_without_stopwords     0.077101\n",
      "text_without_stopwords      2.659985\n",
      "hasImage                    0.038551\n",
      "dtype: float64\n"
     ]
    }
   ],
   "source": [
    "#Mirem si hi ha nans (%)\n",
    "nan_columns = df.columns[df.isna().sum()>0].tolist()\n",
    "print (nan_columns)\n",
    "print (df.loc[:,nan_columns].isna().sum()/len(df)*100)"
   ]
  },
  {
   "cell_type": "code",
   "execution_count": 432,
   "metadata": {},
   "outputs": [
    {
     "name": "stdout",
     "output_type": "stream",
     "text": [
      "author                      65\n",
      "published                    0\n",
      "title                      205\n",
      "text                        65\n",
      "language                     1\n",
      "site_url                     1\n",
      "main_img_url               509\n",
      "type                         1\n",
      "label                        1\n",
      "title_without_stopwords      2\n",
      "text_without_stopwords      69\n",
      "hasImage                     1\n",
      "dtype: int64\n"
     ]
    }
   ],
   "source": [
    "#nans(#)\n",
    "print(df.isnull().sum())"
   ]
  },
  {
   "cell_type": "code",
   "execution_count": 433,
   "metadata": {},
   "outputs": [
    {
     "name": "stdout",
     "output_type": "stream",
     "text": [
      "0    0\n",
      "1    0\n",
      "2    0\n",
      "3    0\n",
      "4    0\n",
      "Name: label, dtype: object\n",
      "[0 1]\n"
     ]
    }
   ],
   "source": [
    "#Convertim Real a 0 i Fake a 1 i eliminem la fila que te un Nan a la columna label\n",
    "df = df.dropna(subset=['label'])\n",
    "\n",
    "df.loc[:, 'label'] = df['label'].map({'Real': 0, 'Fake': 1})\n",
    "\n",
    "print(df['label'].head())\n",
    "print(df['label'].unique())"
   ]
  },
  {
   "cell_type": "code",
   "execution_count": 434,
   "metadata": {},
   "outputs": [
    {
     "name": "stdout",
     "output_type": "stream",
     "text": [
      "author                      65\n",
      "published                    0\n",
      "title                      205\n",
      "text                        64\n",
      "language                     0\n",
      "site_url                     0\n",
      "main_img_url               508\n",
      "type                         0\n",
      "label                        0\n",
      "title_without_stopwords      1\n",
      "text_without_stopwords      68\n",
      "hasImage                     0\n",
      "dtype: int64\n"
     ]
    }
   ],
   "source": [
    "print(df.isnull().sum())"
   ]
  },
  {
   "cell_type": "markdown",
   "metadata": {},
   "source": [
    "    Eliminem la columna del url de les imatges ja que estan en un format que no es pot obrir i, per tant, no en podem fer cap anàlisi ni aprofitar-les pr a res. També eliminem les files de les notícies que no tenen text."
   ]
  },
  {
   "cell_type": "code",
   "execution_count": 435,
   "metadata": {},
   "outputs": [],
   "source": [
    "df = df.drop(columns=['main_img_url'])\n",
    "df = df.drop(columns=['hasImage'])\n",
    "df = df.dropna(subset=['text'])"
   ]
  },
  {
   "cell_type": "code",
   "execution_count": 436,
   "metadata": {},
   "outputs": [
    {
     "name": "stdout",
     "output_type": "stream",
     "text": [
      "author                      46\n",
      "published                    0\n",
      "title                      186\n",
      "text                         0\n",
      "language                     0\n",
      "site_url                     0\n",
      "type                         0\n",
      "label                        0\n",
      "title_without_stopwords      1\n",
      "text_without_stopwords       4\n",
      "dtype: int64\n"
     ]
    }
   ],
   "source": [
    "print(df.isnull().sum())"
   ]
  },
  {
   "cell_type": "markdown",
   "metadata": {},
   "source": [
    "Veiem que ja no queden files amb Nans a text però si a text_without_stopwords, així que mirem quines són i quin text tenen assignat. Després, utilitzem aquest text per omplir els Nans de 'text_without_stopwords'."
   ]
  },
  {
   "cell_type": "code",
   "execution_count": 437,
   "metadata": {},
   "outputs": [
    {
     "name": "stdout",
     "output_type": "stream",
     "text": [
      "Files on 'text_without_stopwords' és NaN:\n",
      "Índex: 2046, text_without_stopwords: nan\n",
      "Índex: 2047, text_without_stopwords: nan\n",
      "Índex: 2048, text_without_stopwords: nan\n",
      "Índex: 2049, text_without_stopwords: nan\n"
     ]
    }
   ],
   "source": [
    "nan_texts = df[df['text_without_stopwords'].isna()]\n",
    "\n",
    "print(\"Files on 'text_without_stopwords' és NaN:\")\n",
    "for index, row in nan_texts.iterrows():\n",
    "    print(f\"Índex: {index}, text_without_stopwords: {row['text_without_stopwords']}\")"
   ]
  },
  {
   "cell_type": "code",
   "execution_count": 438,
   "metadata": {},
   "outputs": [
    {
     "name": "stdout",
     "output_type": "stream",
     "text": [
      "Text de les notícies amb 'text_without_stopwords' com NaN:\n",
      "Índex: 2046, Text: good samaritan wearing indian headdress disarms gunman just trying to go get some weed  and saw someone who could use help published  mins ago \n",
      "portland mercury the citys tv news crews were abuzz last night with news that a young man in a native american headdress had disarmed a gunman at the max stop near east burnside and nd \n",
      "according to cops a teen suspect was on the train when he was confronted by an adult man he knew an argument ensued and the teen wound up firing two shots on the train kgw reports the headdressdonning stranger waiting at the max stop who goes by rambo richardson overpowered the gunman took his weapon and held him down \n",
      "richardson on facebook adds to that account in a string of posts and replies richardsonwho says hes a member of the haliwasaponi tribe and hails originally from north carolinasays he was just trying to go get some weed from oregons best meds and saw someone who could use help so i did what i would want someone to do for me\n",
      "Índex: 2047, Text: skype sex scam  a fortune built on shame moroccan boomtown getting rich from men tricked on internet published  mins ago \n",
      "bbc news one night a young palestinian man living abroad fell victim to an online scam involving a web camera and a beautiful woman here samir not his real name tells the story of how he was trapped  and below the bbcs reda el mawy visits the moroccan boomtown where many of the scammers are based \n",
      "warning this story contains descriptions of sexual acts \n",
      "it happened when i was home alone this girl added me on facebook i didnt think it was anything strange  i often get friend requests from old school friends who i dont know well \n",
      "the next day she sends me a message hi how are you i saw your profile and i liked you so i looked at her profile and i mean she was really hot\n",
      "Índex: 2048, Text: posted by eddie while the skyhigh potency may scare some away crystalline provides a surprisingly clean focused and inspired high theres a new kid on the block her name is crystalline and shes from the hash family crystalline hash is the latest craze in the hash community and everyone wants a taste the demand is so high that thca crystalline is going for  a gram in southern california dispensaries  testing in at an astonishing  thc crystalline is officially the strongest hash on the market other concentrates such as ice hash  rosin  and bho range from  thc macro image of thc crystalline photo courtesy of allie beckett cannabis concentrates are known for their variety of textures and forms from shatter to wax to crumble theres something for everyone to enjoy what many extract lovers dont realize is that these various textures develop from the solvent used to make the concentrate and the methods of purging the solvent out of the final product however when thc is reduced to its purest state it crystallizes creating crystal rocks which look very different than any other marijuana concentrate on the market crystalline turns many people off just because of its looks the internet is filled with scornful reviews of its methlike appearance and this criticism is entirely valid but dont judge a book by its cover because cannabis crystalline is the purest form of thc and provides sufficient relief for many patients suffering from debilitating and fatal illnesses and hey its not thcs fault that its a compound with a crystal structure guild extracts a southern california extraction company is the current leader of crystalline production their crystallizing process is kept under lock and key but they claim the ability to make thca crystalline out of any starting material ranging from hydrocarbon extract co extract and ice water concentrate one thing guild extracts has made clear is that they are not using a solvent to create this hash rather they are extracting pure thc from their starting materials you may be wondering what exactly is thca crystalline well before thc is combusted lit on fire or vaporized it sits in its raw acidic form also known as thca thca by itself is completely inactive meaning if it is ingested it will not get you high but it does have an extraordinary amount of medicinal benefits when thca is activated through heat in a process called decarboxylation the acidic carbon atom the a in thca is removed leaving behind the psychoactive thc that so many of us know and love macro image of thc crystalline produced by atom labs photo courtesy of allie beckett now remember this pure thc does not contain terpenes the magical compounds that give cannabis strains their distinctive aroma and flavor profiles while contributing to their therapeutic effects to make up for the lack of flavor guild extracts has become famous for the dip n dab dipping the crystalline concentrate into terpenes extracted from strains like goji og tangie and sherbert while the skyhigh potency may scare some away crystalline provides a surprisingly clean focused and inspired high plus health nuts can rest easy knowing that thca crystalline is completely free of any chemical inputs think butane source\n",
      "Índex: 2049, Text: billion even after they are known to be keeping all supposedly deleted messages in their server well i guess they need to somehow profitprobably selling content to rich blackmailers\n"
     ]
    }
   ],
   "source": [
    "# Filtrar les files on 'text_without_stopwords' és NaN\n",
    "nan_texts = df[df['text_without_stopwords'].isna()]\n",
    "\n",
    "print(\"Text de les notícies amb 'text_without_stopwords' com NaN:\")\n",
    "for index, row in nan_texts.iterrows():\n",
    "    print(f\"Índex: {index}, Text: {row['text']}\")"
   ]
  },
  {
   "cell_type": "code",
   "execution_count": 439,
   "metadata": {},
   "outputs": [
    {
     "name": "stdout",
     "output_type": "stream",
     "text": [
      "Títols de les notícies amb text sense paraules de parada actualitzat:\n"
     ]
    },
    {
     "name": "stderr",
     "output_type": "stream",
     "text": [
      "[nltk_data] Downloading package stopwords to\n",
      "[nltk_data]     /Users/blancapinyol/nltk_data...\n",
      "[nltk_data]   Package stopwords is already up-to-date!\n",
      "[nltk_data] Downloading package punkt to\n",
      "[nltk_data]     /Users/blancapinyol/nltk_data...\n",
      "[nltk_data]   Package punkt is already up-to-date!\n",
      "[nltk_data] Downloading package punkt_tab to\n",
      "[nltk_data]     /Users/blancapinyol/nltk_data...\n",
      "[nltk_data]   Package punkt_tab is already up-to-date!\n"
     ]
    }
   ],
   "source": [
    "import nltk\n",
    "from nltk.corpus import stopwords\n",
    "from nltk.tokenize import word_tokenize\n",
    "\n",
    "nltk.download('stopwords')\n",
    "nltk.download('punkt')\n",
    "nltk.download('punkt_tab')\n",
    "\n",
    "def remove_stopwords(text):\n",
    "    if not isinstance(text, str):\n",
    "        return ''\n",
    "    words = word_tokenize(text.lower()) \n",
    "    stop_words = set(stopwords.words('english'))\n",
    "    filtered_words = [word for word in words if word not in stop_words and word.isalnum()]\n",
    "    return ' '.join(filtered_words)\n",
    "\n",
    "\n",
    "nan_texts = df[df['text_without_stopwords'].isna()]\n",
    "\n",
    "for index, row in nan_texts.iterrows():\n",
    "    processed_text = remove_stopwords(row['text'])\n",
    "    df.at[index, 'text_without_stopwords'] = processed_text \n",
    "\n",
    "print(\"Títols de les notícies amb text sense paraules de parada actualitzat:\")\n",
    "for index, row in df[df['text_without_stopwords'].isna()].iterrows():\n",
    "    print(f\"Índex: {index}, text_without_stopwords: {row['text_without_stopwords']}\")\n",
    "\n"
   ]
  },
  {
   "cell_type": "code",
   "execution_count": 440,
   "metadata": {},
   "outputs": [
    {
     "name": "stdout",
     "output_type": "stream",
     "text": [
      "author                      46\n",
      "published                    0\n",
      "title                      186\n",
      "text                         0\n",
      "language                     0\n",
      "site_url                     0\n",
      "type                         0\n",
      "label                        0\n",
      "title_without_stopwords      1\n",
      "text_without_stopwords       0\n",
      "dtype: int64\n"
     ]
    }
   ],
   "source": [
    "print(df.isnull().sum())"
   ]
  },
  {
   "cell_type": "code",
   "execution_count": 441,
   "metadata": {},
   "outputs": [
    {
     "name": "stdout",
     "output_type": "stream",
     "text": [
      "Títols sense paraules de parada per a les files amb títol NaN:\n",
      "Índex: 60, title_without_stopwords: title\n",
      "Índex: 61, title_without_stopwords: title\n",
      "Índex: 62, title_without_stopwords: title\n",
      "Índex: 63, title_without_stopwords: title\n",
      "Índex: 64, title_without_stopwords: title\n",
      "Índex: 65, title_without_stopwords: title\n",
      "Índex: 66, title_without_stopwords: title\n",
      "Índex: 67, title_without_stopwords: title\n",
      "Índex: 68, title_without_stopwords: title\n",
      "Índex: 70, title_without_stopwords: title\n",
      "Índex: 71, title_without_stopwords: title\n",
      "Índex: 72, title_without_stopwords: title\n",
      "Índex: 73, title_without_stopwords: title\n",
      "Índex: 74, title_without_stopwords: title\n",
      "Índex: 75, title_without_stopwords: title\n",
      "Índex: 76, title_without_stopwords: title\n",
      "Índex: 77, title_without_stopwords: title\n",
      "Índex: 78, title_without_stopwords: title\n",
      "Índex: 80, title_without_stopwords: title\n",
      "Índex: 82, title_without_stopwords: title\n",
      "Índex: 83, title_without_stopwords: title\n",
      "Índex: 85, title_without_stopwords: title\n",
      "Índex: 87, title_without_stopwords: title\n",
      "Índex: 88, title_without_stopwords: title\n",
      "Índex: 90, title_without_stopwords: title\n",
      "Índex: 91, title_without_stopwords: title\n",
      "Índex: 92, title_without_stopwords: title\n",
      "Índex: 93, title_without_stopwords: title\n",
      "Índex: 94, title_without_stopwords: title\n",
      "Índex: 95, title_without_stopwords: title\n",
      "Índex: 96, title_without_stopwords: title\n",
      "Índex: 97, title_without_stopwords: title\n",
      "Índex: 98, title_without_stopwords: title\n",
      "Índex: 99, title_without_stopwords: title\n",
      "Índex: 100, title_without_stopwords: title\n",
      "Índex: 101, title_without_stopwords: title\n",
      "Índex: 102, title_without_stopwords: title\n",
      "Índex: 103, title_without_stopwords: title\n",
      "Índex: 104, title_without_stopwords: title\n",
      "Índex: 105, title_without_stopwords: title\n",
      "Índex: 107, title_without_stopwords: title\n",
      "Índex: 108, title_without_stopwords: title\n",
      "Índex: 112, title_without_stopwords: title\n",
      "Índex: 113, title_without_stopwords: title\n",
      "Índex: 114, title_without_stopwords: title\n",
      "Índex: 115, title_without_stopwords: title\n",
      "Índex: 116, title_without_stopwords: title\n",
      "Índex: 117, title_without_stopwords: title\n",
      "Índex: 118, title_without_stopwords: title\n",
      "Índex: 119, title_without_stopwords: title\n",
      "Índex: 120, title_without_stopwords: title\n",
      "Índex: 127, title_without_stopwords: title\n",
      "Índex: 128, title_without_stopwords: title\n",
      "Índex: 129, title_without_stopwords: title\n",
      "Índex: 132, title_without_stopwords: title\n",
      "Índex: 133, title_without_stopwords: title\n",
      "Índex: 134, title_without_stopwords: title\n",
      "Índex: 135, title_without_stopwords: title\n",
      "Índex: 136, title_without_stopwords: title\n",
      "Índex: 137, title_without_stopwords: title\n",
      "Índex: 138, title_without_stopwords: title\n",
      "Índex: 139, title_without_stopwords: title\n",
      "Índex: 140, title_without_stopwords: title\n",
      "Índex: 327, title_without_stopwords: title\n",
      "Índex: 328, title_without_stopwords: title\n",
      "Índex: 333, title_without_stopwords: title\n",
      "Índex: 341, title_without_stopwords: title\n",
      "Índex: 343, title_without_stopwords: title\n",
      "Índex: 352, title_without_stopwords: title\n",
      "Índex: 353, title_without_stopwords: title\n",
      "Índex: 356, title_without_stopwords: title\n",
      "Índex: 361, title_without_stopwords: title\n",
      "Índex: 364, title_without_stopwords: title\n",
      "Índex: 373, title_without_stopwords: title\n",
      "Índex: 378, title_without_stopwords: title\n",
      "Índex: 388, title_without_stopwords: title\n",
      "Índex: 391, title_without_stopwords: title\n",
      "Índex: 393, title_without_stopwords: title\n",
      "Índex: 394, title_without_stopwords: title\n",
      "Índex: 1678, title_without_stopwords: aig quadruples limits terrorism insurance billion\n",
      "Índex: 1681, title_without_stopwords: trump warns vote flipping machines\n",
      "Índex: 1691, title_without_stopwords: title\n",
      "Índex: 1692, title_without_stopwords: title\n",
      "Índex: 1693, title_without_stopwords: title\n",
      "Índex: 1694, title_without_stopwords: title\n",
      "Índex: 1695, title_without_stopwords: title\n",
      "Índex: 1696, title_without_stopwords: obsolete\n",
      "Índex: 1697, title_without_stopwords: title\n",
      "Índex: 1699, title_without_stopwords: title\n",
      "Índex: 1700, title_without_stopwords: title\n",
      "Índex: 1701, title_without_stopwords: title\n",
      "Índex: 1702, title_without_stopwords: nintendo cuts fullyear sales operating profit forecasts\n",
      "Índex: 1703, title_without_stopwords: title\n",
      "Índex: 1705, title_without_stopwords: eu states agree caps wholesale roaming charges\n",
      "Índex: 1708, title_without_stopwords: title\n",
      "Índex: 1709, title_without_stopwords: three quarters americans oppose gun control\n",
      "Índex: 1710, title_without_stopwords: wikileaks email clinton operative thinks black voters stupid\n",
      "Índex: 1889, title_without_stopwords: title\n",
      "Índex: 1892, title_without_stopwords: title\n",
      "Índex: 1893, title_without_stopwords: title\n",
      "Índex: 1895, title_without_stopwords: title\n",
      "Índex: 1896, title_without_stopwords: title\n",
      "Índex: 1897, title_without_stopwords: title\n",
      "Índex: 1898, title_without_stopwords: title\n",
      "Índex: 1899, title_without_stopwords: title\n",
      "Índex: 1900, title_without_stopwords: newt gingrich defends donald trump sexual predator accusations\n",
      "Índex: 1901, title_without_stopwords: title\n",
      "Índex: 1902, title_without_stopwords: title\n",
      "Índex: 1903, title_without_stopwords: title\n",
      "Índex: 1905, title_without_stopwords: title\n",
      "Índex: 1906, title_without_stopwords: title\n",
      "Índex: 1907, title_without_stopwords: money laundering scheme exposed proclinton super pacs nonprofits implicated\n",
      "Índex: 1908, title_without_stopwords: title\n",
      "Índex: 1909, title_without_stopwords: years later elizabeth smart realizes kidnapping even worse parents\n",
      "Índex: 1910, title_without_stopwords: title\n",
      "Índex: 1912, title_without_stopwords: title\n",
      "Índex: 1914, title_without_stopwords: title\n",
      "Índex: 1915, title_without_stopwords: wh press secretary says obamas denial clinton server entirely factual\n",
      "Índex: 1916, title_without_stopwords: title\n",
      "Índex: 1917, title_without_stopwords: title\n",
      "Índex: 1918, title_without_stopwords: title\n",
      "Índex: 1920, title_without_stopwords: title\n",
      "Índex: 1921, title_without_stopwords: title\n",
      "Índex: 1922, title_without_stopwords: title\n",
      "Índex: 1923, title_without_stopwords: title\n",
      "Índex: 1924, title_without_stopwords: title\n",
      "Índex: 1925, title_without_stopwords: title\n",
      "Índex: 1926, title_without_stopwords: title\n",
      "Índex: 1927, title_without_stopwords: title\n",
      "Índex: 1928, title_without_stopwords: title\n",
      "Índex: 1929, title_without_stopwords: title\n",
      "Índex: 1930, title_without_stopwords: title\n",
      "Índex: 1931, title_without_stopwords: title\n",
      "Índex: 1932, title_without_stopwords: title\n",
      "Índex: 1933, title_without_stopwords: title\n",
      "Índex: 1934, title_without_stopwords: title\n",
      "Índex: 1935, title_without_stopwords: title\n",
      "Índex: 1936, title_without_stopwords: title\n",
      "Índex: 1937, title_without_stopwords: title\n",
      "Índex: 1938, title_without_stopwords: title\n",
      "Índex: 1939, title_without_stopwords: title\n",
      "Índex: 1940, title_without_stopwords: title\n",
      "Índex: 1941, title_without_stopwords: title\n",
      "Índex: 1942, title_without_stopwords: title\n",
      "Índex: 1943, title_without_stopwords: title\n",
      "Índex: 1944, title_without_stopwords: title\n",
      "Índex: 1945, title_without_stopwords: title\n",
      "Índex: 1946, title_without_stopwords: title\n",
      "Índex: 1947, title_without_stopwords: title\n",
      "Índex: 1948, title_without_stopwords: title\n",
      "Índex: 1949, title_without_stopwords: title\n",
      "Índex: 1950, title_without_stopwords: title\n",
      "Índex: 1951, title_without_stopwords: title\n",
      "Índex: 1952, title_without_stopwords: title\n",
      "Índex: 1953, title_without_stopwords: title\n",
      "Índex: 1954, title_without_stopwords: title\n",
      "Índex: 1955, title_without_stopwords: title\n",
      "Índex: 1956, title_without_stopwords: title\n",
      "Índex: 1957, title_without_stopwords: title\n",
      "Índex: 1958, title_without_stopwords: title\n",
      "Índex: 1959, title_without_stopwords: title\n",
      "Índex: 1960, title_without_stopwords: title\n",
      "Índex: 1961, title_without_stopwords: title\n",
      "Índex: 1962, title_without_stopwords: title\n",
      "Índex: 1963, title_without_stopwords: title\n",
      "Índex: 1964, title_without_stopwords: title\n",
      "Índex: 1965, title_without_stopwords: title\n",
      "Índex: 1966, title_without_stopwords: title\n",
      "Índex: 1967, title_without_stopwords: title\n",
      "Índex: 1968, title_without_stopwords: title\n",
      "Índex: 1969, title_without_stopwords: title\n",
      "Índex: 1970, title_without_stopwords: title\n",
      "Índex: 1971, title_without_stopwords: title\n",
      "Índex: 1972, title_without_stopwords: title\n",
      "Índex: 1973, title_without_stopwords: title\n",
      "Índex: 1974, title_without_stopwords: title\n",
      "Índex: 1975, title_without_stopwords: title\n",
      "Índex: 1976, title_without_stopwords: title\n",
      "Índex: 1977, title_without_stopwords: title\n",
      "Índex: 1978, title_without_stopwords: title\n",
      "Índex: 1979, title_without_stopwords: title\n",
      "Índex: 1980, title_without_stopwords: title\n",
      "Índex: 1981, title_without_stopwords: hillary spy updated info\n",
      "Índex: 1982, title_without_stopwords: flashback jorge cabrera scandal\n",
      "Índex: 1983, title_without_stopwords: ron brown evidence cover\n",
      "Índex: 1984, title_without_stopwords: report voter fraud crash course\n"
     ]
    }
   ],
   "source": [
    "nan_titles = df[df['title'].isna()]\n",
    "\n",
    "# Mostrar els títols sense paraules de parada (de la columna 'title_without_stopwords')\n",
    "print(\"Títols sense paraules de parada per a les files amb títol NaN:\")\n",
    "for index, row in nan_titles.iterrows():\n",
    "    print(f\"Índex: {index}, title_without_stopwords: {row['title_without_stopwords']}\")\n"
   ]
  },
  {
   "cell_type": "markdown",
   "metadata": {},
   "source": [
    "Primer de tot, aquells que tenen com a títol sense stopwords 'title' els assignem com a Nans, ja que prové del 'No title' de la columna 'title' que havíem assignat com Nans. Fem el mateix amb aquelles files que tenen assignat 'nan' en format text. "
   ]
  },
  {
   "cell_type": "code",
   "execution_count": 442,
   "metadata": {},
   "outputs": [],
   "source": [
    "df['title_without_stopwords'] = df['title_without_stopwords'].replace(['title', 'nan'], np.nan)"
   ]
  },
  {
   "cell_type": "code",
   "execution_count": 443,
   "metadata": {},
   "outputs": [
    {
     "name": "stdout",
     "output_type": "stream",
     "text": [
      "Títols sense paraules de parada per a les files amb títol NaN però text processat disponible:\n",
      "Índex: 1678, title_without_stopwords: aig quadruples limits terrorism insurance billion\n",
      "Índex: 1681, title_without_stopwords: trump warns vote flipping machines\n",
      "Índex: 1696, title_without_stopwords: obsolete\n",
      "Índex: 1702, title_without_stopwords: nintendo cuts fullyear sales operating profit forecasts\n",
      "Índex: 1705, title_without_stopwords: eu states agree caps wholesale roaming charges\n",
      "Índex: 1709, title_without_stopwords: three quarters americans oppose gun control\n",
      "Índex: 1710, title_without_stopwords: wikileaks email clinton operative thinks black voters stupid\n",
      "Índex: 1900, title_without_stopwords: newt gingrich defends donald trump sexual predator accusations\n",
      "Índex: 1907, title_without_stopwords: money laundering scheme exposed proclinton super pacs nonprofits implicated\n",
      "Índex: 1909, title_without_stopwords: years later elizabeth smart realizes kidnapping even worse parents\n",
      "Índex: 1915, title_without_stopwords: wh press secretary says obamas denial clinton server entirely factual\n",
      "Índex: 1981, title_without_stopwords: hillary spy updated info\n",
      "Índex: 1982, title_without_stopwords: flashback jorge cabrera scandal\n",
      "Índex: 1983, title_without_stopwords: ron brown evidence cover\n",
      "Índex: 1984, title_without_stopwords: report voter fraud crash course\n"
     ]
    }
   ],
   "source": [
    "# Filtrar les files on 'title' és NaN però 'title_without_stopwords' no és NaN\n",
    "nan_titles_with_non_nan_stopwords = df[df['title'].isna() & df['title_without_stopwords'].notna()]\n",
    "\n",
    "print(\"Títols sense paraules de parada per a les files amb títol NaN però text processat disponible:\")\n",
    "for index, row in nan_titles_with_non_nan_stopwords.iterrows():\n",
    "    print(f\"Índex: {index}, title_without_stopwords: {row['title_without_stopwords']}\")\n",
    "\n"
   ]
  },
  {
   "cell_type": "code",
   "execution_count": 444,
   "metadata": {},
   "outputs": [],
   "source": [
    "# Assignar els valors de 'title_without_stopwords' a 'title' per a les files seleccionades\n",
    "df.loc[nan_titles_with_non_nan_stopwords.index, 'title'] = nan_titles_with_non_nan_stopwords['title_without_stopwords']"
   ]
  },
  {
   "cell_type": "code",
   "execution_count": 445,
   "metadata": {},
   "outputs": [
    {
     "name": "stdout",
     "output_type": "stream",
     "text": [
      "author                      46\n",
      "published                    0\n",
      "title                      171\n",
      "text                         0\n",
      "language                     0\n",
      "site_url                     0\n",
      "type                         0\n",
      "label                        0\n",
      "title_without_stopwords    187\n",
      "text_without_stopwords       0\n",
      "dtype: int64\n"
     ]
    }
   ],
   "source": [
    "print(df.isnull().sum())"
   ]
  },
  {
   "cell_type": "markdown",
   "metadata": {},
   "source": [
    "Per tal d'omplir els títols amb Nans utilitzarem la tècnica RAKE(Rapid Automatic Keyword Extraction), aquesta tècnica selecciona les paraules clau més importants del text i les combina per formar un títol. Calcula les co-ocurrències de cada paraula en frases clau i la seva freqüència en tot el text."
   ]
  },
  {
   "cell_type": "code",
   "execution_count": 446,
   "metadata": {},
   "outputs": [
    {
     "name": "stdout",
     "output_type": "stream",
     "text": [
      "Antes d'omplir els títols:\n",
      "     title                                               text\n",
      "60     NaN  here is the problem  the usa constitution stat...\n",
      "61     NaN  there is plenty of proof the machines are rigg...\n",
      "62     NaN  trump has an excuse now to audit any vote with...\n",
      "63     NaN  he has got to go after him  he is the one caus...\n",
      "64     NaN  he has got to go after him  he is the one caus...\n",
      "...    ...                                                ...\n",
      "1976   NaN  federal judge charges sheriff joe with contemp...\n",
      "1977   NaN  all about jesus shirt sparks school uproar leg...\n",
      "1978   NaN  print \\nhave you ever noticed how washington a...\n",
      "1979   NaN  will it be representative government or thugoc...\n",
      "1980   NaN  for those who are too young or too unwilling t...\n",
      "\n",
      "[171 rows x 2 columns]\n",
      "\n",
      "DataFrame después d'omplir els títols:\n",
      "                                                  title   \n",
      "60    regimes terrorists international narcotics tra...  \\\n",
      "61    scam soros expects quotlandslide popular vote ...   \n",
      "62    whole scam wide open smart soros gave million ...   \n",
      "63    voting machines soros criminal conviction expo...   \n",
      "64    voting machines soros criminal conviction expo...   \n",
      "...                                                 ...   \n",
      "1976  seventh term prosecutors promised two weeks ag...   \n",
      "1977  hostility toward religious beliefs published h...   \n",
      "1978  interview joseph farah please contact receive ...   \n",
      "1979  interview erik rush please contact receive eri...   \n",
      "1980  wellesley graduation insults edward brooke sen...   \n",
      "\n",
      "                                                   text  \n",
      "60    here is the problem  the usa constitution stat...  \n",
      "61    there is plenty of proof the machines are rigg...  \n",
      "62    trump has an excuse now to audit any vote with...  \n",
      "63    he has got to go after him  he is the one caus...  \n",
      "64    he has got to go after him  he is the one caus...  \n",
      "...                                                 ...  \n",
      "1976  federal judge charges sheriff joe with contemp...  \n",
      "1977  all about jesus shirt sparks school uproar leg...  \n",
      "1978  print \\nhave you ever noticed how washington a...  \n",
      "1979  will it be representative government or thugoc...  \n",
      "1980  for those who are too young or too unwilling t...  \n",
      "\n",
      "[171 rows x 2 columns]\n"
     ]
    }
   ],
   "source": [
    "from rake_nltk import Rake\n",
    "\n",
    "def generate_title_with_keywords(text, max_keywords=5):\n",
    "    if not isinstance(text, str) or not text.strip():\n",
    "        return None\n",
    "    r = Rake()\n",
    "    r.extract_keywords_from_text(text)\n",
    "    keywords = r.get_ranked_phrases()[:max_keywords]\n",
    "    return ' '.join(keywords)\n",
    "\n",
    "nan_titles = df[df['title'].isna()]\n",
    "nan_title_indices = nan_titles.index \n",
    "\n",
    "print(\"Antes d'omplir els títols:\")\n",
    "print(nan_titles[['title', 'text']])\n",
    "\n",
    "df['title'] = df.apply(\n",
    "    lambda row: generate_title_with_keywords(row['text'], max_keywords=5) if pd.isna(row['title']) else row['title'],\n",
    "    axis=1\n",
    ")\n",
    "\n",
    "filled_titles = df.loc[nan_title_indices]\n",
    "\n",
    "print(\"\\nDataFrame después d'omplir els títols:\")\n",
    "print(filled_titles[['title', 'text']])\n"
   ]
  },
  {
   "cell_type": "code",
   "execution_count": 447,
   "metadata": {},
   "outputs": [
    {
     "name": "stderr",
     "output_type": "stream",
     "text": [
      "[nltk_data] Downloading package stopwords to\n",
      "[nltk_data]     /Users/blancapinyol/nltk_data...\n",
      "[nltk_data]   Package stopwords is already up-to-date!\n",
      "[nltk_data] Downloading package punkt to\n",
      "[nltk_data]     /Users/blancapinyol/nltk_data...\n",
      "[nltk_data]   Package punkt is already up-to-date!\n",
      "[nltk_data] Downloading package punkt_tab to\n",
      "[nltk_data]     /Users/blancapinyol/nltk_data...\n",
      "[nltk_data]   Package punkt_tab is already up-to-date!\n"
     ]
    },
    {
     "name": "stdout",
     "output_type": "stream",
     "text": [
      "notícies amb títol sense paraules de parada actualitzat:\n"
     ]
    }
   ],
   "source": [
    "nltk.download('stopwords')\n",
    "nltk.download('punkt')\n",
    "nltk.download('punkt_tab')\n",
    "\n",
    "def remove_stopwords(text):\n",
    "    if not isinstance(text, str):\n",
    "        return ''\n",
    "    words = word_tokenize(text.lower()) \n",
    "    stop_words = set(stopwords.words('english'))\n",
    "    filtered_words = [word for word in words if word not in stop_words and word.isalnum()]\n",
    "    return ' '.join(filtered_words)\n",
    "\n",
    "\n",
    "nan_texts = df[df['title_without_stopwords'].isna()]\n",
    "\n",
    "for index, row in nan_texts.iterrows():\n",
    "    processed_text = remove_stopwords(row['title'])\n",
    "    df.at[index, 'title_without_stopwords'] = processed_text \n",
    "\n",
    "print(\"notícies amb títol sense paraules de parada actualitzat:\")\n",
    "for index, row in df[df['title_without_stopwords'].isna()].iterrows():\n",
    "    print(f\"Índex: {index}, title_without_stopwords: {row['title_without_stopwords']}\")\n",
    "\n"
   ]
  },
  {
   "cell_type": "code",
   "execution_count": 448,
   "metadata": {},
   "outputs": [],
   "source": [
    "# Assignar \"no author\" quan author es NaN o '-NO AUTHOR-'\n",
    "df['author'] = df['author'].apply(lambda x: 'no author' if pd.isna(x) or x == '-NO AUTHOR-' else x)"
   ]
  },
  {
   "cell_type": "code",
   "execution_count": 449,
   "metadata": {},
   "outputs": [
    {
     "name": "stdout",
     "output_type": "stream",
     "text": [
      "author                     0\n",
      "published                  0\n",
      "title                      0\n",
      "text                       0\n",
      "language                   0\n",
      "site_url                   0\n",
      "type                       0\n",
      "label                      0\n",
      "title_without_stopwords    0\n",
      "text_without_stopwords     0\n",
      "dtype: int64\n"
     ]
    }
   ],
   "source": [
    "#Mirem descripcio general\n",
    "print(df.isnull().sum())"
   ]
  },
  {
   "cell_type": "markdown",
   "metadata": {},
   "source": [
    "Ara que ja tenim les dades arreglades, podem començar a fer un anàlisi d'aquestes."
   ]
  },
  {
   "cell_type": "code",
   "execution_count": 450,
   "metadata": {},
   "outputs": [
    {
     "data": {
      "image/png": "[encoded data removed]",
      "text/plain": [
       "<Figure size 640x480 with 1 Axes>"
      ]
     },
     "metadata": {},
     "output_type": "display_data"
    }
   ],
   "source": [
    "import seaborn as sns\n",
    "import matplotlib.pyplot as plt\n",
    "\n",
    "label_counts = df['label'].value_counts()\n",
    "label_percentages = df['label'].value_counts(normalize=True) * 100\n",
    "\n",
    "sns.countplot(x='label', data=df)\n",
    "for p in plt.gca().patches:\n",
    "    height = p.get_height()\n",
    "    percentage = height / len(df) * 100\n",
    "    plt.text(p.get_x() + p.get_width() / 2, height + 10, f'{percentage:.2f}%', ha='center')\n",
    "\n",
    "plt.title(\"Distribució de notícies reals vs falses\")\n",
    "plt.show()"
   ]
  },
  {
   "cell_type": "markdown",
   "metadata": {},
   "source": [
    "L'objectiu de balancejar el dataset s'ha assolit satisfactoriament"
   ]
  },
  {
   "cell_type": "code",
   "execution_count": 451,
   "metadata": {},
   "outputs": [
    {
     "name": "stdout",
     "output_type": "stream",
     "text": [
      "Opcions de llengües disponibles:\n",
      "english\n",
      "ignore\n",
      "german\n",
      "french\n",
      "spanish\n"
     ]
    }
   ],
   "source": [
    "unique_languages = df['language'].unique()\n",
    "\n",
    "print(\"Opcions de llengües disponibles:\")\n",
    "for lang in unique_languages:\n",
    "    print(lang)"
   ]
  },
  {
   "cell_type": "code",
   "execution_count": 452,
   "metadata": {},
   "outputs": [
    {
     "name": "stdout",
     "output_type": "stream",
     "text": [
      "Títols de les notícies amb idioma 'ignore':\n",
      "billion dollars for the jewish lobby just the tip of the iceberg\n",
      "national bugle radio the first step towards overthrowing jewish power\n",
      "Títols de les notícies amb idioma 'ignore':\n"
     ]
    }
   ],
   "source": [
    "#mirem quin idioma és 'ignore'\n",
    "ignored_titles = df[df['language'] == 'ignore']['title']\n",
    "print(\"Títols de les notícies amb idioma 'ignore':\")\n",
    "for title in ignored_titles:\n",
    "    print(title)\n",
    "#\n",
    "ignored_titles = df[(df['text'].isna())]['title']\n",
    "print(\"Títols de les notícies amb idioma 'ignore':\")\n",
    "for title in ignored_titles:\n",
    "    print(title)"
   ]
  },
  {
   "cell_type": "code",
   "execution_count": 453,
   "metadata": {},
   "outputs": [],
   "source": [
    "#veiem que és 'english' així que ho susbtituim\n",
    "df['language'] = df['language'].replace('ignore', 'english').fillna('english')\n",
    "\n",
    "\n"
   ]
  },
  {
   "cell_type": "code",
   "execution_count": 454,
   "metadata": {},
   "outputs": [
    {
     "data": {
      "image/png": "[encoded data removed]",
      "text/plain": [
       "<Figure size 640x480 with 1 Axes>"
      ]
     },
     "metadata": {},
     "output_type": "display_data"
    }
   ],
   "source": [
    "# Distribució dels idiomes\n",
    "language_counts = df['language'].value_counts()\n",
    "language_percentages = df['language'].value_counts(normalize=True) * 100\n",
    "\n",
    "sns.countplot(x='language', data=df)\n",
    "for p in plt.gca().patches:\n",
    "    height = p.get_height()\n",
    "    percentage = height / len(df) * 100\n",
    "    plt.text(p.get_x() + p.get_width() / 2, height + 10, f'{percentage:.2f}%', ha='center')\n",
    "\n",
    "plt.title(\"Distribució de les llengües\")\n",
    "plt.show()"
   ]
  },
  {
   "cell_type": "markdown",
   "metadata": {},
   "source": []
  }
 ],
 "metadata": {
  "kernelspec": {
   "display_name": "Python 3",
   "language": "python",
   "name": "python3"
  },
  "language_info": {
   "codemirror_mode": {
    "name": "ipython",
    "version": 3
   },
   "file_extension": ".py",
   "mimetype": "text/x-python",
   "name": "python",
   "nbconvert_exporter": "python",
   "pygments_lexer": "ipython3",
   "version": "3.9.6"
  }
 },
 "nbformat": 4,
 "nbformat_minor": 2
}
