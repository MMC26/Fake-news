{
 "cells": [
  {
   "cell_type": "markdown",
   "metadata": {},
   "source": [
    "SCRAPING:\n",
    "\n",
    "Extraiem informació sobre 500 noticies per tal de completar el nostre dataset.\n",
    "\n",
    "\n"
   ]
  },
  {
   "cell_type": "code",
   "execution_count": 1,
   "metadata": {},
   "outputs": [
    {
     "name": "stderr",
     "output_type": "stream",
     "text": [
      "[nltk_data] Downloading package stopwords to C:\\Users\\Maria\n",
      "[nltk_data]     Muñoz\\AppData\\Roaming\\nltk_data...\n",
      "[nltk_data]   Package stopwords is already up-to-date!\n",
      "[nltk_data] Downloading package punkt to C:\\Users\\Maria\n",
      "[nltk_data]     Muñoz\\AppData\\Roaming\\nltk_data...\n",
      "[nltk_data]   Package punkt is already up-to-date!\n"
     ]
    },
    {
     "name": "stdout",
     "output_type": "stream",
     "text": [
      "Dades desades correctament a 'news_dataset2.csv'\n"
     ]
    }
   ],
   "source": [
    "import requests\n",
    "import pandas as pd\n",
    "from datetime import datetime\n",
    "import nltk\n",
    "from nltk.corpus import stopwords\n",
    "from nltk.tokenize import word_tokenize\n",
    "\n",
    "nltk.download('stopwords')\n",
    "nltk.download('punkt')\n",
    "#ntlk.dowload('punkt_tab')\n",
    "stop_words = set(stopwords.words('english'))\n",
    "\n",
    "#clau d'API de NewsAPI\n",
    "api_key = '30c9a4b95cae420fa04dc407b21f4c05'\n",
    "\n",
    "url = f'https://newsapi.org/v2/everything?q=technology&from=2024-11-01&to=2024-11-14&sortBy=publishedAt&pageSize=100&apiKey={api_key}'\n",
    "\n",
    "response = requests.get(url)\n",
    "\n",
    "if response.status_code == 200:\n",
    "    news_data = response.json()['articles']\n",
    "\n",
    "    news_list = []\n",
    "    for article in news_data:\n",
    "        \n",
    "        title_tokens = word_tokenize(article['title'])\n",
    "        title_without_stopwords = ' '.join([word for word in title_tokens if word.lower() not in stop_words])\n",
    "        text_tokens = word_tokenize(article['content'])\n",
    "        text_without_stopwords = ' '.join([word for word in text_tokens if word.lower() not in stop_words])\n",
    "\n",
    "        has_image = 1 if article.get('urlToImage', '') else 0\n",
    "\n",
    "        news_list.append({\n",
    "            'author': article.get('author', 'No author'),\n",
    "            'published': article['publishedAt'],\n",
    "            'title': article['title'],\n",
    "            'text': article['content'],\n",
    "            'language': article.get('language', 'english'),\n",
    "            'site_url': article['url'],\n",
    "            'main_img_url': article.get('urlToImage', ''),  \n",
    "            'type': 'bias', \n",
    "            'label': 'Real',  \n",
    "            'title_without_stopwords': title_without_stopwords, \n",
    "            'text_without_stopwords' : text_without_stopwords,\n",
    "            'hasImage': has_image\n",
    "\n",
    "\n",
    "        })\n",
    "\n",
    "    # Creem DataFrame \n",
    "    df = pd.DataFrame(news_list)\n",
    "\n",
    "    # Guardem el DataFrame en un arxiu CSv\n",
    "    df.to_csv('news_dataset2.csv', index=False)\n",
    "\n",
    "    print(\"Dades desades correctament a 'news_dataset2.csv'\")\n"
   ]
  },
  {
   "cell_type": "code",
   "execution_count": 2,
   "metadata": {
    "colab": {
     "base_uri": "https://localhost:8080/"
    },
    "id": "fqDBg7MWQQuF",
    "outputId": "600d4c64-2272-450b-e16e-ea885a85529c"
   },
   "outputs": [
    {
     "name": "stdout",
     "output_type": "stream",
     "text": [
      "files: 100\n",
      "                  author             published  \\\n",
      "0                    NaN  2024-11-14T23:53:25Z   \n",
      "1            Grace Edema  2024-11-14T23:52:30Z   \n",
      "2  Olasunkanmi Akinlotan  2024-11-14T23:52:30Z   \n",
      "3            Lora Kelley  2024-11-14T23:50:00Z   \n",
      "4          Business Wire  2024-11-14T23:49:38Z   \n",
      "\n",
      "                                               title  \\\n",
      "0  US man sentenced to 5 years over laundering cr...   \n",
      "1  TETFund asks indigenous inventors to showcase ...   \n",
      "2        Taiwan unveils electric vehicles in Nigeria   \n",
      "3                       What Crypto Wants From Trump   \n",
      "4  XTM Signs Exclusive Referral Agreement With KO...   \n",
      "\n",
      "                                                text language  \\\n",
      "0  WASHINGTON : A New York technology entrepreneu...  english   \n",
      "1  The Tertiary Education Trust Fund has called o...  english   \n",
      "2  The Chief Missioner of Taiwan in Nigeria, Andy...  english   \n",
      "3  This is an edition of The Atlantic Daily, a ne...  english   \n",
      "4  Author of the article:\\r\\nArticle content\\r\\nT...  english   \n",
      "\n",
      "                                            site_url  \\\n",
      "0  https://www.channelnewsasia.com/business/us-ma...   \n",
      "1  https://punchng.com/tetfund-asks-indigenous-in...   \n",
      "2  https://punchng.com/taiwan-unveils-electric-ve...   \n",
      "3  https://www.theatlantic.com/newsletters/archiv...   \n",
      "4  https://financialpost.com/pmn/business-wire-ne...   \n",
      "\n",
      "                                        main_img_url  type label  \\\n",
      "0  https://onecms-res.cloudinary.com/image/upload...  bias  Real   \n",
      "1  https://cdn.punchng.com/wp-content/uploads/202...  bias  Real   \n",
      "2  https://cdn.punchng.com/wp-content/uploads/202...  bias  Real   \n",
      "3  https://cdn.theatlantic.com/thumbor/jUvIeJxMEZ...  bias  Real   \n",
      "4                                                NaN  bias  Real   \n",
      "\n",
      "                             title_without_stopwords  \\\n",
      "0  US man sentenced 5 years laundering crypto sto...   \n",
      "1  TETFund asks indigenous inventors showcase inn...   \n",
      "2           Taiwan unveils electric vehicles Nigeria   \n",
      "3                                 Crypto Wants Trump   \n",
      "4  XTM Signs Exclusive Referral Agreement KOHO Ca...   \n",
      "\n",
      "                              text_without_stopwords  hasImage  \n",
      "0  WASHINGTON : New York technology entrepreneur ...         1  \n",
      "1  Tertiary Education Trust Fund called Nigerian ...         1  \n",
      "2  Chief Missioner Taiwan Nigeria , Andy Yih-Ping...         1  \n",
      "3  edition Atlantic Daily , newsletter guides big...         1  \n",
      "4  Author article : Article content TORONTO XTM I...         0  \n",
      "Index(['author', 'published', 'title', 'text', 'language', 'site_url',\n",
      "       'main_img_url', 'type', 'label', 'title_without_stopwords',\n",
      "       'text_without_stopwords', 'hasImage'],\n",
      "      dtype='object')\n"
     ]
    }
   ],
   "source": [
    "df = pd.read_csv('news_dataset2.csv')\n",
    "print(f'files: {len(df)}')\n",
    "print(df.head(5))  \n",
    "print(df.columns)"
   ]
  },
  {
   "cell_type": "code",
   "execution_count": 3,
   "metadata": {
    "colab": {
     "base_uri": "https://localhost:8080/"
    },
    "id": "nN960E_5TO42",
    "outputId": "ab9ecf48-ecac-4c39-c7a8-3e6873f434fb"
   },
   "outputs": [
    {
     "name": "stdout",
     "output_type": "stream",
     "text": [
      "Dades desades correctament a 'news_dataset3.csv'\n"
     ]
    }
   ],
   "source": [
    "#notícies de política\n",
    "url = f'https://newsapi.org/v2/everything?q=politics&from=2024-11-01&to=2024-11-14&sortBy=publishedAt&pageSize=100&apiKey={api_key}'\n",
    "response = requests.get(url)\n",
    "\n",
    "if response.status_code == 200:\n",
    "    news_data = response.json()['articles']\n",
    "\n",
    "    news_list = []\n",
    "    for article in news_data:\n",
    "        \n",
    "        title_tokens = word_tokenize(article['title'])\n",
    "        title_without_stopwords = ' '.join([word for word in title_tokens if word.lower() not in stop_words])\n",
    "        text_tokens = word_tokenize(article['content'])\n",
    "        text_without_stopwords = ' '.join([word for word in text_tokens if word.lower() not in stop_words])\n",
    "\n",
    "        has_image = 1 if article.get('urlToImage', '') else 0\n",
    "\n",
    "        news_list.append({\n",
    "            'author': article.get('author', 'No author'),\n",
    "            'published': article['publishedAt'],\n",
    "            'title': article['title'],\n",
    "            'text': article['content'],\n",
    "            'language': article.get('language', 'english'),\n",
    "            'site_url': article['url'],\n",
    "            'main_img_url': article.get('urlToImage', ''),  \n",
    "            'type': 'bias', \n",
    "            'label': 'Real', \n",
    "            'title_without_stopwords': title_without_stopwords, \n",
    "            'text_without_stopwords' : text_without_stopwords,\n",
    "            'hasImage': has_image\n",
    "\n",
    "\n",
    "        })\n",
    "\n",
    "    df = pd.DataFrame(news_list)\n",
    "    df.to_csv('news_dataset3.csv', index=False)\n",
    "    print(\"Dades desades correctament a 'news_dataset3.csv'\")\n"
   ]
  },
  {
   "cell_type": "code",
   "execution_count": 4,
   "metadata": {
    "colab": {
     "base_uri": "https://localhost:8080/"
    },
    "id": "z51_I-bsRzpz",
    "outputId": "188bb2be-cfba-4bad-bd5b-350c39671de3"
   },
   "outputs": [
    {
     "name": "stdout",
     "output_type": "stream",
     "text": [
      "Files: 100\n",
      "             author             published  \\\n",
      "0     Tunde Odesola  2024-11-14T23:52:30Z   \n",
      "1     Our Reporters  2024-11-14T23:52:30Z   \n",
      "2     Tunji Ajibade  2024-11-14T23:52:29Z   \n",
      "3  Michael Williams  2024-11-14T23:40:22Z   \n",
      "4           Reuters  2024-11-14T23:37:02Z   \n",
      "\n",
      "                                               title  \\\n",
      "0                 Apomu king turns warmonger for PDP   \n",
      "1  Jigawa PDP group rebukes Wike over smear campa...   \n",
      "2  Beyond the media’s credibility, influence and ...   \n",
      "3  Trump picks former congressman Doug Collins to...   \n",
      "4  Exclusive-Trump's transition team aims to kill...   \n",
      "\n",
      "                                                text language  \\\n",
      "0  As a nobody son of a nobody, I dare not caress...  english   \n",
      "1  A recently alleged sponsored article entitled,...  english   \n",
      "2  It has become a tradition that when election o...  english   \n",
      "3  President-elect Donald Trump has announced for...  english   \n",
      "4  By Jarrett Renshaw, Chris Kirkham and Nora Eck...  english   \n",
      "\n",
      "                                            site_url  \\\n",
      "0  https://punchng.com/apomu-king-turns-warmonger...   \n",
      "1  https://punchng.com/jigawa-pdp-group-rebukes-w...   \n",
      "2  https://punchng.com/beyond-the-medias-credibil...   \n",
      "3  https://www.cnn.com/2024/11/14/politics/doug-c...   \n",
      "4  https://www.investing.com/news/commodities-new...   \n",
      "\n",
      "                                        main_img_url  type label  \\\n",
      "0  https://cdn.punchng.com/wp-content/uploads/202...  bias  Real   \n",
      "1  https://cdn.punchng.com/wp-content/uploads/201...  bias  Real   \n",
      "2  https://cdn.punchng.com/wp-content/uploads/202...  bias  Real   \n",
      "3  https://media.cnn.com/api/v1/images/stellar/pr...  bias  Real   \n",
      "4  https://i-invdn-com.investing.com/news/indicat...  bias  Real   \n",
      "\n",
      "                             title_without_stopwords  \\\n",
      "0                     Apomu king turns warmonger PDP   \n",
      "1  Jigawa PDP group rebukes Wike smear campaign L...   \n",
      "2    Beyond media ’ credibility , influence audience   \n",
      "3  Trump picks former congressman Doug Collins se...   \n",
      "4  Exclusive-Trump 's transition team aims kill B...   \n",
      "\n",
      "                              text_without_stopwords  hasImage  \n",
      "0  nobody son nobody , dare caress blade kings sw...         1  \n",
      "1  recently alleged sponsored article entitled , ...         1  \n",
      "2  become tradition election outcomes go major po...         1  \n",
      "3  President-elect Donald Trump announced former ...         1  \n",
      "4  Jarrett Renshaw , Chris Kirkham Nora Eckert ( ...         1  \n",
      "Index(['author', 'published', 'title', 'text', 'language', 'site_url',\n",
      "       'main_img_url', 'type', 'label', 'title_without_stopwords',\n",
      "       'text_without_stopwords', 'hasImage'],\n",
      "      dtype='object')\n"
     ]
    }
   ],
   "source": [
    "df = pd.read_csv('news_dataset3.csv')\n",
    "print(f'Files: {len(df)}')\n",
    "print(df.head(5))  \n",
    "print(df.columns)"
   ]
  },
  {
   "cell_type": "code",
   "execution_count": 5,
   "metadata": {
    "colab": {
     "base_uri": "https://localhost:8080/"
    },
    "id": "X4sqNpxFcvxd",
    "outputId": "250bdcfa-dc3e-43ec-d3bf-fbb2a8b75622"
   },
   "outputs": [
    {
     "name": "stdout",
     "output_type": "stream",
     "text": [
      "Dades desades correctament a 'news_dataset4.csv'\n"
     ]
    }
   ],
   "source": [
    "#notícies de salut\n",
    "url = f'https://newsapi.org/v2/everything?q=health&from=2024-11-01&to=2024-11-14&sortBy=publishedAt&pageSize=100&apiKey={api_key}'\n",
    "response = requests.get(url)\n",
    "\n",
    "if response.status_code == 200:\n",
    "    news_data = response.json()['articles']\n",
    "\n",
    "    news_list = []\n",
    "    for article in news_data:\n",
    "        \n",
    "        title_tokens = word_tokenize(article['title'])\n",
    "        title_without_stopwords = ' '.join([word for word in title_tokens if word.lower() not in stop_words])\n",
    "        text_tokens = word_tokenize(article['content'])\n",
    "        text_without_stopwords = ' '.join([word for word in text_tokens if word.lower() not in stop_words])\n",
    "\n",
    "        has_image = 1 if article.get('urlToImage', '') else 0\n",
    "\n",
    "        news_list.append({\n",
    "            'author': article.get('author', 'No author'),\n",
    "            'published': article['publishedAt'],\n",
    "            'title': article['title'],\n",
    "            'text': article['content'],\n",
    "            'language': article.get('language', 'english'),\n",
    "            'site_url': article['url'],\n",
    "            'main_img_url': article.get('urlToImage', ''),  \n",
    "            'type': 'bias', \n",
    "            'label': 'Real',  \n",
    "            'title_without_stopwords': title_without_stopwords, \n",
    "            'text_without_stopwords' : text_without_stopwords,\n",
    "            'hasImage': has_image\n",
    "\n",
    "\n",
    "        })\n",
    "\n",
    "    df = pd.DataFrame(news_list)\n",
    "    df.to_csv('news_dataset4.csv', index=False)\n",
    "\n",
    "    print(\"Dades desades correctament a 'news_dataset4.csv'\")\n"
   ]
  },
  {
   "cell_type": "code",
   "execution_count": 6,
   "metadata": {
    "colab": {
     "base_uri": "https://localhost:8080/"
    },
    "id": "fFqd9g-wc4YD",
    "outputId": "9ae56c42-98dd-4935-baee-43d88fdc4cda"
   },
   "outputs": [
    {
     "name": "stdout",
     "output_type": "stream",
     "text": [
      "Files: 100\n",
      "                                              author             published  \\\n",
      "0                                 David J. Ley Ph.D.  2024-11-14T23:59:28Z   \n",
      "1                                           CBS News  2024-11-14T23:59:00Z   \n",
      "2  JILL COLVIN Associated Press, AMANDA SEITZ Ass...  2024-11-14T23:58:19Z   \n",
      "3            Laurence Fry | Carryology Senior Editor  2024-11-14T23:58:04Z   \n",
      "4                   AMY BETH HANSON Associated Press  2024-11-14T23:58:04Z   \n",
      "\n",
      "                                               title  \\\n",
      "0           Providing Health Care Across State Lines   \n",
      "1  What to know about RFK Jr.'s agenda after Trum...   \n",
      "2  Trump chooses anti-vaccine activist Robert F. ...   \n",
      "3         Limited Edition MiiR x Carryology Camp Cup   \n",
      "4  Judge hears case over Montana rule blocking tr...   \n",
      "\n",
      "                                                text language  \\\n",
      "0  The United States licensure process for differ...  english   \n",
      "1  Watch CBS News\\r\\nCopyright ©2024 CBS Interact...  english   \n",
      "2  NEW YORK -- President-elect Donald Trump says ...  english   \n",
      "3  Whether it’s a gift for a loved one or somethi...  english   \n",
      "4  HELENA, Mont. -- A state judge in Montana hear...  english   \n",
      "\n",
      "                                            site_url  \\\n",
      "0  https://www.psychologytoday.com/intl/blog/wome...   \n",
      "1  https://www.cbsnews.com/video/rfk-jrs-agenda-t...   \n",
      "2  https://abcnews.go.com/Politics/wireStory/trum...   \n",
      "3  https://www.carryology.com/projects/limited-ed...   \n",
      "4  https://abcnews.go.com/Politics/wireStory/judg...   \n",
      "\n",
      "                                        main_img_url  type label  \\\n",
      "0  https://cdn2.psychologytoday.com/assets/styles...  bias  Real   \n",
      "1  https://assets1.cbsnewsstatic.com/hub/i/r/2024...  bias  Real   \n",
      "2  https://i.abcnewsfe.com/a/4eccdccb-8060-4e6d-9...  bias  Real   \n",
      "3  https://www.carryology.com/wp-content/uploads/...  bias  Real   \n",
      "4  https://s.abcnews.com/images/US/abc_news_defau...  bias  Real   \n",
      "\n",
      "                             title_without_stopwords  \\\n",
      "0           Providing Health Care Across State Lines   \n",
      "1  know RFK Jr. 's agenda Trump 's planned nomina...   \n",
      "2  Trump chooses anti-vaccine activist Robert F. ...   \n",
      "3         Limited Edition MiiR x Carryology Camp Cup   \n",
      "4  Judge hears case Montana rule blocking trans r...   \n",
      "\n",
      "                              text_without_stopwords  hasImage  \n",
      "0  United States licensure process different heal...         1  \n",
      "1  Watch CBS News Copyright ©2024 CBS Interactive...         1  \n",
      "2  NEW YORK -- President-elect Donald Trump says ...         1  \n",
      "3  Whether ’ gift loved one something lil ’ nice ...         1  \n",
      "4  HELENA , Mont . -- state judge Montana heard a...         1  \n",
      "Index(['author', 'published', 'title', 'text', 'language', 'site_url',\n",
      "       'main_img_url', 'type', 'label', 'title_without_stopwords',\n",
      "       'text_without_stopwords', 'hasImage'],\n",
      "      dtype='object')\n"
     ]
    }
   ],
   "source": [
    "df = pd.read_csv('news_dataset4.csv')\n",
    "print(f'Files: {len(df)}')\n",
    "print(df.head(5))  \n",
    "print(df.columns)"
   ]
  },
  {
   "cell_type": "code",
   "execution_count": 7,
   "metadata": {
    "colab": {
     "base_uri": "https://localhost:8080/"
    },
    "id": "YWsOQKmumJx7",
    "outputId": "ed8c29b1-723c-4ef7-c83f-e50e2d9ed630"
   },
   "outputs": [
    {
     "name": "stdout",
     "output_type": "stream",
     "text": [
      "Dades desades correctament a 'news_dataset5.csv'\n"
     ]
    }
   ],
   "source": [
    "# notícies de economia\n",
    "url = f'https://newsapi.org/v2/everything?q=economy&from=2024-11-01&to=2024-11-14&sortBy=publishedAt&pageSize=100&apiKey={api_key}'\n",
    "response = requests.get(url)\n",
    "\n",
    "if response.status_code == 200:\n",
    "    news_data = response.json()['articles']\n",
    "\n",
    "    news_list = []\n",
    "    for article in news_data:\n",
    "        \n",
    "        title_tokens = word_tokenize(article['title'])\n",
    "        title_without_stopwords = ' '.join([word for word in title_tokens if word.lower() not in stop_words])\n",
    "        text_tokens = word_tokenize(article['content'])\n",
    "        text_without_stopwords = ' '.join([word for word in text_tokens if word.lower() not in stop_words])\n",
    "\n",
    "        has_image = 1 if article.get('urlToImage', '') else 0\n",
    "\n",
    "        news_list.append({\n",
    "            'author': article.get('author', 'No author'),\n",
    "            'published': article['publishedAt'],\n",
    "            'title': article['title'],\n",
    "            'text': article['content'],\n",
    "            'language': article.get('language', 'english'),\n",
    "            'site_url': article['url'],\n",
    "            'main_img_url': article.get('urlToImage', ''),  \n",
    "            'type': 'bias',  \n",
    "            'label': 'Real',  \n",
    "            'title_without_stopwords': title_without_stopwords,\n",
    "            'hasImage': has_image\n",
    "        })\n",
    "    df = pd.DataFrame(news_list)\n",
    "    df.to_csv('news_dataset5.csv', index=False)\n",
    "    print(\"Dades desades correctament a 'news_dataset5.csv'\")\n",
    "\n"
   ]
  },
  {
   "cell_type": "code",
   "execution_count": 8,
   "metadata": {
    "colab": {
     "base_uri": "https://localhost:8080/"
    },
    "id": "rpO67NklmPtx",
    "outputId": "6cf1e49b-b097-400f-b0d2-ef33840c01c2"
   },
   "outputs": [
    {
     "name": "stdout",
     "output_type": "stream",
     "text": [
      "Files: 100\n",
      "                author             published  \\\n",
      "0    Brett Worthington  2024-11-14T23:55:46Z   \n",
      "1                  NaN  2024-11-14T23:55:34Z   \n",
      "2      Simon Hankinson  2024-11-14T23:53:43Z   \n",
      "3  breakingthenews.net  2024-11-14T23:53:30Z   \n",
      "4    Gbenga Oloniniran  2024-11-14T23:52:30Z   \n",
      "\n",
      "                                               title  \\\n",
      "0  Albanese hopes Australia could reap the reward...   \n",
      "1  Japan's economy expands annualised 0.9% in Jul...   \n",
      "2  The Truth About Immigration the Left Chooses t...   \n",
      "3               Japanese economy grows by 0.2% in Q3   \n",
      "4  Lagos trains undergraduates in business, digit...   \n",
      "\n",
      "                                                text language  \\\n",
      "0  Australia will seek to exploit Donald Trump's ...  english   \n",
      "1  TOKYO : Japan's economy expanded an annualised...  english   \n",
      "2  Conservatives know that when the American Left...  english   \n",
      "3  Japan's gross domestic product (GDP) increased...  english   \n",
      "4  The Lagos State Governor, Babajide Sanwo-Olu, ...  english   \n",
      "\n",
      "                                            site_url  \\\n",
      "0  https://www.abc.net.au/news/2024-11-15/apec-cl...   \n",
      "1  https://www.channelnewsasia.com/business/japan...   \n",
      "2  https://www.dailysignal.com/2024/11/14/truth-i...   \n",
      "3              https://biztoc.com/x/5e0457024e84826a   \n",
      "4  https://punchng.com/lagos-trains-undergraduate...   \n",
      "\n",
      "                                        main_img_url  type label  \\\n",
      "0  https://live-production.wcms.abc-cdn.net.au/cc...  bias  Real   \n",
      "1  https://onecms-res.cloudinary.com/image/upload...  bias  Real   \n",
      "2  https://www.dailysignal.com/wp-content/uploads...  bias  Real   \n",
      "3     https://biztoc.com/cdn/5e0457024e84826a_s.webp  bias  Real   \n",
      "4  https://cdn.punchng.com/wp-content/uploads/202...  bias  Real   \n",
      "\n",
      "                             title_without_stopwords  hasImage  \n",
      "0  Albanese hopes Australia could reap rewards Tr...         1  \n",
      "1  Japan 's economy expands annualised 0.9 % July...         1  \n",
      "2  Truth Immigration Left Chooses Ignore : Border...         1  \n",
      "3                    Japanese economy grows 0.2 % Q3         1  \n",
      "4  Lagos trains undergraduates business , digital...         1  \n",
      "Index(['author', 'published', 'title', 'text', 'language', 'site_url',\n",
      "       'main_img_url', 'type', 'label', 'title_without_stopwords', 'hasImage'],\n",
      "      dtype='object')\n",
      "Index(['author', 'published', 'title', 'text', 'language', 'site_url',\n",
      "       'main_img_url', 'type', 'label', 'title_without_stopwords', 'hasImage'],\n",
      "      dtype='object')\n"
     ]
    }
   ],
   "source": [
    "df = pd.read_csv('news_dataset5.csv')\n",
    "print(f'Files: {len(df)}')\n",
    "print(df.head(5))  \n",
    "print(df.columns)\n",
    "print(df.columns)"
   ]
  },
  {
   "cell_type": "code",
   "execution_count": 9,
   "metadata": {
    "colab": {
     "base_uri": "https://localhost:8080/"
    },
    "id": "AyU9UrSNmLzY",
    "outputId": "15c9e9dd-2341-4885-8511-045e8dd16af8"
   },
   "outputs": [
    {
     "name": "stdout",
     "output_type": "stream",
     "text": [
      "Dades desades correctament a 'news_dataset6.csv'\n"
     ]
    }
   ],
   "source": [
    "#notícies d'esports\n",
    "url = f'https://newsapi.org/v2/everything?q=sports&from=2024-11-01&to=2024-11-14&sortBy=publishedAt&pageSize=100&apiKey={api_key}'\n",
    "response = requests.get(url)\n",
    "\n",
    "if response.status_code == 200:\n",
    "    news_data = response.json()['articles']\n",
    "\n",
    "    news_list = []\n",
    "    for article in news_data:\n",
    "        \n",
    "        title_tokens = word_tokenize(article['title'])\n",
    "        title_without_stopwords = ' '.join([word for word in title_tokens if word.lower() not in stop_words])\n",
    "        text_tokens = word_tokenize(article['content'])\n",
    "        text_without_stopwords = ' '.join([word for word in text_tokens if word.lower() not in stop_words])\n",
    "\n",
    "        has_image = 1 if article.get('urlToImage', '') else 0\n",
    "\n",
    "        news_list.append({\n",
    "            'author': article.get('author', 'No author'),\n",
    "            'published': article['publishedAt'],\n",
    "            'title': article['title'],\n",
    "            'text': article['content'],\n",
    "            'language': article.get('language', 'english'),\n",
    "            'site_url': article['url'],\n",
    "            'main_img_url': article.get('urlToImage', ''),  \n",
    "            'type': 'bias', \n",
    "            'label': 'Real',  \n",
    "            'title_without_stopwords': title_without_stopwords, \n",
    "            'text_without_stopwords' : text_without_stopwords,\n",
    "            'hasImage': has_image\n",
    "        })\n",
    "\n",
    "    df = pd.DataFrame(news_list)\n",
    "    df.to_csv('news_dataset6.csv', index=False)\n",
    "\n",
    "    print(\"Dades desades correctament a 'news_dataset6.csv'\")\n"
   ]
  },
  {
   "cell_type": "code",
   "execution_count": 10,
   "metadata": {
    "colab": {
     "base_uri": "https://localhost:8080/"
    },
    "id": "u83FyClDmRrt",
    "outputId": "54910185-2096-4428-b2f0-b8dedb24148b"
   },
   "outputs": [
    {
     "name": "stdout",
     "output_type": "stream",
     "text": [
      "Files: 100\n",
      "                author             published  \\\n",
      "0           Jason Cruz  2024-11-14T23:57:36Z   \n",
      "1                  NaN  2024-11-14T23:57:13Z   \n",
      "2  The Tuscaloosa News  2024-11-14T23:54:17Z   \n",
      "3    Jeff John Roberts  2024-11-14T23:54:16Z   \n",
      "4      Simon Hankinson  2024-11-14T23:53:43Z   \n",
      "\n",
      "                                               title  \\\n",
      "0                   Paul-Tyson is getting heavy buzz   \n",
      "1  Chiefs kicker Harrison Butker reportedly out t...   \n",
      "2  Four-star 2025 linebacker flips from Alabama f...   \n",
      "3  On election night Polymarket’s 26 year old fou...   \n",
      "4  The Truth About Immigration the Left Chooses t...   \n",
      "\n",
      "                                                text language  \\\n",
      "0  The fight between Mike Tyson and Jake Paul is ...  english   \n",
      "1  Kansas City Chiefs kicker Harrison Butker is d...  english   \n",
      "2  Four-star linebacker Dawson Merritt has flippe...  english   \n",
      "3  In early November, Shayne Coplan had a week he...  english   \n",
      "4  Conservatives know that when the American Left...  english   \n",
      "\n",
      "                                            site_url  \\\n",
      "0  https://mmapayout.com/2024/11/14/paul-tyson-is...   \n",
      "1  https://www.foxsports.com/stories/nfl/chiefs-k...   \n",
      "2  https://www.tuscaloosanews.com/story/sports/co...   \n",
      "3  https://fortune.com/crypto/2024/11/14/polymark...   \n",
      "4  https://www.dailysignal.com/2024/11/14/truth-i...   \n",
      "\n",
      "                                        main_img_url  type label  \\\n",
      "0                                                NaN  bias  Real   \n",
      "1  https://a57.foxsports.com/statics.foxsports.co...  bias  Real   \n",
      "2  https://s.yimg.com/ny/api/res/1.2/1N9KEkuDqdrm...  bias  Real   \n",
      "3  https://fortune.com/img-assets/wp-content/uplo...  bias  Real   \n",
      "4  https://www.dailysignal.com/wp-content/uploads...  bias  Real   \n",
      "\n",
      "                             title_without_stopwords  \\\n",
      "0                      Paul-Tyson getting heavy buzz   \n",
      "1  Chiefs kicker Harrison Butker reportedly three...   \n",
      "2  Four-star 2025 linebacker flips Alabama footba...   \n",
      "3  election night Polymarket ’ 26 year old founde...   \n",
      "4  Truth Immigration Left Chooses Ignore : Border...   \n",
      "\n",
      "                              text_without_stopwords  hasImage  \n",
      "0  fight Mike Tyson Jake Paul set tomorrow airing...         0  \n",
      "1  Kansas City Chiefs kicker Harrison Butker deal...         1  \n",
      "2  Four-star linebacker Dawson Merritt flipped Al...         1  \n",
      "3  early November , Shayne Coplan week remember r...         1  \n",
      "4  Conservatives know American Left wants us conv...         1  \n",
      "Index(['author', 'published', 'title', 'text', 'language', 'site_url',\n",
      "       'main_img_url', 'type', 'label', 'title_without_stopwords',\n",
      "       'text_without_stopwords', 'hasImage'],\n",
      "      dtype='object')\n"
     ]
    }
   ],
   "source": [
    "df = pd.read_csv('news_dataset6.csv')\n",
    "print(f'Files: {len(df)}')\n",
    "print(df.head(5))  \n",
    "print(df.columns)"
   ]
  },
  {
   "cell_type": "code",
   "execution_count": 11,
   "metadata": {},
   "outputs": [
    {
     "name": "stderr",
     "output_type": "stream",
     "text": [
      "c:\\Users\\Maria Muñoz\\Documents\\MatCADtercer\\APC\\kaggle\\.venv\\Lib\\site-packages\\tqdm\\auto.py:21: TqdmWarning: IProgress not found. Please update jupyter and ipywidgets. See https://ipywidgets.readthedocs.io/en/stable/user_install.html\n",
      "  from .autonotebook import tqdm as notebook_tqdm\n"
     ]
    },
    {
     "name": "stdout",
     "output_type": "stream",
     "text": [
      "Path to dataset files: C:\\Users\\Maria Muñoz\\.cache\\kagglehub\\datasets\\ruchi798\\source-based-news-classification\\versions\\7\n"
     ]
    }
   ],
   "source": [
    "import os\n",
    "import kagglehub\n",
    "\n",
    "# Download latest version\n",
    "path = kagglehub.dataset_download(\"ruchi798/source-based-news-classification\")\n",
    "\n",
    "print(\"Path to dataset files:\", path)"
   ]
  },
  {
   "cell_type": "code",
   "execution_count": 12,
   "metadata": {
    "colab": {
     "base_uri": "https://localhost:8080/"
    },
    "id": "z_iWxOwDpRnJ",
    "outputId": "db4bbe1f-a357-40d6-b827-bf49391d6616"
   },
   "outputs": [
    {
     "name": "stdout",
     "output_type": "stream",
     "text": [
      "Index(['author', 'published', 'title', 'text', 'language', 'site_url',\n",
      "       'main_img_url', 'type', 'label', 'title_without_stopwords',\n",
      "       'text_without_stopwords', 'hasImage'],\n",
      "      dtype='object')\n",
      "Files: 2096\n"
     ]
    }
   ],
   "source": [
    "import os\n",
    "file_path = os.path.join(path, 'news_articles.csv')\n",
    "df = pd.read_csv(file_path)\n",
    "\n",
    "print(df.columns)\n",
    "print(f'Files: {len(df)}')"
   ]
  },
  {
   "cell_type": "markdown",
   "metadata": {},
   "source": [
    "Juntem tots els fitxers obtinguts"
   ]
  },
  {
   "cell_type": "code",
   "execution_count": 13,
   "metadata": {
    "colab": {
     "base_uri": "https://localhost:8080/"
    },
    "id": "oC8SjFqBpiJ3",
    "outputId": "20c6bf9d-73a0-4d55-a795-09d03e053e42"
   },
   "outputs": [],
   "source": [
    "#Creem dataset amb tots els fitxers \n",
    "file_names = [os.path.join(path, 'news_articles.csv'), 'news_dataset2.csv', 'news_dataset3.csv','news_dataset4.csv','news_dataset5.csv','news_dataset6.csv']\n",
    "dataframes = [pd.read_csv(file) for file in file_names]\n",
    "combined_df = pd.concat(dataframes, ignore_index=True)\n",
    "\n",
    "# Guardem dataset combinat amb un nom diferent per evitar conflictes\n",
    "combined_df.to_csv('combined_news_dataset_new.csv', index=False)\n"
   ]
  },
  {
   "cell_type": "code",
   "execution_count": 14,
   "metadata": {
    "colab": {
     "base_uri": "https://localhost:8080/"
    },
    "id": "xor0VRRps7H-",
    "outputId": "9a243177-c926-401d-ca98-8319d2831f25"
   },
   "outputs": [
    {
     "name": "stdout",
     "output_type": "stream",
     "text": [
      "Files: 2596\n",
      "Index(['author', 'published', 'title', 'text', 'language', 'site_url',\n",
      "       'main_img_url', 'type', 'label', 'title_without_stopwords',\n",
      "       'text_without_stopwords', 'hasImage'],\n",
      "      dtype='object')\n"
     ]
    }
   ],
   "source": [
    "df = pd.read_csv('combined_news_dataset.csv')\n",
    "print(f'Files: {len(df)}')\n",
    "print(df.columns)"
   ]
  },
  {
   "cell_type": "code",
   "execution_count": 15,
   "metadata": {
    "colab": {
     "base_uri": "https://localhost:8080/",
     "height": 649
    },
    "id": "hR5Ooqy9jocH",
    "outputId": "fceb0d1a-4b2c-4278-9153-e3a84ed88888"
   },
   "outputs": [
    {
     "data": {
      "text/html": [
       "<div>\n",
       "<style scoped>\n",
       "    .dataframe tbody tr th:only-of-type {\n",
       "        vertical-align: middle;\n",
       "    }\n",
       "\n",
       "    .dataframe tbody tr th {\n",
       "        vertical-align: top;\n",
       "    }\n",
       "\n",
       "    .dataframe thead th {\n",
       "        text-align: right;\n",
       "    }\n",
       "</style>\n",
       "<table border=\"1\" class=\"dataframe\">\n",
       "  <thead>\n",
       "    <tr style=\"text-align: right;\">\n",
       "      <th></th>\n",
       "      <th>author</th>\n",
       "      <th>published</th>\n",
       "      <th>title</th>\n",
       "      <th>text</th>\n",
       "      <th>language</th>\n",
       "      <th>site_url</th>\n",
       "      <th>main_img_url</th>\n",
       "      <th>type</th>\n",
       "      <th>label</th>\n",
       "      <th>title_without_stopwords</th>\n",
       "      <th>text_without_stopwords</th>\n",
       "      <th>hasImage</th>\n",
       "    </tr>\n",
       "  </thead>\n",
       "  <tbody>\n",
       "    <tr>\n",
       "      <th>0</th>\n",
       "      <td>Barracuda Brigade</td>\n",
       "      <td>2016-10-26T21:41:00.000+03:00</td>\n",
       "      <td>muslims busted they stole millions in govt ben...</td>\n",
       "      <td>print they should pay all the back all the mon...</td>\n",
       "      <td>english</td>\n",
       "      <td>100percentfedup.com</td>\n",
       "      <td>http://bb4sp.com/wp-content/uploads/2016/10/Fu...</td>\n",
       "      <td>bias</td>\n",
       "      <td>Real</td>\n",
       "      <td>muslims busted stole millions govt benefits</td>\n",
       "      <td>print pay back money plus interest entire fami...</td>\n",
       "      <td>1.0</td>\n",
       "    </tr>\n",
       "    <tr>\n",
       "      <th>1</th>\n",
       "      <td>reasoning with facts</td>\n",
       "      <td>2016-10-29T08:47:11.259+03:00</td>\n",
       "      <td>re why did attorney general loretta lynch plea...</td>\n",
       "      <td>why did attorney general loretta lynch plead t...</td>\n",
       "      <td>english</td>\n",
       "      <td>100percentfedup.com</td>\n",
       "      <td>http://bb4sp.com/wp-content/uploads/2016/10/Fu...</td>\n",
       "      <td>bias</td>\n",
       "      <td>Real</td>\n",
       "      <td>attorney general loretta lynch plead fifth</td>\n",
       "      <td>attorney general loretta lynch plead fifth bar...</td>\n",
       "      <td>1.0</td>\n",
       "    </tr>\n",
       "    <tr>\n",
       "      <th>2</th>\n",
       "      <td>Barracuda Brigade</td>\n",
       "      <td>2016-10-31T01:41:49.479+02:00</td>\n",
       "      <td>breaking weiner cooperating with fbi on hillar...</td>\n",
       "      <td>red state  \\nfox news sunday reported this mor...</td>\n",
       "      <td>english</td>\n",
       "      <td>100percentfedup.com</td>\n",
       "      <td>http://bb4sp.com/wp-content/uploads/2016/10/Fu...</td>\n",
       "      <td>bias</td>\n",
       "      <td>Real</td>\n",
       "      <td>breaking weiner cooperating fbi hillary email ...</td>\n",
       "      <td>red state fox news sunday reported morning ant...</td>\n",
       "      <td>1.0</td>\n",
       "    </tr>\n",
       "    <tr>\n",
       "      <th>3</th>\n",
       "      <td>Fed Up</td>\n",
       "      <td>2016-11-01T05:22:00.000+02:00</td>\n",
       "      <td>pin drop speech by father of daughter kidnappe...</td>\n",
       "      <td>email kayla mueller was a prisoner and torture...</td>\n",
       "      <td>english</td>\n",
       "      <td>100percentfedup.com</td>\n",
       "      <td>http://100percentfedup.com/wp-content/uploads/...</td>\n",
       "      <td>bias</td>\n",
       "      <td>Real</td>\n",
       "      <td>pin drop speech father daughter kidnapped kill...</td>\n",
       "      <td>email kayla mueller prisoner tortured isis cha...</td>\n",
       "      <td>1.0</td>\n",
       "    </tr>\n",
       "    <tr>\n",
       "      <th>4</th>\n",
       "      <td>Fed Up</td>\n",
       "      <td>2016-11-01T21:56:00.000+02:00</td>\n",
       "      <td>fantastic trumps  point plan to reform healthc...</td>\n",
       "      <td>email healthcare reform to make america great ...</td>\n",
       "      <td>english</td>\n",
       "      <td>100percentfedup.com</td>\n",
       "      <td>http://100percentfedup.com/wp-content/uploads/...</td>\n",
       "      <td>bias</td>\n",
       "      <td>Real</td>\n",
       "      <td>fantastic trumps point plan reform healthcare ...</td>\n",
       "      <td>email healthcare reform make america great sin...</td>\n",
       "      <td>1.0</td>\n",
       "    </tr>\n",
       "  </tbody>\n",
       "</table>\n",
       "</div>"
      ],
      "text/plain": [
       "                 author                      published  \\\n",
       "0     Barracuda Brigade  2016-10-26T21:41:00.000+03:00   \n",
       "1  reasoning with facts  2016-10-29T08:47:11.259+03:00   \n",
       "2     Barracuda Brigade  2016-10-31T01:41:49.479+02:00   \n",
       "3                Fed Up  2016-11-01T05:22:00.000+02:00   \n",
       "4                Fed Up  2016-11-01T21:56:00.000+02:00   \n",
       "\n",
       "                                               title  \\\n",
       "0  muslims busted they stole millions in govt ben...   \n",
       "1  re why did attorney general loretta lynch plea...   \n",
       "2  breaking weiner cooperating with fbi on hillar...   \n",
       "3  pin drop speech by father of daughter kidnappe...   \n",
       "4  fantastic trumps  point plan to reform healthc...   \n",
       "\n",
       "                                                text language  \\\n",
       "0  print they should pay all the back all the mon...  english   \n",
       "1  why did attorney general loretta lynch plead t...  english   \n",
       "2  red state  \\nfox news sunday reported this mor...  english   \n",
       "3  email kayla mueller was a prisoner and torture...  english   \n",
       "4  email healthcare reform to make america great ...  english   \n",
       "\n",
       "              site_url                                       main_img_url  \\\n",
       "0  100percentfedup.com  http://bb4sp.com/wp-content/uploads/2016/10/Fu...   \n",
       "1  100percentfedup.com  http://bb4sp.com/wp-content/uploads/2016/10/Fu...   \n",
       "2  100percentfedup.com  http://bb4sp.com/wp-content/uploads/2016/10/Fu...   \n",
       "3  100percentfedup.com  http://100percentfedup.com/wp-content/uploads/...   \n",
       "4  100percentfedup.com  http://100percentfedup.com/wp-content/uploads/...   \n",
       "\n",
       "   type label                            title_without_stopwords  \\\n",
       "0  bias  Real        muslims busted stole millions govt benefits   \n",
       "1  bias  Real         attorney general loretta lynch plead fifth   \n",
       "2  bias  Real  breaking weiner cooperating fbi hillary email ...   \n",
       "3  bias  Real  pin drop speech father daughter kidnapped kill...   \n",
       "4  bias  Real  fantastic trumps point plan reform healthcare ...   \n",
       "\n",
       "                              text_without_stopwords  hasImage  \n",
       "0  print pay back money plus interest entire fami...       1.0  \n",
       "1  attorney general loretta lynch plead fifth bar...       1.0  \n",
       "2  red state fox news sunday reported morning ant...       1.0  \n",
       "3  email kayla mueller prisoner tortured isis cha...       1.0  \n",
       "4  email healthcare reform make america great sin...       1.0  "
      ]
     },
     "execution_count": 15,
     "metadata": {},
     "output_type": "execute_result"
    }
   ],
   "source": [
    "df.head()"
   ]
  },
  {
   "cell_type": "code",
   "execution_count": 16,
   "metadata": {
    "colab": {
     "base_uri": "https://localhost:8080/",
     "height": 751
    },
    "id": "kwxndAexjjoT",
    "outputId": "5174b2e2-033f-455d-f13b-8cdd75d3daac"
   },
   "outputs": [
    {
     "data": {
      "text/html": [
       "<div>\n",
       "<style scoped>\n",
       "    .dataframe tbody tr th:only-of-type {\n",
       "        vertical-align: middle;\n",
       "    }\n",
       "\n",
       "    .dataframe tbody tr th {\n",
       "        vertical-align: top;\n",
       "    }\n",
       "\n",
       "    .dataframe thead th {\n",
       "        text-align: right;\n",
       "    }\n",
       "</style>\n",
       "<table border=\"1\" class=\"dataframe\">\n",
       "  <thead>\n",
       "    <tr style=\"text-align: right;\">\n",
       "      <th></th>\n",
       "      <th>author</th>\n",
       "      <th>published</th>\n",
       "      <th>title</th>\n",
       "      <th>text</th>\n",
       "      <th>language</th>\n",
       "      <th>site_url</th>\n",
       "      <th>main_img_url</th>\n",
       "      <th>type</th>\n",
       "      <th>label</th>\n",
       "      <th>title_without_stopwords</th>\n",
       "      <th>text_without_stopwords</th>\n",
       "      <th>hasImage</th>\n",
       "    </tr>\n",
       "  </thead>\n",
       "  <tbody>\n",
       "    <tr>\n",
       "      <th>2591</th>\n",
       "      <td>Andrew Rizzo</td>\n",
       "      <td>2024-11-14T22:00:12Z</td>\n",
       "      <td>Jaden Smith Goes “Up In The Clouds” With Next ...</td>\n",
       "      <td>Jaden Smith is releasing his next New Balance ...</td>\n",
       "      <td>english</td>\n",
       "      <td>https://sneakernews.com/2024/11/14/jaden-smith...</td>\n",
       "      <td>https://sneakernews.com/wp-content/uploads/202...</td>\n",
       "      <td>bias</td>\n",
       "      <td>Real</td>\n",
       "      <td>Jaden Smith Goes “ Clouds ” Next New Balance C...</td>\n",
       "      <td>Jaden Smith releasing next New Balance collabo...</td>\n",
       "      <td>1.0</td>\n",
       "    </tr>\n",
       "    <tr>\n",
       "      <th>2592</th>\n",
       "      <td>Admin Martin</td>\n",
       "      <td>2024-11-14T22:00:00Z</td>\n",
       "      <td>Arsenal star wants players union to help solve...</td>\n",
       "      <td>Arsenal goalkeeper David Raya has joined the r...</td>\n",
       "      <td>english</td>\n",
       "      <td>https://www.justarsenal.com/arsenal-star-wants...</td>\n",
       "      <td>https://icdn.justarsenal.com/wp-content/upload...</td>\n",
       "      <td>bias</td>\n",
       "      <td>Real</td>\n",
       "      <td>Arsenal star wants players union help solve fi...</td>\n",
       "      <td>Arsenal goalkeeper David Raya joined rising ch...</td>\n",
       "      <td>1.0</td>\n",
       "    </tr>\n",
       "    <tr>\n",
       "      <th>2593</th>\n",
       "      <td>Sooners Wire</td>\n",
       "      <td>2024-11-14T21:59:09Z</td>\n",
       "      <td>3 College Football games to watch in Week 12</td>\n",
       "      <td>Nov 5, 2022; Athens, Georgia, USA; Tennessee V...</td>\n",
       "      <td>english</td>\n",
       "      <td>https://soonerswire.usatoday.com/2024/11/14/ok...</td>\n",
       "      <td>https://s.yimg.com/ny/api/res/1.2/Hltlg2LCJwcN...</td>\n",
       "      <td>bias</td>\n",
       "      <td>Real</td>\n",
       "      <td>3 College Football games watch Week 12</td>\n",
       "      <td>Nov 5 , 2022 ; Athens , Georgia , USA ; Tennes...</td>\n",
       "      <td>1.0</td>\n",
       "    </tr>\n",
       "    <tr>\n",
       "      <th>2594</th>\n",
       "      <td>Keith Jenkins</td>\n",
       "      <td>2024-11-14T21:58:38Z</td>\n",
       "      <td>What is TGL, the golf league formed by Woods, ...</td>\n",
       "      <td>Nov 14, 2024, 04:58 PM ET\\r\\nTwo of the bigges...</td>\n",
       "      <td>english</td>\n",
       "      <td>https://www.espn.com/golf/story/_/id/42391272/...</td>\n",
       "      <td>https://a4.espncdn.com/combiner/i?img=%2Fphoto...</td>\n",
       "      <td>bias</td>\n",
       "      <td>Real</td>\n",
       "      <td>TGL , golf league formed Woods , McIlroy ?</td>\n",
       "      <td>Nov 14 , 2024 , 04:58 PM ET Two biggest names ...</td>\n",
       "      <td>1.0</td>\n",
       "    </tr>\n",
       "    <tr>\n",
       "      <th>2595</th>\n",
       "      <td>Jared Dubin</td>\n",
       "      <td>2024-11-14T21:54:18Z</td>\n",
       "      <td>Chiefs' Harrison Butker likely IR bound with k...</td>\n",
       "      <td>The Kansas City Chiefs will be without one of ...</td>\n",
       "      <td>english</td>\n",
       "      <td>https://www.cbssports.com/nfl/news/chiefs-harr...</td>\n",
       "      <td>https://sportshub.cbsistatic.com/i/r/2024/11/1...</td>\n",
       "      <td>bias</td>\n",
       "      <td>Real</td>\n",
       "      <td>Chiefs ' Harrison Butker likely IR bound knee ...</td>\n",
       "      <td>Kansas City Chiefs without one NFL 's best kic...</td>\n",
       "      <td>1.0</td>\n",
       "    </tr>\n",
       "  </tbody>\n",
       "</table>\n",
       "</div>"
      ],
      "text/plain": [
       "             author             published  \\\n",
       "2591   Andrew Rizzo  2024-11-14T22:00:12Z   \n",
       "2592   Admin Martin  2024-11-14T22:00:00Z   \n",
       "2593   Sooners Wire  2024-11-14T21:59:09Z   \n",
       "2594  Keith Jenkins  2024-11-14T21:58:38Z   \n",
       "2595    Jared Dubin  2024-11-14T21:54:18Z   \n",
       "\n",
       "                                                  title  \\\n",
       "2591  Jaden Smith Goes “Up In The Clouds” With Next ...   \n",
       "2592  Arsenal star wants players union to help solve...   \n",
       "2593       3 College Football games to watch in Week 12   \n",
       "2594  What is TGL, the golf league formed by Woods, ...   \n",
       "2595  Chiefs' Harrison Butker likely IR bound with k...   \n",
       "\n",
       "                                                   text language  \\\n",
       "2591  Jaden Smith is releasing his next New Balance ...  english   \n",
       "2592  Arsenal goalkeeper David Raya has joined the r...  english   \n",
       "2593  Nov 5, 2022; Athens, Georgia, USA; Tennessee V...  english   \n",
       "2594  Nov 14, 2024, 04:58 PM ET\\r\\nTwo of the bigges...  english   \n",
       "2595  The Kansas City Chiefs will be without one of ...  english   \n",
       "\n",
       "                                               site_url  \\\n",
       "2591  https://sneakernews.com/2024/11/14/jaden-smith...   \n",
       "2592  https://www.justarsenal.com/arsenal-star-wants...   \n",
       "2593  https://soonerswire.usatoday.com/2024/11/14/ok...   \n",
       "2594  https://www.espn.com/golf/story/_/id/42391272/...   \n",
       "2595  https://www.cbssports.com/nfl/news/chiefs-harr...   \n",
       "\n",
       "                                           main_img_url  type label  \\\n",
       "2591  https://sneakernews.com/wp-content/uploads/202...  bias  Real   \n",
       "2592  https://icdn.justarsenal.com/wp-content/upload...  bias  Real   \n",
       "2593  https://s.yimg.com/ny/api/res/1.2/Hltlg2LCJwcN...  bias  Real   \n",
       "2594  https://a4.espncdn.com/combiner/i?img=%2Fphoto...  bias  Real   \n",
       "2595  https://sportshub.cbsistatic.com/i/r/2024/11/1...  bias  Real   \n",
       "\n",
       "                                title_without_stopwords  \\\n",
       "2591  Jaden Smith Goes “ Clouds ” Next New Balance C...   \n",
       "2592  Arsenal star wants players union help solve fi...   \n",
       "2593             3 College Football games watch Week 12   \n",
       "2594         TGL , golf league formed Woods , McIlroy ?   \n",
       "2595  Chiefs ' Harrison Butker likely IR bound knee ...   \n",
       "\n",
       "                                 text_without_stopwords  hasImage  \n",
       "2591  Jaden Smith releasing next New Balance collabo...       1.0  \n",
       "2592  Arsenal goalkeeper David Raya joined rising ch...       1.0  \n",
       "2593  Nov 5 , 2022 ; Athens , Georgia , USA ; Tennes...       1.0  \n",
       "2594  Nov 14 , 2024 , 04:58 PM ET Two biggest names ...       1.0  \n",
       "2595  Kansas City Chiefs without one NFL 's best kic...       1.0  "
      ]
     },
     "execution_count": 16,
     "metadata": {},
     "output_type": "execute_result"
    }
   ],
   "source": [
    "df.tail()"
   ]
  },
  {
   "cell_type": "markdown",
   "metadata": {
    "id": "8IXDjxq8H3Su"
   },
   "source": [
    "Veiem que, en fer el scraping, la data de publicació de les diferents notícies (present a la columna *published*) està expressada en zones horàries diferents i amb un format diferent. Algunes dates estan expressades en UTC (Coordinated Universal Time), mentre que d'altres utilitzen altres zones horàries locals, com l'horari d'Europa o d'Amèrica, que tenen desplaçaments respecte a UTC.\n",
    "\n",
    "Per solucionar aquesta diversitat de formats i zones horàries, transformem totes les dades a UTC(per ser universal) i en format ISO 8601 (`AAAA-MM-DDTHH:mm:ss+00:00`)."
   ]
  },
  {
   "cell_type": "code",
   "execution_count": 17,
   "metadata": {
    "colab": {
     "base_uri": "https://localhost:8080/"
    },
    "id": "TltB7r94Klny",
    "outputId": "c374b5aa-7b45-4035-985c-6976106f9233"
   },
   "outputs": [
    {
     "name": "stdout",
     "output_type": "stream",
     "text": [
      "Nombre de dates no convertides: 2\n",
      "Dates que no s'han pogut convertir:\n",
      "848    NaT\n",
      "1838   NaT\n",
      "Name: published, dtype: datetime64[ns, UTC]\n",
      "0          2016-10-26 18:41:00+00:00\n",
      "1   2016-10-29 05:47:11.259000+00:00\n",
      "2   2016-10-30 23:41:49.479000+00:00\n",
      "3          2016-11-01 03:22:00+00:00\n",
      "4          2016-11-01 19:56:00+00:00\n",
      "Name: published, dtype: datetime64[ns, UTC]\n",
      "2591   2024-11-14 22:00:12+00:00\n",
      "2592   2024-11-14 22:00:00+00:00\n",
      "2593   2024-11-14 21:59:09+00:00\n",
      "2594   2024-11-14 21:58:38+00:00\n",
      "2595   2024-11-14 21:54:18+00:00\n",
      "Name: published, dtype: datetime64[ns, UTC]\n"
     ]
    }
   ],
   "source": [
    "from dateutil import parser\n",
    "import numpy as np\n",
    "\n",
    "def parse_date(date_str):\n",
    "    try:\n",
    "        return parser.parse(date_str)\n",
    "    except (ValueError, TypeError):\n",
    "        return None  # Retorna None si la data no es pot convertir\n",
    "\n",
    "df['published'] = df['published'].apply(lambda x: parse_date(x) if pd.notnull(x) else x)\n",
    "\n",
    "num_nat = df['published'].isna().sum()\n",
    "print(f\"Nombre de dates no convertides: {num_nat}\")\n",
    "\n",
    "# Converteix la columna 'published' a un tipus de pandas amb suport de zona horària\n",
    "df['published'] = pd.to_datetime(df['published'], utc=True, errors='coerce')\n",
    "\n",
    "dates_no_convertides = df[df['published'].isna()]['published']\n",
    "print(\"Dates que no s'han pogut convertir:\")\n",
    "print(dates_no_convertides)\n",
    "\n",
    "print(df['published'].head())\n",
    "print(df['published'].tail())"
   ]
  },
  {
   "cell_type": "code",
   "execution_count": 18,
   "metadata": {
    "colab": {
     "base_uri": "https://localhost:8080/"
    },
    "id": "JyDKVkJYLSBe",
    "outputId": "c7036736-8006-4c6b-ab02-094babd270cd"
   },
   "outputs": [
    {
     "name": "stdout",
     "output_type": "stream",
     "text": [
      "Dates originals que no s'han pogut convertir:\n",
      "848     http://davidduke.com/wp-content/uploads/2014/0...\n",
      "1838    http://theeconomiccollapseblog.com/wp-content/...\n",
      "Name: published, dtype: object\n"
     ]
    }
   ],
   "source": [
    "df_no_conv = pd.read_csv('combined_news_dataset.csv')\n",
    "dates_no_convertides_originals = df_no_conv.loc[[848, 1838], 'published']\n",
    "print(\"Dates originals que no s'han pogut convertir:\")\n",
    "print(dates_no_convertides_originals)\n",
    "#les dates que no s'han pogut convertir és perquè són links"
   ]
  },
  {
   "cell_type": "markdown",
   "metadata": {
    "id": "VXERK99LM8Cp"
   },
   "source": [
    "També observem que hi ha autors que no són Nans pero que tenen assignat 'No Author' o '-NO AUTHOR-'. Per poder tractar les dades adequadament, assignarem aquests valors com Nans. El mateix amb les notícies sense imatge assignades com 'No Image URL' i amb el títol 'no title', i pel títol i el text [Removed]."
   ]
  },
  {
   "cell_type": "code",
   "execution_count": 19,
   "metadata": {
    "id": "XnALierJNVhc"
   },
   "outputs": [],
   "source": [
    "df['author'] = df['author'].replace(['No Author', '-NO AUTHOR-'], np.nan)\n",
    "df['main_img_url'] = df['main_img_url'].replace(['No Image URL'], np.nan)\n",
    "df['title'] = df['title'].replace(['no title', '[Removed]'], np.nan)\n",
    "df['text'] = df['text'].replace(['[Removed]'], np.nan)\n",
    "df['text_without_stopwords'] = df['text_without_stopwords'].replace(['[ Removed ]'], np.nan)"
   ]
  }
 ],
 "metadata": {
  "colab": {
   "provenance": []
  },
  "kernelspec": {
   "display_name": ".venv",
   "language": "python",
   "name": "python3"
  },
  "language_info": {
   "codemirror_mode": {
    "name": "ipython",
    "version": 3
   },
   "file_extension": ".py",
   "mimetype": "text/x-python",
   "name": "python",
   "nbconvert_exporter": "python",
   "pygments_lexer": "ipython3",
   "version": "3.13.0"
  }
 },
 "nbformat": 4,
 "nbformat_minor": 0
}
